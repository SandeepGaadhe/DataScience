{
 "cells": [
  {
   "cell_type": "markdown",
   "metadata": {},
   "source": [
    "<font style = \"font-weight : bold; font-size : 24px; color : black \">Terminologies<font>"
   ]
  },
  {
   "cell_type": "markdown",
   "metadata": {},
   "source": [
    "<hr style=\"border: solid rgb(255,255,255) 1.0px;height: 2.0px;\"/>"
   ]
  },
  {
   "cell_type": "markdown",
   "metadata": {},
   "source": [
    "<font style = \"font-weight : bold; font-size : 18px; color : black \">Decision Trees<font>\n",
    "    \n",
    "    \n",
    "<font style = \"font-weight : bold; font-size : 14px; color : blue \"> URL <font> \n",
    "    \n",
    "    https://www.youtube.com/watch?v=7VeUPuFGJHk&t=475s\n",
    "    \n",
    "<font style = \"font-weight : bold; font-size : 14px; color : blue \">Points to Remember<font>\n",
    "    \n",
    "        1. A Decision Tree can have repetitive leaf nodes.\n",
    "    \n",
    "        2. Root Node : Where the tree starts\n",
    "           Internal Node : Where node arrow point-in and points-out.\n",
    "           Leaf Node : Where node arrow points-in only.\n",
    "          \n",
    "        3. Impure : If none of the leaf node predicts 100% classify a lable than all the leaf node are consider \"Impure. An \n",
    "        \n",
    "        Example would be, \n",
    "        \n",
    "        If appearing for an exam and learning from DP, some student may Pass some may fail. Than Learning \n",
    "        from DP >> will have Pass for some as Yes and some for No. This is an IMPURE leaf node.\n",
    "        \n",
    "        Lying down on a moving road >> Chances of accidents >> all data rows will say yes. Hence this data \n",
    "        set would pe PURE. \n",
    "        \n",
    "        4. Gini (read Jini) Index : Measurement for impurity\n",
    "        \n",
    "        5. Identify Root Node : Feature that has lowest impurity (Gini Index) is considered as root node. Subsequently, \n",
    "        internal nodes are identify with next-best Gini Index and so no. If the impurity is lower than the Gini Index of \n",
    "        feature than we make it as leaf node. (video section : 12:30 min to 14 min)\n",
    "        "
   ]
  },
  {
   "cell_type": "code",
   "execution_count": null,
   "metadata": {},
   "outputs": [],
   "source": []
  },
  {
   "cell_type": "code",
   "execution_count": null,
   "metadata": {},
   "outputs": [],
   "source": []
  }
 ],
 "metadata": {
  "kernelspec": {
   "display_name": "Python 3",
   "language": "python",
   "name": "python3"
  },
  "language_info": {
   "codemirror_mode": {
    "name": "ipython",
    "version": 3
   },
   "file_extension": ".py",
   "mimetype": "text/x-python",
   "name": "python",
   "nbconvert_exporter": "python",
   "pygments_lexer": "ipython3",
   "version": "3.7.4"
  }
 },
 "nbformat": 4,
 "nbformat_minor": 2
}
