{
 "cells": [
  {
   "cell_type": "markdown",
   "metadata": {},
   "source": [
    "### Extract substring from a string\n",
    "\n",
    "Braund, Mr. Owen Harris >> Extract Mr.\n",
    "\n",
    "OR\n",
    "\n",
    "Extract Substring based on multiple inputs\n",
    "\n",
    "Braund, Mr. Owen Harris >> Extract Mr.\n",
    "Braund, Mrs. Owen Harris >> Extract Mrs."
   ]
  },
  {
   "cell_type": "code",
   "execution_count": null,
   "metadata": {},
   "outputs": [],
   "source": []
  }
 ],
 "metadata": {
  "kernelspec": {
   "display_name": "Python 3",
   "language": "python",
   "name": "python3"
  },
  "language_info": {
   "codemirror_mode": {
    "name": "ipython",
    "version": 3
   },
   "file_extension": ".py",
   "mimetype": "text/x-python",
   "name": "python",
   "nbconvert_exporter": "python",
   "pygments_lexer": "ipython3",
   "version": "3.7.4"
  }
 },
 "nbformat": 4,
 "nbformat_minor": 2
}
