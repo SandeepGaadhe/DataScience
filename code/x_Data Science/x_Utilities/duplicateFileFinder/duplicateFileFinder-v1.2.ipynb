{
 "cells": [
  {
   "cell_type": "markdown",
   "metadata": {},
   "source": [
    "\n",
    "### Expected flow of program\n",
    "\n",
    "#### Module 01 : Get Statistics\n",
    "\n",
    "    1. Get the root directory to traverse.\n",
    "    2. Recursively generate md5 for all files in root, sub directories. Dump the result in csv.\n",
    "\n",
    "#### Module 02 : Move Files\n",
    "\n",
    "    1. Analyze the result stored in csv.\n",
    "    2. Prepare the source and destination directory structure in excel.\n",
    "    3. Run python to read excel and move the files as mentioned in excel.\n",
    "\n",
    "\n"
   ]
  },
  {
   "cell_type": "markdown",
   "metadata": {},
   "source": [
    "<hr style=\"border: solid rgb(255,255,255) 1.0px;height: 2.0px;\"/>"
   ]
  },
  {
   "cell_type": "markdown",
   "metadata": {},
   "source": [
    "#### Module 01 : Get Statistics"
   ]
  },
  {
   "cell_type": "code",
   "execution_count": 1,
   "metadata": {},
   "outputs": [],
   "source": [
    "# https://github.com/UrviSoni/remove_duplicate_image/blob/master/duplicate_image_remove.ipynb\n",
    "\n",
    "import hashlib\n",
    "from skimage.io import imread\n",
    "import matplotlib.pyplot as plt\n",
    "import matplotlib.gridspec as gridspec\n",
    "import time\n",
    "import numpy as np\n",
    "import logging\n",
    "import datetime\n",
    "import hashlib\n",
    "import os\n",
    "import sys\n",
    "import csv\n",
    "import filetype\n",
    "\n",
    "%matplotlib inline"
   ]
  },
  {
   "cell_type": "code",
   "execution_count": 2,
   "metadata": {},
   "outputs": [],
   "source": [
    "# Set up program level variables\n",
    "\n",
    "searchDir = 'S:\\Pictures\\\\' \n",
    "destinDir = 'S:\\Pictures\\duplicateFileFinder\\duplicates\\\\' \n",
    "outDir = 'S:\\Pictures\\duplicateFileFinder\\logs\\\\'\n",
    "outFile = outDir + time.strftime(\"%Y%m%d_%H%M%S\") + '.csv'\n",
    "\n",
    "logDir = 'S:\\Pictures\\duplicateFileFinder\\logs\\\\'\n",
    "logFile = logDir + time.strftime(\"%Y%m%d_%H%M%S\") + '.log'\n",
    "\n",
    "logging.basicConfig(filename= logFile, level=logging.INFO)\n",
    "\n",
    "logging.info(time.strftime(\"\\n\\n\\n%Y%m%d_%H%M%S\") + ' : ******* Program Start  ******* ')\n",
    "logging.info(time.strftime(\"%Y%m%d_%H%M%S\") + ' : searchDir : ' + searchDir)\n",
    "logging.info(time.strftime(\"%Y%m%d_%H%M%S\") + ' : destinDir : ' + destinDir)\n",
    "logging.info(time.strftime(\"%Y%m%d_%H%M%S\") + ' : outDir : ' + outDir)\n",
    "logging.info(time.strftime(\"%Y%m%d_%H%M%S\") + ' : outFile : ' + outFile)\n",
    "logging.info(time.strftime(\"%Y%m%d_%H%M%S\") + ' : logDir : ' + logDir)\n",
    "logging.info(time.strftime(\"%Y%m%d_%H%M%S\") + ' : logFile : ' + logFile)"
   ]
  },
  {
   "cell_type": "code",
   "execution_count": 3,
   "metadata": {},
   "outputs": [],
   "source": [
    "walk_dir = searchDir\n",
    "\n",
    "duplicates = []\n",
    "hash_keys = dict()\n",
    "\n",
    "with open(outFile, mode='w', newline='') as csvFile:\n",
    "    fieldnames = ['file_path', 'filehash']\n",
    "    \n",
    "    # creating a csv writer object \n",
    "    csvwriter = csv.writer(csvFile) \n",
    "        \n",
    "    # writing the fields \n",
    "    csvwriter.writerow(fieldnames) \n",
    "    \n",
    "    index = 0\n",
    "    for root, subdirs, files in os.walk(walk_dir):\n",
    "        for filename in files:\n",
    "            file_path = os.path.join(root, filename)\n",
    "            \n",
    "            if filetype.is_image(file_path) or filetype.is_video(file_path):\n",
    "                # generate and dump md5 to csv\n",
    "                with open(file_path, 'rb') as f:\n",
    "                    filehash = hashlib.md5(f.read()).hexdigest()\n",
    "                \n",
    "                index += 1\n",
    "                if filehash not in hash_keys: \n",
    "                    hash_keys[filehash] = index\n",
    "                else:\n",
    "                    #duplicates.append((index,hash_keys[filehash]))\n",
    "                    duplicates.append((file_path))\n",
    "            else:\n",
    "                filehash = \"not_an_image_or_video\"\n",
    "            currRow = [[file_path, filehash]]\n",
    "            csvwriter.writerows(currRow)\n"
   ]
  },
  {
   "cell_type": "markdown",
   "metadata": {},
   "source": [
    "<hr style=\"border: solid rgb(255,255,255) 1.0px;height: 2.0px;\"/>"
   ]
  },
  {
   "cell_type": "markdown",
   "metadata": {},
   "source": [
    "#### Module 02 : Move Files"
   ]
  },
  {
   "cell_type": "code",
   "execution_count": 4,
   "metadata": {},
   "outputs": [],
   "source": [
    "for dupFile in duplicates:\n",
    "    \n",
    "    sourceFile = dupFile\n",
    "    destinFile = destinDir + \"\\\\\".join([]) + os.path.basename(dupFile)\n",
    "    \n",
    "    try:\n",
    "        if os.path.isfile(sourceFile):\n",
    "            \n",
    "            destinFile_woExt = os.path.splitext(destinFile)[0]\n",
    "            destinFile_Extn = os.path.splitext(destinFile)[1]\n",
    "            expand = 0\n",
    "            while True:\n",
    "                expand += 1\n",
    "                new_file_name = destinFile_woExt + \" - \" + str(expand) + destinFile_Extn\n",
    "                if os.path.isfile(new_file_name):\n",
    "                    continue\n",
    "                else:\n",
    "                    destinFile = new_file_name\n",
    "                    break\n",
    "            os.rename(sourceFile, destinFile)\n",
    "            logging.info(time.strftime(\"%Y%m%d_%H%M%S\") + ' : SUCCESS : Moved : ' + sourceFile + ' | '+ destinFile)\n",
    "    except:\n",
    "        logging.info(time.strftime(\"%Y%m%d_%H%M%S\") + ' : ERROR : Moving : ' + sourceFile + ' | '+ destinFile)\n",
    " "
   ]
  },
  {
   "cell_type": "markdown",
   "metadata": {},
   "source": [
    "<hr style=\"border: solid rgb(255,255,255) 1.0px;height: 2.0px;\"/>"
   ]
  },
  {
   "cell_type": "markdown",
   "metadata": {},
   "source": [
    "#### Module 03 : End"
   ]
  },
  {
   "cell_type": "code",
   "execution_count": 5,
   "metadata": {},
   "outputs": [],
   "source": [
    "logging.info(time.strftime(\"%Y%m%d_%H%M%S\") + ' ******* Program End  ******* ')"
   ]
  },
  {
   "cell_type": "markdown",
   "metadata": {},
   "source": [
    "<hr style=\"border: solid rgb(255,255,255) 1.0px;height: 2.0px;\"/>"
   ]
  }
 ],
 "metadata": {
  "kernelspec": {
   "display_name": "Python 3",
   "language": "python",
   "name": "python3"
  },
  "language_info": {
   "codemirror_mode": {
    "name": "ipython",
    "version": 3
   },
   "file_extension": ".py",
   "mimetype": "text/x-python",
   "name": "python",
   "nbconvert_exporter": "python",
   "pygments_lexer": "ipython3",
   "version": "3.7.4"
  }
 },
 "nbformat": 4,
 "nbformat_minor": 2
}
