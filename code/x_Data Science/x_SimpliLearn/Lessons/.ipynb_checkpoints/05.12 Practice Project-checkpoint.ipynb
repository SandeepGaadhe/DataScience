{
 "cells": [
  {
   "cell_type": "markdown",
   "metadata": {},
   "source": [
    "<img src=\"http://cfs22.simplicdn.net/ice9/new_logo.svgz \"/>\n",
    "\n",
    "# Assignment 02: Evaluate the Summer Olympics, London 2012 dataset\n",
    "\n",
    "*The comments/sections provided are your cues to perform the assignment. You don't need to limit yourself to the number of rows/cells provided. You can add additional rows in each section to add more lines of code.*\n",
    "\n",
    "*If at any point in time you need help on solving this assignment, view our demo video to understand the different steps of the code.*\n",
    "\n",
    "**Happy coding!**\n",
    "\n",
    "* * *"
   ]
  },
  {
   "cell_type": "markdown",
   "metadata": {},
   "source": [
    "#### 1: View and add the dataset"
   ]
  },
  {
   "cell_type": "code",
   "execution_count": 1,
   "metadata": {},
   "outputs": [],
   "source": [
    "#Import the necessary library\n",
    "import numpy as np"
   ]
  },
  {
   "cell_type": "code",
   "execution_count": 2,
   "metadata": {},
   "outputs": [],
   "source": [
    "#Manually add the Summer Olympics, London 2012 dataset as arrays\n",
    "OlympicDataSet = [['Great Britain', 'GBR', 29, 17, 19], \n",
    "                  ['China', 'CHN', 38, 28, 22],\n",
    "                  ['Russia', 'RUS', 24, 25, 32],\n",
    "                  ['United States', 'US', 46, 28, 29],\n",
    "                  ['Korea', 'KOR', 13, 8, 7],\n",
    "                  ['Japan', 'JPN', 7, 14, 17],\n",
    "                  ['Germany', 'GER', 11, 11, 14]\n",
    "                 ]\n",
    "\n",
    "countryName = np.array(['Great Britain', 'China', 'Russia', 'United States', 'Korea', 'Japan', 'Germany'])\n",
    "countryCode = np.array(['GBR', 'CHN', 'RUS', 'US', 'KOR', 'JPN', 'GER'])\n",
    "countryGold = np.array([29, 38, 24, 46, 13, 7, 11])\n",
    "countrySilver = np.array([17, 28, 25, 28, 8, 14, 11])\n",
    "countryBronze = np.array([19, 22, 32, 29, 7, 17, 14])"
   ]
  },
  {
   "cell_type": "markdown",
   "metadata": {},
   "source": [
    "#### Find the country with maximum gold medals"
   ]
  },
  {
   "cell_type": "code",
   "execution_count": 3,
   "metadata": {},
   "outputs": [
    {
     "data": {
      "text/plain": [
       "3"
      ]
     },
     "execution_count": 3,
     "metadata": {},
     "output_type": "execute_result"
    }
   ],
   "source": [
    "#Use the argmax() method to find the highest number of gold medals\n",
    "highestGold = np.argmax(countryGold, axis = 0)\n",
    "highestGold"
   ]
  },
  {
   "cell_type": "code",
   "execution_count": 4,
   "metadata": {},
   "outputs": [
    {
     "data": {
      "text/plain": [
       "'United States'"
      ]
     },
     "execution_count": 4,
     "metadata": {},
     "output_type": "execute_result"
    }
   ],
   "source": [
    "#Print the name of the country\n",
    "countryName[highestGold]"
   ]
  },
  {
   "cell_type": "markdown",
   "metadata": {},
   "source": [
    "#### Find the countries with more than 20 gold medals"
   ]
  },
  {
   "cell_type": "code",
   "execution_count": 5,
   "metadata": {},
   "outputs": [
    {
     "data": {
      "text/plain": [
       "array(['Great Britain', 'China', 'Russia', 'United States'], dtype='<U13')"
      ]
     },
     "execution_count": 5,
     "metadata": {},
     "output_type": "execute_result"
    }
   ],
   "source": [
    "#Use Boolean indexing technique to find the required output\n",
    "moreThen20 = countryName[countryGold > 20]\n",
    "moreThen20"
   ]
  },
  {
   "cell_type": "markdown",
   "metadata": {},
   "source": [
    "#### Evaluate the dataset and print the name of each country with its gold medals and total number of medals"
   ]
  },
  {
   "cell_type": "code",
   "execution_count": 6,
   "metadata": {},
   "outputs": [
    {
     "name": "stdout",
     "output_type": "stream",
     "text": [
      "CountryName : Great Britain, Gold : 29 medals, Total : 65 medals\n",
      "CountryName : China, Gold : 38 medals, Total : 88 medals\n",
      "CountryName : Russia, Gold : 24 medals, Total : 81 medals\n",
      "CountryName : United States, Gold : 46 medals, Total : 103 medals\n",
      "CountryName : Korea, Gold : 13 medals, Total : 28 medals\n",
      "CountryName : Japan, Gold : 7 medals, Total : 38 medals\n",
      "CountryName : Germany, Gold : 11 medals, Total : 36 medals\n"
     ]
    }
   ],
   "source": [
    "#Use a for loop to create the required output\n",
    "for i in range(len(countryName)):\n",
    "    totalMedals = countryGold[i] + countrySilver[i] + countryBronze[i]\n",
    "    print('CountryName : {}, Gold : {} medals, Total : {} medals'.format(countryName[i], countryGold[i], totalMedals))"
   ]
  }
 ],
 "metadata": {
  "kernelspec": {
   "display_name": "Python 3",
   "language": "python",
   "name": "python3"
  },
  "language_info": {
   "codemirror_mode": {
    "name": "ipython",
    "version": 3
   },
   "file_extension": ".py",
   "mimetype": "text/x-python",
   "name": "python",
   "nbconvert_exporter": "python",
   "pygments_lexer": "ipython3",
   "version": "3.7.4"
  }
 },
 "nbformat": 4,
 "nbformat_minor": 1
}
