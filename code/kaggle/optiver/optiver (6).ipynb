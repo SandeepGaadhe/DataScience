{
 "cells": [
  {
   "cell_type": "code",
   "execution_count": 88,
   "metadata": {
    "execution": {
     "iopub.execute_input": "2021-07-05T21:21:30.418501Z",
     "iopub.status.busy": "2021-07-05T21:21:30.418157Z",
     "iopub.status.idle": "2021-07-05T21:21:30.425271Z",
     "shell.execute_reply": "2021-07-05T21:21:30.424222Z",
     "shell.execute_reply.started": "2021-07-05T21:21:30.418468Z"
    }
   },
   "outputs": [
    {
     "data": {
      "text/plain": [
       "'/kaggle/input/optiver-realized-volatility-prediction'"
      ]
     },
     "execution_count": 88,
     "metadata": {},
     "output_type": "execute_result"
    }
   ],
   "source": [
    "    import os\n",
    "os.getcwd()"
   ]
  },
  {
   "cell_type": "code",
   "execution_count": 89,
   "metadata": {
    "execution": {
     "iopub.execute_input": "2021-07-05T21:21:30.426909Z",
     "iopub.status.busy": "2021-07-05T21:21:30.426574Z",
     "iopub.status.idle": "2021-07-05T21:21:30.436602Z",
     "shell.execute_reply": "2021-07-05T21:21:30.435649Z",
     "shell.execute_reply.started": "2021-07-05T21:21:30.426876Z"
    }
   },
   "outputs": [],
   "source": [
    "os.chdir('/kaggle/input/optiver-realized-volatility-prediction')"
   ]
  },
  {
   "cell_type": "code",
   "execution_count": 90,
   "metadata": {
    "execution": {
     "iopub.execute_input": "2021-07-05T21:21:30.438647Z",
     "iopub.status.busy": "2021-07-05T21:21:30.438276Z",
     "iopub.status.idle": "2021-07-05T21:21:30.453768Z",
     "shell.execute_reply": "2021-07-05T21:21:30.452547Z",
     "shell.execute_reply.started": "2021-07-05T21:21:30.438617Z"
    }
   },
   "outputs": [
    {
     "name": "stdout",
     "output_type": "stream",
     "text": [
      "['trade_train.parquet', 'sample_submission.csv', 'book_test.parquet', 'trade_test.parquet', 'book_train.parquet', 'train.csv', 'test.csv']\n"
     ]
    }
   ],
   "source": [
    "print(os.listdir(\".\"))"
   ]
  },
  {
   "cell_type": "code",
   "execution_count": 91,
   "metadata": {
    "execution": {
     "iopub.execute_input": "2021-07-05T21:21:30.455874Z",
     "iopub.status.busy": "2021-07-05T21:21:30.455555Z",
     "iopub.status.idle": "2021-07-05T21:21:30.463045Z",
     "shell.execute_reply": "2021-07-05T21:21:30.462173Z",
     "shell.execute_reply.started": "2021-07-05T21:21:30.455844Z"
    }
   },
   "outputs": [],
   "source": [
    "import pandas as pd"
   ]
  },
  {
   "cell_type": "code",
   "execution_count": 92,
   "metadata": {
    "execution": {
     "iopub.execute_input": "2021-07-05T21:21:30.465025Z",
     "iopub.status.busy": "2021-07-05T21:21:30.464605Z",
     "iopub.status.idle": "2021-07-05T21:21:30.652033Z",
     "shell.execute_reply": "2021-07-05T21:21:30.651143Z",
     "shell.execute_reply.started": "2021-07-05T21:21:30.464984Z"
    }
   },
   "outputs": [],
   "source": [
    "df_sample_submission = pd.read_csv('./sample_submission.csv')\n",
    "df_train = pd.read_csv('./train.csv')\n",
    "df_test = pd.read_csv('./test.csv')"
   ]
  },
  {
   "cell_type": "code",
   "execution_count": 93,
   "metadata": {
    "execution": {
     "iopub.execute_input": "2021-07-05T21:21:30.653694Z",
     "iopub.status.busy": "2021-07-05T21:21:30.653411Z",
     "iopub.status.idle": "2021-07-05T21:21:30.873919Z",
     "shell.execute_reply": "2021-07-05T21:21:30.872950Z",
     "shell.execute_reply.started": "2021-07-05T21:21:30.653667Z"
    }
   },
   "outputs": [
    {
     "data": {
      "text/html": [
       "<div>\n",
       "<style scoped>\n",
       "    .dataframe tbody tr th:only-of-type {\n",
       "        vertical-align: middle;\n",
       "    }\n",
       "\n",
       "    .dataframe tbody tr th {\n",
       "        vertical-align: top;\n",
       "    }\n",
       "\n",
       "    .dataframe thead th {\n",
       "        text-align: right;\n",
       "    }\n",
       "</style>\n",
       "<table border=\"1\" class=\"dataframe\">\n",
       "  <thead>\n",
       "    <tr style=\"text-align: right;\">\n",
       "      <th></th>\n",
       "      <th>row_id</th>\n",
       "      <th>target</th>\n",
       "    </tr>\n",
       "  </thead>\n",
       "  <tbody>\n",
       "    <tr>\n",
       "      <th>0</th>\n",
       "      <td>0-4</td>\n",
       "      <td>0.003048</td>\n",
       "    </tr>\n",
       "    <tr>\n",
       "      <th>1</th>\n",
       "      <td>0-32</td>\n",
       "      <td>0.003048</td>\n",
       "    </tr>\n",
       "    <tr>\n",
       "      <th>2</th>\n",
       "      <td>0-34</td>\n",
       "      <td>0.003048</td>\n",
       "    </tr>\n",
       "  </tbody>\n",
       "</table>\n",
       "</div>"
      ],
      "text/plain": [
       "  row_id    target\n",
       "0    0-4  0.003048\n",
       "1   0-32  0.003048\n",
       "2   0-34  0.003048"
      ]
     },
     "metadata": {},
     "output_type": "display_data"
    },
    {
     "data": {
      "text/html": [
       "<div>\n",
       "<style scoped>\n",
       "    .dataframe tbody tr th:only-of-type {\n",
       "        vertical-align: middle;\n",
       "    }\n",
       "\n",
       "    .dataframe tbody tr th {\n",
       "        vertical-align: top;\n",
       "    }\n",
       "\n",
       "    .dataframe thead th {\n",
       "        text-align: right;\n",
       "    }\n",
       "</style>\n",
       "<table border=\"1\" class=\"dataframe\">\n",
       "  <thead>\n",
       "    <tr style=\"text-align: right;\">\n",
       "      <th></th>\n",
       "      <th>stock_id</th>\n",
       "      <th>time_id</th>\n",
       "      <th>target</th>\n",
       "    </tr>\n",
       "  </thead>\n",
       "  <tbody>\n",
       "    <tr>\n",
       "      <th>0</th>\n",
       "      <td>0</td>\n",
       "      <td>5</td>\n",
       "      <td>0.004136</td>\n",
       "    </tr>\n",
       "    <tr>\n",
       "      <th>1</th>\n",
       "      <td>0</td>\n",
       "      <td>11</td>\n",
       "      <td>0.001445</td>\n",
       "    </tr>\n",
       "    <tr>\n",
       "      <th>2</th>\n",
       "      <td>0</td>\n",
       "      <td>16</td>\n",
       "      <td>0.002168</td>\n",
       "    </tr>\n",
       "    <tr>\n",
       "      <th>3</th>\n",
       "      <td>0</td>\n",
       "      <td>31</td>\n",
       "      <td>0.002195</td>\n",
       "    </tr>\n",
       "    <tr>\n",
       "      <th>4</th>\n",
       "      <td>0</td>\n",
       "      <td>62</td>\n",
       "      <td>0.001747</td>\n",
       "    </tr>\n",
       "    <tr>\n",
       "      <th>...</th>\n",
       "      <td>...</td>\n",
       "      <td>...</td>\n",
       "      <td>...</td>\n",
       "    </tr>\n",
       "    <tr>\n",
       "      <th>428927</th>\n",
       "      <td>126</td>\n",
       "      <td>32751</td>\n",
       "      <td>0.003461</td>\n",
       "    </tr>\n",
       "    <tr>\n",
       "      <th>428928</th>\n",
       "      <td>126</td>\n",
       "      <td>32753</td>\n",
       "      <td>0.003113</td>\n",
       "    </tr>\n",
       "    <tr>\n",
       "      <th>428929</th>\n",
       "      <td>126</td>\n",
       "      <td>32758</td>\n",
       "      <td>0.004070</td>\n",
       "    </tr>\n",
       "    <tr>\n",
       "      <th>428930</th>\n",
       "      <td>126</td>\n",
       "      <td>32763</td>\n",
       "      <td>0.003357</td>\n",
       "    </tr>\n",
       "    <tr>\n",
       "      <th>428931</th>\n",
       "      <td>126</td>\n",
       "      <td>32767</td>\n",
       "      <td>0.002090</td>\n",
       "    </tr>\n",
       "  </tbody>\n",
       "</table>\n",
       "<p>428932 rows × 3 columns</p>\n",
       "</div>"
      ],
      "text/plain": [
       "        stock_id  time_id    target\n",
       "0              0        5  0.004136\n",
       "1              0       11  0.001445\n",
       "2              0       16  0.002168\n",
       "3              0       31  0.002195\n",
       "4              0       62  0.001747\n",
       "...          ...      ...       ...\n",
       "428927       126    32751  0.003461\n",
       "428928       126    32753  0.003113\n",
       "428929       126    32758  0.004070\n",
       "428930       126    32763  0.003357\n",
       "428931       126    32767  0.002090\n",
       "\n",
       "[428932 rows x 3 columns]"
      ]
     },
     "metadata": {},
     "output_type": "display_data"
    },
    {
     "data": {
      "text/html": [
       "<div>\n",
       "<style scoped>\n",
       "    .dataframe tbody tr th:only-of-type {\n",
       "        vertical-align: middle;\n",
       "    }\n",
       "\n",
       "    .dataframe tbody tr th {\n",
       "        vertical-align: top;\n",
       "    }\n",
       "\n",
       "    .dataframe thead th {\n",
       "        text-align: right;\n",
       "    }\n",
       "</style>\n",
       "<table border=\"1\" class=\"dataframe\">\n",
       "  <thead>\n",
       "    <tr style=\"text-align: right;\">\n",
       "      <th></th>\n",
       "      <th>stock_id</th>\n",
       "      <th>time_id</th>\n",
       "      <th>row_id</th>\n",
       "    </tr>\n",
       "  </thead>\n",
       "  <tbody>\n",
       "    <tr>\n",
       "      <th>0</th>\n",
       "      <td>0</td>\n",
       "      <td>4</td>\n",
       "      <td>0-4</td>\n",
       "    </tr>\n",
       "    <tr>\n",
       "      <th>1</th>\n",
       "      <td>0</td>\n",
       "      <td>32</td>\n",
       "      <td>0-32</td>\n",
       "    </tr>\n",
       "    <tr>\n",
       "      <th>2</th>\n",
       "      <td>0</td>\n",
       "      <td>34</td>\n",
       "      <td>0-34</td>\n",
       "    </tr>\n",
       "  </tbody>\n",
       "</table>\n",
       "</div>"
      ],
      "text/plain": [
       "   stock_id  time_id row_id\n",
       "0         0        4    0-4\n",
       "1         0       32   0-32\n",
       "2         0       34   0-34"
      ]
     },
     "metadata": {},
     "output_type": "display_data"
    },
    {
     "data": {
      "application/vnd.jupyter.widget-view+json": {
       "model_id": "abcbc6a2bfca4447bd921492d765dd39",
       "version_major": 2,
       "version_minor": 0
      },
      "text/plain": [
       "Tab(children=(Output(), Output(), Output()), _titles={'0': 'sample_submission', '1': 'train', '2': 'test'})"
      ]
     },
     "metadata": {},
     "output_type": "display_data"
    }
   ],
   "source": [
    "import ipywidgets as widgets\n",
    "#import matplotlib.pyplot as plt\n",
    "\n",
    "from pathlib import Path\n",
    "\n",
    "data_dir = Path('./')\n",
    "\n",
    "df_names = ['sample_submission', 'train', 'test']\n",
    "\n",
    "for name in df_names:\n",
    "    globals()[name] = pd.read_csv(data_dir / f\"{name}.csv\")\n",
    "\n",
    "kaggle_data_tabs = widgets.Tab()\n",
    "# Add Output widgets for each pandas DF as tabs' children\n",
    "kaggle_data_tabs.children = list([widgets.Output() for df_name in df_names])\n",
    "\n",
    "for index in range(0, len(df_names)):\n",
    "    # Rename tab bar titles to df names\n",
    "    kaggle_data_tabs.set_title(index, df_names[index])\n",
    "    \n",
    "    # Display corresponding table output for this tab name\n",
    "    with kaggle_data_tabs.children[index]:\n",
    "        display(eval(df_names[index]))\n",
    "\n",
    "display(kaggle_data_tabs)"
   ]
  },
  {
   "cell_type": "code",
   "execution_count": 94,
   "metadata": {
    "execution": {
     "iopub.execute_input": "2021-07-05T21:21:30.875240Z",
     "iopub.status.busy": "2021-07-05T21:21:30.874955Z",
     "iopub.status.idle": "2021-07-05T21:21:30.933590Z",
     "shell.execute_reply": "2021-07-05T21:21:30.932567Z",
     "shell.execute_reply.started": "2021-07-05T21:21:30.875212Z"
    }
   },
   "outputs": [
    {
     "data": {
      "text/html": [
       "<div>\n",
       "<style scoped>\n",
       "    .dataframe tbody tr th:only-of-type {\n",
       "        vertical-align: middle;\n",
       "    }\n",
       "\n",
       "    .dataframe tbody tr th {\n",
       "        vertical-align: top;\n",
       "    }\n",
       "\n",
       "    .dataframe thead th {\n",
       "        text-align: right;\n",
       "    }\n",
       "</style>\n",
       "<table border=\"1\" class=\"dataframe\">\n",
       "  <thead>\n",
       "    <tr style=\"text-align: right;\">\n",
       "      <th></th>\n",
       "      <th>stock_id</th>\n",
       "      <th>time_id</th>\n",
       "      <th>target</th>\n",
       "    </tr>\n",
       "  </thead>\n",
       "  <tbody>\n",
       "    <tr>\n",
       "      <th>count</th>\n",
       "      <td>428932.000000</td>\n",
       "      <td>428932.000000</td>\n",
       "      <td>428932.000000</td>\n",
       "    </tr>\n",
       "    <tr>\n",
       "      <th>mean</th>\n",
       "      <td>62.437944</td>\n",
       "      <td>16038.972721</td>\n",
       "      <td>0.003880</td>\n",
       "    </tr>\n",
       "    <tr>\n",
       "      <th>std</th>\n",
       "      <td>37.126450</td>\n",
       "      <td>9365.103706</td>\n",
       "      <td>0.002936</td>\n",
       "    </tr>\n",
       "    <tr>\n",
       "      <th>min</th>\n",
       "      <td>0.000000</td>\n",
       "      <td>5.000000</td>\n",
       "      <td>0.000105</td>\n",
       "    </tr>\n",
       "    <tr>\n",
       "      <th>25%</th>\n",
       "      <td>30.000000</td>\n",
       "      <td>7854.000000</td>\n",
       "      <td>0.002026</td>\n",
       "    </tr>\n",
       "    <tr>\n",
       "      <th>50%</th>\n",
       "      <td>63.000000</td>\n",
       "      <td>15853.000000</td>\n",
       "      <td>0.003048</td>\n",
       "    </tr>\n",
       "    <tr>\n",
       "      <th>75%</th>\n",
       "      <td>96.000000</td>\n",
       "      <td>23994.000000</td>\n",
       "      <td>0.004738</td>\n",
       "    </tr>\n",
       "    <tr>\n",
       "      <th>max</th>\n",
       "      <td>126.000000</td>\n",
       "      <td>32767.000000</td>\n",
       "      <td>0.070321</td>\n",
       "    </tr>\n",
       "  </tbody>\n",
       "</table>\n",
       "</div>"
      ],
      "text/plain": [
       "            stock_id        time_id         target\n",
       "count  428932.000000  428932.000000  428932.000000\n",
       "mean       62.437944   16038.972721       0.003880\n",
       "std        37.126450    9365.103706       0.002936\n",
       "min         0.000000       5.000000       0.000105\n",
       "25%        30.000000    7854.000000       0.002026\n",
       "50%        63.000000   15853.000000       0.003048\n",
       "75%        96.000000   23994.000000       0.004738\n",
       "max       126.000000   32767.000000       0.070321"
      ]
     },
     "execution_count": 94,
     "metadata": {},
     "output_type": "execute_result"
    }
   ],
   "source": [
    "df_train.describe()"
   ]
  },
  {
   "cell_type": "code",
   "execution_count": 95,
   "metadata": {
    "execution": {
     "iopub.execute_input": "2021-07-05T21:21:30.936145Z",
     "iopub.status.busy": "2021-07-05T21:21:30.935856Z",
     "iopub.status.idle": "2021-07-05T21:21:30.951263Z",
     "shell.execute_reply": "2021-07-05T21:21:30.950474Z",
     "shell.execute_reply.started": "2021-07-05T21:21:30.936115Z"
    }
   },
   "outputs": [
    {
     "name": "stdout",
     "output_type": "stream",
     "text": [
      "<class 'pandas.core.frame.DataFrame'>\n",
      "RangeIndex: 428932 entries, 0 to 428931\n",
      "Data columns (total 3 columns):\n",
      " #   Column    Non-Null Count   Dtype  \n",
      "---  ------    --------------   -----  \n",
      " 0   stock_id  428932 non-null  int64  \n",
      " 1   time_id   428932 non-null  int64  \n",
      " 2   target    428932 non-null  float64\n",
      "dtypes: float64(1), int64(2)\n",
      "memory usage: 9.8 MB\n"
     ]
    }
   ],
   "source": [
    "df_train.info()"
   ]
  },
  {
   "cell_type": "code",
   "execution_count": 96,
   "metadata": {
    "execution": {
     "iopub.execute_input": "2021-07-05T21:21:30.952950Z",
     "iopub.status.busy": "2021-07-05T21:21:30.952709Z",
     "iopub.status.idle": "2021-07-05T21:21:31.011027Z",
     "shell.execute_reply": "2021-07-05T21:21:31.009911Z",
     "shell.execute_reply.started": "2021-07-05T21:21:30.952926Z"
    }
   },
   "outputs": [
    {
     "data": {
      "text/html": [
       "<div>\n",
       "<style scoped>\n",
       "    .dataframe tbody tr th:only-of-type {\n",
       "        vertical-align: middle;\n",
       "    }\n",
       "\n",
       "    .dataframe tbody tr th {\n",
       "        vertical-align: top;\n",
       "    }\n",
       "\n",
       "    .dataframe thead th {\n",
       "        text-align: right;\n",
       "    }\n",
       "</style>\n",
       "<table border=\"1\" class=\"dataframe\">\n",
       "  <thead>\n",
       "    <tr style=\"text-align: right;\">\n",
       "      <th></th>\n",
       "      <th>stock_id</th>\n",
       "      <th>time_id</th>\n",
       "      <th>target</th>\n",
       "    </tr>\n",
       "  </thead>\n",
       "  <tbody>\n",
       "    <tr>\n",
       "      <th>count</th>\n",
       "      <td>428932.000000</td>\n",
       "      <td>428932.000000</td>\n",
       "      <td>428932.000000</td>\n",
       "    </tr>\n",
       "    <tr>\n",
       "      <th>mean</th>\n",
       "      <td>62.437944</td>\n",
       "      <td>16038.972721</td>\n",
       "      <td>0.003880</td>\n",
       "    </tr>\n",
       "    <tr>\n",
       "      <th>std</th>\n",
       "      <td>37.126450</td>\n",
       "      <td>9365.103706</td>\n",
       "      <td>0.002936</td>\n",
       "    </tr>\n",
       "    <tr>\n",
       "      <th>min</th>\n",
       "      <td>0.000000</td>\n",
       "      <td>5.000000</td>\n",
       "      <td>0.000105</td>\n",
       "    </tr>\n",
       "    <tr>\n",
       "      <th>25%</th>\n",
       "      <td>30.000000</td>\n",
       "      <td>7854.000000</td>\n",
       "      <td>0.002026</td>\n",
       "    </tr>\n",
       "    <tr>\n",
       "      <th>50%</th>\n",
       "      <td>63.000000</td>\n",
       "      <td>15853.000000</td>\n",
       "      <td>0.003048</td>\n",
       "    </tr>\n",
       "    <tr>\n",
       "      <th>75%</th>\n",
       "      <td>96.000000</td>\n",
       "      <td>23994.000000</td>\n",
       "      <td>0.004738</td>\n",
       "    </tr>\n",
       "    <tr>\n",
       "      <th>max</th>\n",
       "      <td>126.000000</td>\n",
       "      <td>32767.000000</td>\n",
       "      <td>0.070321</td>\n",
       "    </tr>\n",
       "  </tbody>\n",
       "</table>\n",
       "</div>"
      ],
      "text/plain": [
       "            stock_id        time_id         target\n",
       "count  428932.000000  428932.000000  428932.000000\n",
       "mean       62.437944   16038.972721       0.003880\n",
       "std        37.126450    9365.103706       0.002936\n",
       "min         0.000000       5.000000       0.000105\n",
       "25%        30.000000    7854.000000       0.002026\n",
       "50%        63.000000   15853.000000       0.003048\n",
       "75%        96.000000   23994.000000       0.004738\n",
       "max       126.000000   32767.000000       0.070321"
      ]
     },
     "execution_count": 96,
     "metadata": {},
     "output_type": "execute_result"
    }
   ],
   "source": [
    "df_train.describe()"
   ]
  },
  {
   "cell_type": "code",
   "execution_count": 97,
   "metadata": {
    "execution": {
     "iopub.execute_input": "2021-07-05T21:21:31.012755Z",
     "iopub.status.busy": "2021-07-05T21:21:31.012460Z",
     "iopub.status.idle": "2021-07-05T21:21:31.019043Z",
     "shell.execute_reply": "2021-07-05T21:21:31.018160Z",
     "shell.execute_reply.started": "2021-07-05T21:21:31.012727Z"
    }
   },
   "outputs": [
    {
     "data": {
      "text/plain": [
       "array([0])"
      ]
     },
     "execution_count": 97,
     "metadata": {},
     "output_type": "execute_result"
    }
   ],
   "source": [
    "df_train_0.stock_id.unique()"
   ]
  },
  {
   "cell_type": "code",
   "execution_count": 98,
   "metadata": {
    "execution": {
     "iopub.execute_input": "2021-07-05T21:21:31.020312Z",
     "iopub.status.busy": "2021-07-05T21:21:31.020033Z",
     "iopub.status.idle": "2021-07-05T21:21:31.039855Z",
     "shell.execute_reply": "2021-07-05T21:21:31.038868Z",
     "shell.execute_reply.started": "2021-07-05T21:21:31.020286Z"
    }
   },
   "outputs": [
    {
     "data": {
      "text/plain": [
       "array([  0,   1,   2,   3,   4,   5,   6,   7,   8,   9,  10,  11,  13,\n",
       "        14,  15,  16,  17,  18,  19,  20,  21,  22,  23,  26,  27,  28,\n",
       "        29,  30,  31,  32,  33,  34,  35,  36,  37,  38,  39,  40,  41,\n",
       "        42,  43,  44,  46,  47,  48,  50,  51,  52,  53,  55,  56,  58,\n",
       "        59,  60,  61,  62,  63,  64,  66,  67,  68,  69,  70,  72,  73,\n",
       "        74,  75,  76,  77,  78,  80,  81,  82,  83,  84,  85,  86,  87,\n",
       "        88,  89,  90,  93,  94,  95,  96,  97,  98,  99, 100, 101, 102,\n",
       "       103, 104, 105, 107, 108, 109, 110, 111, 112, 113, 114, 115, 116,\n",
       "       118, 119, 120, 122, 123, 124, 125, 126])"
      ]
     },
     "execution_count": 98,
     "metadata": {},
     "output_type": "execute_result"
    }
   ],
   "source": [
    "df_train.stock_id.unique()"
   ]
  },
  {
   "cell_type": "code",
   "execution_count": 99,
   "metadata": {
    "execution": {
     "iopub.execute_input": "2021-07-05T21:21:31.041770Z",
     "iopub.status.busy": "2021-07-05T21:21:31.041483Z",
     "iopub.status.idle": "2021-07-05T21:21:31.051074Z",
     "shell.execute_reply": "2021-07-05T21:21:31.050029Z",
     "shell.execute_reply.started": "2021-07-05T21:21:31.041744Z"
    }
   },
   "outputs": [
    {
     "data": {
      "text/plain": [
       "array([    5,    11,    16, ..., 32758, 32763, 32767])"
      ]
     },
     "execution_count": 99,
     "metadata": {},
     "output_type": "execute_result"
    }
   ],
   "source": [
    "df_train.time_id.unique()"
   ]
  },
  {
   "cell_type": "code",
   "execution_count": 100,
   "metadata": {
    "execution": {
     "iopub.execute_input": "2021-07-05T21:21:31.052851Z",
     "iopub.status.busy": "2021-07-05T21:21:31.052535Z",
     "iopub.status.idle": "2021-07-05T21:21:31.063393Z",
     "shell.execute_reply": "2021-07-05T21:21:31.062612Z",
     "shell.execute_reply.started": "2021-07-05T21:21:31.052823Z"
    }
   },
   "outputs": [],
   "source": [
    "df_train_s0_s10 = df_train[df_train['stock_id'] <= 10]"
   ]
  },
  {
   "cell_type": "code",
   "execution_count": 101,
   "metadata": {
    "execution": {
     "iopub.execute_input": "2021-07-05T21:21:31.064821Z",
     "iopub.status.busy": "2021-07-05T21:21:31.064544Z",
     "iopub.status.idle": "2021-07-05T21:21:31.081516Z",
     "shell.execute_reply": "2021-07-05T21:21:31.080252Z",
     "shell.execute_reply.started": "2021-07-05T21:21:31.064795Z"
    }
   },
   "outputs": [
    {
     "data": {
      "text/html": [
       "<div>\n",
       "<style scoped>\n",
       "    .dataframe tbody tr th:only-of-type {\n",
       "        vertical-align: middle;\n",
       "    }\n",
       "\n",
       "    .dataframe tbody tr th {\n",
       "        vertical-align: top;\n",
       "    }\n",
       "\n",
       "    .dataframe thead th {\n",
       "        text-align: right;\n",
       "    }\n",
       "</style>\n",
       "<table border=\"1\" class=\"dataframe\">\n",
       "  <thead>\n",
       "    <tr style=\"text-align: right;\">\n",
       "      <th></th>\n",
       "      <th>stock_id</th>\n",
       "      <th>time_id</th>\n",
       "      <th>target</th>\n",
       "    </tr>\n",
       "  </thead>\n",
       "  <tbody>\n",
       "    <tr>\n",
       "      <th>0</th>\n",
       "      <td>0</td>\n",
       "      <td>5</td>\n",
       "      <td>0.004136</td>\n",
       "    </tr>\n",
       "    <tr>\n",
       "      <th>1</th>\n",
       "      <td>0</td>\n",
       "      <td>11</td>\n",
       "      <td>0.001445</td>\n",
       "    </tr>\n",
       "    <tr>\n",
       "      <th>2</th>\n",
       "      <td>0</td>\n",
       "      <td>16</td>\n",
       "      <td>0.002168</td>\n",
       "    </tr>\n",
       "    <tr>\n",
       "      <th>3</th>\n",
       "      <td>0</td>\n",
       "      <td>31</td>\n",
       "      <td>0.002195</td>\n",
       "    </tr>\n",
       "    <tr>\n",
       "      <th>4</th>\n",
       "      <td>0</td>\n",
       "      <td>62</td>\n",
       "      <td>0.001747</td>\n",
       "    </tr>\n",
       "    <tr>\n",
       "      <th>5</th>\n",
       "      <td>0</td>\n",
       "      <td>72</td>\n",
       "      <td>0.004912</td>\n",
       "    </tr>\n",
       "    <tr>\n",
       "      <th>6</th>\n",
       "      <td>0</td>\n",
       "      <td>97</td>\n",
       "      <td>0.009388</td>\n",
       "    </tr>\n",
       "    <tr>\n",
       "      <th>7</th>\n",
       "      <td>0</td>\n",
       "      <td>103</td>\n",
       "      <td>0.004120</td>\n",
       "    </tr>\n",
       "    <tr>\n",
       "      <th>8</th>\n",
       "      <td>0</td>\n",
       "      <td>109</td>\n",
       "      <td>0.002182</td>\n",
       "    </tr>\n",
       "    <tr>\n",
       "      <th>9</th>\n",
       "      <td>0</td>\n",
       "      <td>123</td>\n",
       "      <td>0.002669</td>\n",
       "    </tr>\n",
       "  </tbody>\n",
       "</table>\n",
       "</div>"
      ],
      "text/plain": [
       "   stock_id  time_id    target\n",
       "0         0        5  0.004136\n",
       "1         0       11  0.001445\n",
       "2         0       16  0.002168\n",
       "3         0       31  0.002195\n",
       "4         0       62  0.001747\n",
       "5         0       72  0.004912\n",
       "6         0       97  0.009388\n",
       "7         0      103  0.004120\n",
       "8         0      109  0.002182\n",
       "9         0      123  0.002669"
      ]
     },
     "execution_count": 101,
     "metadata": {},
     "output_type": "execute_result"
    }
   ],
   "source": [
    "df_train_s0_s10.head(10)"
   ]
  },
  {
   "cell_type": "code",
   "execution_count": 102,
   "metadata": {
    "execution": {
     "iopub.execute_input": "2021-07-05T21:21:31.084138Z",
     "iopub.status.busy": "2021-07-05T21:21:31.083453Z",
     "iopub.status.idle": "2021-07-05T21:21:31.184932Z",
     "shell.execute_reply": "2021-07-05T21:21:31.183907Z",
     "shell.execute_reply.started": "2021-07-05T21:21:31.084088Z"
    }
   },
   "outputs": [
    {
     "name": "stdout",
     "output_type": "stream",
     "text": [
      "           count          mean          std  min     25%      50%      75%  \\\n",
      "stock_id                                                                     \n",
      "0         3830.0  16038.933681  9366.261949  5.0  7856.5  15852.5  23988.5   \n",
      "1         3830.0  16038.933681  9366.261949  5.0  7856.5  15852.5  23988.5   \n",
      "2         3830.0  16038.933681  9366.261949  5.0  7856.5  15852.5  23988.5   \n",
      "3         3830.0  16038.933681  9366.261949  5.0  7856.5  15852.5  23988.5   \n",
      "4         3830.0  16038.933681  9366.261949  5.0  7856.5  15852.5  23988.5   \n",
      "5         3830.0  16038.933681  9366.261949  5.0  7856.5  15852.5  23988.5   \n",
      "6         3830.0  16038.933681  9366.261949  5.0  7856.5  15852.5  23988.5   \n",
      "7         3830.0  16038.933681  9366.261949  5.0  7856.5  15852.5  23988.5   \n",
      "8         3830.0  16038.933681  9366.261949  5.0  7856.5  15852.5  23988.5   \n",
      "9         3830.0  16038.933681  9366.261949  5.0  7856.5  15852.5  23988.5   \n",
      "10        3830.0  16038.933681  9366.261949  5.0  7856.5  15852.5  23988.5   \n",
      "\n",
      "              max  \n",
      "stock_id           \n",
      "0         32767.0  \n",
      "1         32767.0  \n",
      "2         32767.0  \n",
      "3         32767.0  \n",
      "4         32767.0  \n",
      "5         32767.0  \n",
      "6         32767.0  \n",
      "7         32767.0  \n",
      "8         32767.0  \n",
      "9         32767.0  \n",
      "10        32767.0  \n",
      "           count      mean       std       min       25%       50%       75%  \\\n",
      "stock_id                                                                       \n",
      "0         3830.0  0.004028  0.002855  0.000594  0.002246  0.003180  0.004827   \n",
      "1         3830.0  0.004362  0.002433  0.000885  0.002629  0.003719  0.005407   \n",
      "2         3830.0  0.002385  0.002339  0.000394  0.001310  0.001748  0.002458   \n",
      "3         3830.0  0.006182  0.003201  0.000746  0.004010  0.005422  0.007576   \n",
      "4         3830.0  0.004197  0.002879  0.000810  0.002449  0.003397  0.004928   \n",
      "5         3830.0  0.005170  0.003096  0.000605  0.003158  0.004332  0.006165   \n",
      "6         3830.0  0.006923  0.003323  0.000840  0.004617  0.006216  0.008387   \n",
      "7         3830.0  0.003288  0.002129  0.000521  0.002006  0.002770  0.003876   \n",
      "8         3830.0  0.004320  0.002709  0.000899  0.002484  0.003568  0.005282   \n",
      "9         3830.0  0.005554  0.003115  0.001166  0.003397  0.004731  0.006738   \n",
      "10        3830.0  0.003501  0.002278  0.000674  0.002000  0.002812  0.004293   \n",
      "\n",
      "               max  \n",
      "stock_id            \n",
      "0         0.036311  \n",
      "1         0.020951  \n",
      "2         0.024848  \n",
      "3         0.038606  \n",
      "4         0.025648  \n",
      "5         0.026358  \n",
      "6         0.031468  \n",
      "7         0.022414  \n",
      "8         0.028987  \n",
      "9         0.025449  \n",
      "10        0.022844  \n"
     ]
    }
   ],
   "source": [
    "import numpy as np\n",
    "\n",
    "# Select time_id, count(stock_id) cnt_stk, mean(stock_id), min(stock_id) min_stk, max(stock_id) max_stk, count(target) cnt_trg\n",
    "print(df_train_s0_s10[['stock_id', 'time_id']].set_index(\"stock_id\").select_dtypes(np.number).stack().groupby(level=0).describe())\n",
    "\n",
    "# Select stock_id, count(target) cnt_trg, min(target) min_trg, max(target) max_trg etc\n",
    "print(df_train_s0_s10[['stock_id', 'target']].set_index(\"stock_id\").select_dtypes(np.number).stack().groupby(level=0).describe())"
   ]
  },
  {
   "cell_type": "code",
   "execution_count": 103,
   "metadata": {
    "execution": {
     "iopub.execute_input": "2021-07-05T21:21:31.187020Z",
     "iopub.status.busy": "2021-07-05T21:21:31.186614Z",
     "iopub.status.idle": "2021-07-05T21:21:31.862611Z",
     "shell.execute_reply": "2021-07-05T21:21:31.861859Z",
     "shell.execute_reply.started": "2021-07-05T21:21:31.186975Z"
    }
   },
   "outputs": [
    {
     "data": {
      "image/png": "[encoded data removed]",
      "text/plain": [
       "<Figure size 432x288 with 1 Axes>"
      ]
     },
     "metadata": {
      "needs_background": "light"
     },
     "output_type": "display_data"
    }
   ],
   "source": [
    "# Reference : utl_multi_line_graph\n",
    "\n",
    "import numpy as np\n",
    "import matplotlib.pyplot as plt\n",
    "\n",
    "fig, ax = plt.subplots()\n",
    "\n",
    "for key, grp in df_train_s0_s10.groupby(['stock_id']):\n",
    "    m_color = 'C' + str(key)\n",
    "    m_label = 'stock_id = ' + str(key)\n",
    "    #print(key, '\\n', grp, '\\n', m_color, '\\n\\n')\n",
    "    \n",
    "    # c parameter stands for color. Its passing value should be a valid color\n",
    "    ax = grp.plot(ax=ax, kind='line', x='time_id', y='target', c=m_color, label=m_label)\n",
    "\n",
    "plt.legend(loc='best')\n",
    "plt.show()"
   ]
  },
  {
   "cell_type": "code",
   "execution_count": 104,
   "metadata": {
    "execution": {
     "iopub.execute_input": "2021-07-05T21:21:31.864161Z",
     "iopub.status.busy": "2021-07-05T21:21:31.863736Z",
     "iopub.status.idle": "2021-07-05T21:21:33.736013Z",
     "shell.execute_reply": "2021-07-05T21:21:33.735334Z",
     "shell.execute_reply.started": "2021-07-05T21:21:31.864132Z"
    }
   },
   "outputs": [
    {
     "data": {
      "text/plain": [
       "<Figure size 1280x800 with 0 Axes>"
      ]
     },
     "metadata": {},
     "output_type": "display_data"
    },
    {
     "data": {
      "image/png": "[encoded data removed]",
      "text/plain": [
       "<Figure size 1008x720 with 12 Axes>"
      ]
     },
     "metadata": {
      "needs_background": "light"
     },
     "output_type": "display_data"
    }
   ],
   "source": [
    "# !pip install joypy\n",
    "import joypy\n",
    "\n",
    "# Draw Plot\n",
    "plt.figure(figsize=(16,10), dpi= 80)\n",
    "# ylim = limit of y output\n",
    "# column = all the columns that need to be plotted\n",
    "# by = x axis\n",
    "fig, axes = joypy.joyplot(df_train_s0_s10, column=['target'], by=\"stock_id\", ylim='own', figsize=(14,10))\n",
    "\n",
    "# Decoration\n",
    "plt.title('Joy Plot of target by stock_id', fontsize=22)\n",
    "plt.show()"
   ]
  },
  {
   "cell_type": "code",
   "execution_count": null,
   "metadata": {},
   "outputs": [],
   "source": []
  }
 ],
 "metadata": {
  "kernelspec": {
   "display_name": "Python 3",
   "language": "python",
   "name": "python3"
  },
  "language_info": {
   "codemirror_mode": {
    "name": "ipython",
    "version": 3
   },
   "file_extension": ".py",
   "mimetype": "text/x-python",
   "name": "python",
   "nbconvert_exporter": "python",
   "pygments_lexer": "ipython3",
   "version": "3.7.4"
  }
 },
 "nbformat": 4,
 "nbformat_minor": 4
}
