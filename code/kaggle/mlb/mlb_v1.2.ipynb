{
 "cells": [
  {
   "cell_type": "markdown",
   "id": "6fd71a34",
   "metadata": {},
   "source": [
    "### Load the dataset"
   ]
  },
  {
   "cell_type": "markdown",
   "id": "f94382b8",
   "metadata": {},
   "source": [
    "### Following https://www.kaggle.com/miklgr500/mlb-player-digital-engagement-forecasting-eda"
   ]
  },
  {
   "cell_type": "code",
   "execution_count": 1,
   "id": "4b630a94",
   "metadata": {},
   "outputs": [],
   "source": [
    "import pandas as pd\n",
    "import os\n",
    "import matplotlib\n",
    "import plotly.express as px\n",
    "import json"
   ]
  },
  {
   "cell_type": "code",
   "execution_count": 2,
   "id": "55b8b06c",
   "metadata": {},
   "outputs": [],
   "source": [
    "class StopExecution(Exception):\n",
    "    def _render_traceback_(self):\n",
    "        pass"
   ]
  },
  {
   "cell_type": "code",
   "execution_count": 4,
   "id": "3d2acbcd",
   "metadata": {
    "scrolled": true
   },
   "outputs": [],
   "source": [
    "df_awards = pd.read_csv(r\"S:\\SandeepG\\Official\\DataScience\\gitHub\\data\\kaggle\\mlb\\awards.csv\")\n",
    "df_players = pd.read_csv(r\"S:\\SandeepG\\Official\\DataScience\\gitHub\\data\\kaggle\\mlb\\players.csv\")\n",
    "df_seasons = pd.read_csv(r\"S:\\SandeepG\\Official\\DataScience\\gitHub\\data\\kaggle\\mlb\\seasons.csv\")\n",
    "df_teams = pd.read_csv(r\"S:\\SandeepG\\Official\\DataScience\\gitHub\\data\\kaggle\\mlb\\teams.csv\")\n",
    "#df_train = pd.read_csv(r\"S:\\SandeepG\\Official\\DataScience\\gitHub\\data\\kaggle\\mlb\\train.csv\")\n",
    "df_train = pd.read_csv(r\"S:\\SandeepG\\Official\\DataScience\\gitHub\\data\\kaggle\\mlb\\train.csv\", nrows = 10)\n",
    "#df_train.to_csv(r\"S:\\SandeepG\\Official\\DataScience\\gitHub\\data\\kaggle\\mlb\\out\\train_10.csv\", index = False)\n"
   ]
  },
  {
   "cell_type": "code",
   "execution_count": 17,
   "id": "529d02d2",
   "metadata": {},
   "outputs": [],
   "source": [
    "def convert_json_to_df(p_df):\n",
    "    \n",
    "    daily_df = pd.DataFrame()\n",
    "    \n",
    "    for curr_train_date, curr_train_row in p_df.iterrows():\n",
    "        \n",
    "        # load the json in df\n",
    "        daily_df = pd.read_json(curr_train_row[json_col])\n",
    "        \n",
    "        #print('daily_df : ', daily_df)\n",
    "        #append date column to df\n",
    "        #daily_df['date'] = curr_train_row['date']\n",
    "        daily_df.insert(0, \"train_date\", curr_train_row['date'])\n",
    "        \n",
    "        # rearrange the cols\n",
    "        #daily_df = daily_df[['date', 'engagementMetricsDate', 'playerId','target1','target2','target3','target4']]\n",
    "    \n",
    "    #print(daily_df.head(1))\n",
    "    #print('---------- End : convert_json_to_df ------------ ')\n",
    "    return daily_df"
   ]
  },
  {
   "cell_type": "code",
   "execution_count": 18,
   "id": "32517f39",
   "metadata": {},
   "outputs": [
    {
     "name": "stdout",
     "output_type": "stream",
     "text": [
      "['nextDayPlayerEngagement', 'games', 'rosters', 'playerBoxScores', 'teamBoxScores', 'transactions', 'standings', 'awards', 'events', 'playerTwitterFollowers', 'teamTwitterFollowers']\n"
     ]
    }
   ],
   "source": [
    "df_train_json_columns = df_train.drop('date', axis =1).columns.values.tolist()\n",
    "print(df_train_json_columns)"
   ]
  },
  {
   "cell_type": "code",
   "execution_count": 20,
   "id": "21cf78d1",
   "metadata": {},
   "outputs": [],
   "source": [
    "for json_col in df_train_json_columns:\n",
    "    \n",
    "    #print('\\n***********************************************')\n",
    "    # append date column to current json col & make a df for parsing\n",
    "    df_train_date_json_col = df_train[['date', json_col]]\n",
    "    #print('df_train_date_json_col : ', df_train_date_json_col.columns.values.tolist(), 'df_train_date_json_col.shape : ', df_train_date_json_col.shape)\n",
    "    \n",
    "    # remove na rows, if any\n",
    "    sr_date_json_col_nonNA_indices = ~pd.isna(df_train_date_json_col[json_col])\n",
    "    df_train_date_json_col_nonNA = (df_train_date_json_col[sr_date_json_col_nonNA_indices]).reset_index(drop = True)\n",
    "    \n",
    "    #print(df_train_date_json_col_nonNA.shape)\n",
    "    #print(df_train_date_json_col_nonNA.head(1))\n",
    "    #continue\n",
    "    \n",
    "    if json_col == 'nextDayPlayerEngagement':\n",
    "        df_nextDayPlayerEngagement = convert_json_to_df(df_train_date_json_col_nonNA)        \n",
    "    elif json_col == 'games':\n",
    "        df_games = convert_json_to_df(df_train_date_json_col_nonNA)\n",
    "    elif json_col == 'rosters':\n",
    "        df_rosters = convert_json_to_df(df_train_date_json_col_nonNA)\n",
    "    elif json_col == 'playerBoxScores':\n",
    "        df_playerBoxScores = convert_json_to_df(df_train_date_json_col_nonNA)\n",
    "    elif json_col == 'teamBoxScores':\n",
    "        df_teamBoxScores = convert_json_to_df(df_train_date_json_col_nonNA)\n",
    "    elif json_col == 'transactions':\n",
    "        df_transactions = convert_json_to_df(df_train_date_json_col_nonNA)\n",
    "    elif json_col == 'standings':\n",
    "        df_standings = convert_json_to_df(df_train_date_json_col_nonNA)\n",
    "    elif json_col == 'awards':\n",
    "        df_awards = convert_json_to_df(df_train_date_json_col_nonNA)\n",
    "    elif json_col == 'events':\n",
    "        df_events = convert_json_to_df(df_train_date_json_col_nonNA)\n",
    "    elif json_col == 'playerTwitterFollowers':\n",
    "        df_playerTwitterFollowers = convert_json_to_df(df_train_date_json_col_nonNA)\n",
    "    elif json_col == 'teamTwitterFollowers':\n",
    "        df_teamTwitterFollowers = convert_json_to_df(df_train_date_json_col_nonNA)\n",
    "    "
   ]
  },
  {
   "cell_type": "code",
   "execution_count": 27,
   "id": "323c4fdf",
   "metadata": {},
   "outputs": [
    {
     "name": "stdout",
     "output_type": "stream",
     "text": [
      "df_nextDayPlayerEngagement :  (2061, 7) Index(['train_date', 'engagementMetricsDate', 'playerId', 'target1', 'target2',\n",
      "       'target3', 'target4'],\n",
      "      dtype='object') \n",
      "\n",
      "df_games :  (0, 0) Index([], dtype='object') \n",
      "\n",
      "df_rosters :  (1182, 6) Index(['train_date', 'gameDate', 'playerId', 'status', 'statusCode', 'teamId'], dtype='object') \n",
      "\n",
      "df_playerBoxScores :  (0, 0) Index([], dtype='object') \n",
      "\n",
      "df_teamBoxScores :  (0, 0) Index([], dtype='object') \n",
      "\n",
      "df_transactions :  (32, 14) Index(['train_date', 'date', 'description', 'effectiveDate', 'fromTeamId',\n",
      "       'fromTeamName', 'playerId', 'playerName', 'resolutionDate', 'toTeamId',\n",
      "       'toTeamName', 'transactionId', 'typeCode', 'typeDesc'],\n",
      "      dtype='object') \n",
      "\n",
      "df_standings :  (0, 0) Index([], dtype='object') \n",
      "\n",
      "df_awards :  (0, 0) Index([], dtype='object') \n",
      "\n",
      "df_events :  (0, 0) Index([], dtype='object') \n",
      "\n",
      "df_playerTwitterFollowers :  (813, 7) Index(['train_date', 'accountName', 'date', 'numberOfFollowers', 'playerId',\n",
      "       'playerName', 'twitterHandle'],\n",
      "      dtype='object') \n",
      "\n",
      "df_teamTwitterFollowers :  (30, 7) Index(['train_date', 'accountName', 'date', 'numberOfFollowers', 'teamId',\n",
      "       'teamName', 'twitterHandle'],\n",
      "      dtype='object') \n",
      "\n"
     ]
    }
   ],
   "source": [
    "print ( 'df_nextDayPlayerEngagement : '  , df_nextDayPlayerEngagement.shape, df_nextDayPlayerEngagement.columns, '\\n')\n",
    "print ( 'df_games : '  , df_games.shape, df_games.columns, '\\n')\n",
    "print ( 'df_rosters : '  , df_rosters.shape, df_rosters.columns, '\\n')\n",
    "print ( 'df_playerBoxScores : '  , df_playerBoxScores.shape, df_playerBoxScores.columns, '\\n')\n",
    "print ( 'df_teamBoxScores : '  , df_teamBoxScores.shape, df_teamBoxScores.columns, '\\n')\n",
    "print ( 'df_transactions : '  , df_transactions.shape, df_transactions.columns, '\\n')\n",
    "print ( 'df_standings : '  , df_standings.shape, df_standings.columns, '\\n')\n",
    "print ( 'df_awards : '  , df_awards.shape, df_awards.columns, '\\n')\n",
    "print ( 'df_events : '  , df_events.shape, df_events.columns, '\\n')\n",
    "print ( 'df_playerTwitterFollowers : '  , df_playerTwitterFollowers.shape, df_playerTwitterFollowers.columns, '\\n')\n",
    "print ( 'df_teamTwitterFollowers : '  , df_teamTwitterFollowers.shape, df_teamTwitterFollowers.columns, '\\n')"
   ]
  },
  {
   "cell_type": "code",
   "execution_count": 28,
   "id": "4f2b6b6e",
   "metadata": {},
   "outputs": [],
   "source": [
    "df_nextDayPlayerEngagement.to_csv(r\"S:\\SandeepG\\Official\\DataScience\\gitHub\\data\\kaggle\\mlb\\out\\df_nextDayPlayerEngagement.csv\", index = False)\n",
    "df_games.to_csv(r\"S:\\SandeepG\\Official\\DataScience\\gitHub\\data\\kaggle\\mlb\\out\\df_games.csv\", index = False)\n",
    "df_rosters.to_csv(r\"S:\\SandeepG\\Official\\DataScience\\gitHub\\data\\kaggle\\mlb\\out\\train_10.csv\", index = False)\n",
    "df_playerBoxScores.to_csv(r\"S:\\SandeepG\\Official\\DataScience\\gitHub\\data\\kaggle\\mlb\\out\\df_rosters.csv\", index = False)\n",
    "df_teamBoxScores.to_csv(r\"S:\\SandeepG\\Official\\DataScience\\gitHub\\data\\kaggle\\mlb\\out\\df_teamBoxScores.csv\", index = False)\n",
    "df_transactions.to_csv(r\"S:\\SandeepG\\Official\\DataScience\\gitHub\\data\\kaggle\\mlb\\out\\df_transactions.csv\", index = False)\n",
    "df_standings.to_csv(r\"S:\\SandeepG\\Official\\DataScience\\gitHub\\data\\kaggle\\mlb\\out\\df_standings.csv\", index = False)\n",
    "df_awards.to_csv(r\"S:\\SandeepG\\Official\\DataScience\\gitHub\\data\\kaggle\\mlb\\out\\df_awards.csv\", index = False)\n",
    "df_events.to_csv(r\"S:\\SandeepG\\Official\\DataScience\\gitHub\\data\\kaggle\\mlb\\out\\df_events.csv\", index = False)\n",
    "df_playerTwitterFollowers.to_csv(r\"S:\\SandeepG\\Official\\DataScience\\gitHub\\data\\kaggle\\mlb\\out\\df_playerTwitterFollowers.csv\", index = False)\n",
    "df_teamTwitterFollowers.to_csv(r\"S:\\SandeepG\\Official\\DataScience\\gitHub\\data\\kaggle\\mlb\\out\\df_teamTwitterFollowers.csv\", index = False)"
   ]
  },
  {
   "cell_type": "code",
   "execution_count": null,
   "id": "cdc28fbd",
   "metadata": {},
   "outputs": [],
   "source": []
  }
 ],
 "metadata": {
  "kernelspec": {
   "display_name": "Python 3",
   "language": "python",
   "name": "python3"
  },
  "language_info": {
   "codemirror_mode": {
    "name": "ipython",
    "version": 3
   },
   "file_extension": ".py",
   "mimetype": "text/x-python",
   "name": "python",
   "nbconvert_exporter": "python",
   "pygments_lexer": "ipython3",
   "version": "3.5.6"
  }
 },
 "nbformat": 4,
 "nbformat_minor": 5
}
