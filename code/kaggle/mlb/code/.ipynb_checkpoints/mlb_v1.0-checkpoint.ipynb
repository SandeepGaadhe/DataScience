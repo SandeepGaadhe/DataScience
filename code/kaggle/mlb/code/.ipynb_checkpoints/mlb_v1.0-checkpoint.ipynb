{
 "cells": [
  {
   "cell_type": "markdown",
   "id": "6fd71a34",
   "metadata": {},
   "source": [
    "### Load the dataset"
   ]
  },
  {
   "cell_type": "code",
   "execution_count": 23,
   "id": "4b630a94",
   "metadata": {},
   "outputs": [],
   "source": [
    "import pandas as pd\n",
    "import os\n",
    "import matplotlib"
   ]
  },
  {
   "cell_type": "code",
   "execution_count": 3,
   "id": "3d2acbcd",
   "metadata": {},
   "outputs": [],
   "source": [
    "df_awards = pd.read_csv(r\"S:\\SandeepG\\Official\\DataScience\\gitHub\\data\\kaggle\\mlb\\awards.csv\")\n",
    "df_players = pd.read_csv(r\"S:\\SandeepG\\Official\\DataScience\\gitHub\\data\\kaggle\\mlb\\players.csv\")\n",
    "df_seasons = pd.read_csv(r\"S:\\SandeepG\\Official\\DataScience\\gitHub\\data\\kaggle\\mlb\\seasons.csv\")\n",
    "df_teams = pd.read_csv(r\"S:\\SandeepG\\Official\\DataScience\\gitHub\\data\\kaggle\\mlb\\teams.csv\")"
   ]
  },
  {
   "cell_type": "markdown",
   "id": "f94382b8",
   "metadata": {},
   "source": [
    "### Following https://www.kaggle.com/miklgr500/mlb-player-digital-engagement-forecasting-eda"
   ]
  },
  {
   "cell_type": "code",
   "execution_count": 4,
   "id": "7bb01241",
   "metadata": {},
   "outputs": [
    {
     "data": {
      "text/html": [
       "<div>\n",
       "<style scoped>\n",
       "    .dataframe tbody tr th:only-of-type {\n",
       "        vertical-align: middle;\n",
       "    }\n",
       "\n",
       "    .dataframe tbody tr th {\n",
       "        vertical-align: top;\n",
       "    }\n",
       "\n",
       "    .dataframe thead th {\n",
       "        text-align: right;\n",
       "    }\n",
       "</style>\n",
       "<table border=\"1\" class=\"dataframe\">\n",
       "  <thead>\n",
       "    <tr style=\"text-align: right;\">\n",
       "      <th></th>\n",
       "      <th>playerId</th>\n",
       "      <th>playerName</th>\n",
       "      <th>DOB</th>\n",
       "      <th>mlbDebutDate</th>\n",
       "      <th>birthCity</th>\n",
       "      <th>birthStateProvince</th>\n",
       "      <th>birthCountry</th>\n",
       "      <th>heightInches</th>\n",
       "      <th>weight</th>\n",
       "      <th>primaryPositionCode</th>\n",
       "      <th>primaryPositionName</th>\n",
       "      <th>playerForTestSetAndFuturePreds</th>\n",
       "    </tr>\n",
       "  </thead>\n",
       "  <tbody>\n",
       "    <tr>\n",
       "      <th>0</th>\n",
       "      <td>665482</td>\n",
       "      <td>Gilberto Celestino</td>\n",
       "      <td>1999-02-13</td>\n",
       "      <td>2021-06-02</td>\n",
       "      <td>Santo Domingo</td>\n",
       "      <td>NaN</td>\n",
       "      <td>Dominican Republic</td>\n",
       "      <td>72</td>\n",
       "      <td>170</td>\n",
       "      <td>8</td>\n",
       "      <td>Outfielder</td>\n",
       "      <td>False</td>\n",
       "    </tr>\n",
       "    <tr>\n",
       "      <th>1</th>\n",
       "      <td>593590</td>\n",
       "      <td>Webster Rivas</td>\n",
       "      <td>1990-08-08</td>\n",
       "      <td>2021-05-28</td>\n",
       "      <td>Nagua</td>\n",
       "      <td>NaN</td>\n",
       "      <td>Dominican Republic</td>\n",
       "      <td>73</td>\n",
       "      <td>219</td>\n",
       "      <td>3</td>\n",
       "      <td>First Base</td>\n",
       "      <td>True</td>\n",
       "    </tr>\n",
       "    <tr>\n",
       "      <th>2</th>\n",
       "      <td>661269</td>\n",
       "      <td>Vladimir Gutierrez</td>\n",
       "      <td>1995-09-18</td>\n",
       "      <td>2021-05-28</td>\n",
       "      <td>Havana</td>\n",
       "      <td>NaN</td>\n",
       "      <td>Cuba</td>\n",
       "      <td>73</td>\n",
       "      <td>190</td>\n",
       "      <td>1</td>\n",
       "      <td>Pitcher</td>\n",
       "      <td>True</td>\n",
       "    </tr>\n",
       "    <tr>\n",
       "      <th>3</th>\n",
       "      <td>669212</td>\n",
       "      <td>Eli Morgan</td>\n",
       "      <td>1996-05-13</td>\n",
       "      <td>2021-05-28</td>\n",
       "      <td>Rancho Palos Verdes</td>\n",
       "      <td>CA</td>\n",
       "      <td>USA</td>\n",
       "      <td>70</td>\n",
       "      <td>190</td>\n",
       "      <td>1</td>\n",
       "      <td>Pitcher</td>\n",
       "      <td>True</td>\n",
       "    </tr>\n",
       "    <tr>\n",
       "      <th>4</th>\n",
       "      <td>666201</td>\n",
       "      <td>Alek Manoah</td>\n",
       "      <td>1998-01-09</td>\n",
       "      <td>2021-05-27</td>\n",
       "      <td>Homestead</td>\n",
       "      <td>FL</td>\n",
       "      <td>USA</td>\n",
       "      <td>78</td>\n",
       "      <td>260</td>\n",
       "      <td>1</td>\n",
       "      <td>Pitcher</td>\n",
       "      <td>True</td>\n",
       "    </tr>\n",
       "  </tbody>\n",
       "</table>\n",
       "</div>"
      ],
      "text/plain": [
       "   playerId          playerName         DOB mlbDebutDate            birthCity  \\\n",
       "0    665482  Gilberto Celestino  1999-02-13   2021-06-02        Santo Domingo   \n",
       "1    593590       Webster Rivas  1990-08-08   2021-05-28                Nagua   \n",
       "2    661269  Vladimir Gutierrez  1995-09-18   2021-05-28               Havana   \n",
       "3    669212          Eli Morgan  1996-05-13   2021-05-28  Rancho Palos Verdes   \n",
       "4    666201         Alek Manoah  1998-01-09   2021-05-27            Homestead   \n",
       "\n",
       "  birthStateProvince        birthCountry  heightInches  weight  \\\n",
       "0                NaN  Dominican Republic            72     170   \n",
       "1                NaN  Dominican Republic            73     219   \n",
       "2                NaN                Cuba            73     190   \n",
       "3                 CA                 USA            70     190   \n",
       "4                 FL                 USA            78     260   \n",
       "\n",
       "  primaryPositionCode primaryPositionName playerForTestSetAndFuturePreds  \n",
       "0                   8          Outfielder                          False  \n",
       "1                   3          First Base                           True  \n",
       "2                   1             Pitcher                           True  \n",
       "3                   1             Pitcher                           True  \n",
       "4                   1             Pitcher                           True  "
      ]
     },
     "execution_count": 4,
     "metadata": {},
     "output_type": "execute_result"
    }
   ],
   "source": [
    "df_players.head()"
   ]
  },
  {
   "cell_type": "code",
   "execution_count": 8,
   "id": "ec7ecaf5",
   "metadata": {},
   "outputs": [
    {
     "data": {
      "text/html": [
       "<div>\n",
       "<style scoped>\n",
       "    .dataframe tbody tr th:only-of-type {\n",
       "        vertical-align: middle;\n",
       "    }\n",
       "\n",
       "    .dataframe tbody tr th {\n",
       "        vertical-align: top;\n",
       "    }\n",
       "\n",
       "    .dataframe thead th {\n",
       "        text-align: right;\n",
       "    }\n",
       "</style>\n",
       "<table border=\"1\" class=\"dataframe\">\n",
       "  <thead>\n",
       "    <tr style=\"text-align: right;\">\n",
       "      <th></th>\n",
       "      <th>playerId</th>\n",
       "      <th>heightInches</th>\n",
       "      <th>weight</th>\n",
       "    </tr>\n",
       "  </thead>\n",
       "  <tbody>\n",
       "    <tr>\n",
       "      <th>count</th>\n",
       "      <td>2061.000000</td>\n",
       "      <td>2061.000000</td>\n",
       "      <td>2061.000000</td>\n",
       "    </tr>\n",
       "    <tr>\n",
       "      <th>mean</th>\n",
       "      <td>587590.916060</td>\n",
       "      <td>73.750607</td>\n",
       "      <td>210.942261</td>\n",
       "    </tr>\n",
       "    <tr>\n",
       "      <th>std</th>\n",
       "      <td>71127.947793</td>\n",
       "      <td>2.309101</td>\n",
       "      <td>20.733118</td>\n",
       "    </tr>\n",
       "    <tr>\n",
       "      <th>min</th>\n",
       "      <td>112526.000000</td>\n",
       "      <td>66.000000</td>\n",
       "      <td>151.000000</td>\n",
       "    </tr>\n",
       "    <tr>\n",
       "      <th>25%</th>\n",
       "      <td>543343.000000</td>\n",
       "      <td>72.000000</td>\n",
       "      <td>196.000000</td>\n",
       "    </tr>\n",
       "    <tr>\n",
       "      <th>50%</th>\n",
       "      <td>605388.000000</td>\n",
       "      <td>74.000000</td>\n",
       "      <td>210.000000</td>\n",
       "    </tr>\n",
       "    <tr>\n",
       "      <th>75%</th>\n",
       "      <td>642758.000000</td>\n",
       "      <td>75.000000</td>\n",
       "      <td>225.000000</td>\n",
       "    </tr>\n",
       "    <tr>\n",
       "      <th>max</th>\n",
       "      <td>685503.000000</td>\n",
       "      <td>82.000000</td>\n",
       "      <td>300.000000</td>\n",
       "    </tr>\n",
       "  </tbody>\n",
       "</table>\n",
       "</div>"
      ],
      "text/plain": [
       "            playerId  heightInches       weight\n",
       "count    2061.000000   2061.000000  2061.000000\n",
       "mean   587590.916060     73.750607   210.942261\n",
       "std     71127.947793      2.309101    20.733118\n",
       "min    112526.000000     66.000000   151.000000\n",
       "25%    543343.000000     72.000000   196.000000\n",
       "50%    605388.000000     74.000000   210.000000\n",
       "75%    642758.000000     75.000000   225.000000\n",
       "max    685503.000000     82.000000   300.000000"
      ]
     },
     "execution_count": 8,
     "metadata": {},
     "output_type": "execute_result"
    }
   ],
   "source": [
    "df_players.describe()"
   ]
  },
  {
   "cell_type": "code",
   "execution_count": 16,
   "id": "6b7ca791",
   "metadata": {},
   "outputs": [],
   "source": [
    "df_players['DOB'] = pd.to_datetime(df_players['DOB'])"
   ]
  },
  {
   "cell_type": "code",
   "execution_count": 20,
   "id": "8efdb3ae",
   "metadata": {},
   "outputs": [
    {
     "data": {
      "text/plain": [
       "count                    2061\n",
       "unique                   1670\n",
       "top       1995-01-17 00:00:00\n",
       "freq                        5\n",
       "first     1973-05-24 00:00:00\n",
       "last      2000-05-16 00:00:00\n",
       "Name: DOB, dtype: object"
      ]
     },
     "execution_count": 20,
     "metadata": {},
     "output_type": "execute_result"
    }
   ],
   "source": [
    "df_players['DOB'].describe()"
   ]
  },
  {
   "cell_type": "code",
   "execution_count": 34,
   "id": "11ecb96e",
   "metadata": {},
   "outputs": [
    {
     "data": {
      "text/plain": [
       "<matplotlib.axes._subplots.AxesSubplot at 0x1f0b5906198>"
      ]
     },
     "execution_count": 34,
     "metadata": {},
     "output_type": "execute_result"
    },
    {
     "data": {
      "image/png": "[encoded data removed]",
      "text/plain": [
       "<Figure size 432x288 with 1 Axes>"
      ]
     },
     "metadata": {
      "needs_background": "light"
     },
     "output_type": "display_data"
    }
   ],
   "source": [
    "df_players[\"DOB\"].groupby(df_players[\"DOB\"].dt.year).count().plot(kind=\"bar\")"
   ]
  },
  {
   "cell_type": "code",
   "execution_count": null,
   "id": "1e345111",
   "metadata": {},
   "outputs": [],
   "source": []
  }
 ],
 "metadata": {
  "kernelspec": {
   "display_name": "Python 3",
   "language": "python",
   "name": "python3"
  },
  "language_info": {
   "codemirror_mode": {
    "name": "ipython",
    "version": 3
   },
   "file_extension": ".py",
   "mimetype": "text/x-python",
   "name": "python",
   "nbconvert_exporter": "python",
   "pygments_lexer": "ipython3",
   "version": "3.5.6"
  }
 },
 "nbformat": 4,
 "nbformat_minor": 5
}
