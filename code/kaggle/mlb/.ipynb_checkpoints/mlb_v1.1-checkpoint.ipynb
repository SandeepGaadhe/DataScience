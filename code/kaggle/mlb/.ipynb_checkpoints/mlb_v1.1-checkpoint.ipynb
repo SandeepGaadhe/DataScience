{
 "cells": [
  {
   "cell_type": "markdown",
   "id": "6fd71a34",
   "metadata": {},
   "source": [
    "### Load the dataset"
   ]
  },
  {
   "cell_type": "code",
   "execution_count": 2,
   "id": "4b630a94",
   "metadata": {},
   "outputs": [],
   "source": [
    "import pandas as pd\n",
    "import os\n",
    "import matplotlib\n",
    "import plotly.express as px\n",
    "import json"
   ]
  },
  {
   "cell_type": "code",
   "execution_count": 89,
   "id": "3d2acbcd",
   "metadata": {},
   "outputs": [],
   "source": [
    "df_awards = pd.read_csv(r\"S:\\SandeepG\\Official\\DataScience\\gitHub\\data\\kaggle\\mlb\\awards.csv\")\n",
    "df_players = pd.read_csv(r\"S:\\SandeepG\\Official\\DataScience\\gitHub\\data\\kaggle\\mlb\\players.csv\")\n",
    "df_seasons = pd.read_csv(r\"S:\\SandeepG\\Official\\DataScience\\gitHub\\data\\kaggle\\mlb\\seasons.csv\")\n",
    "df_teams = pd.read_csv(r\"S:\\SandeepG\\Official\\DataScience\\gitHub\\data\\kaggle\\mlb\\teams.csv\")\n",
    "#df_train = pd.read_csv(r\"S:\\SandeepG\\Official\\DataScience\\gitHub\\data\\kaggle\\mlb\\train_10.csv\")\n",
    "df_train_10 = pd.read_csv(r\"S:\\SandeepG\\Official\\DataScience\\gitHub\\data\\kaggle\\mlb\\train.csv\", nrows = 10)\n",
    "df_train_10.to_csv(r\"S:\\SandeepG\\Official\\DataScience\\gitHub\\data\\kaggle\\mlb\\out\\train_10.csv\", index = False)\n"
   ]
  },
  {
   "cell_type": "markdown",
   "id": "f94382b8",
   "metadata": {},
   "source": [
    "### Following https://www.kaggle.com/miklgr500/mlb-player-digital-engagement-forecasting-eda"
   ]
  },
  {
   "cell_type": "code",
   "execution_count": 4,
   "id": "7bb01241",
   "metadata": {},
   "outputs": [
    {
     "data": {
      "text/html": [
       "<div>\n",
       "<style scoped>\n",
       "    .dataframe tbody tr th:only-of-type {\n",
       "        vertical-align: middle;\n",
       "    }\n",
       "\n",
       "    .dataframe tbody tr th {\n",
       "        vertical-align: top;\n",
       "    }\n",
       "\n",
       "    .dataframe thead th {\n",
       "        text-align: right;\n",
       "    }\n",
       "</style>\n",
       "<table border=\"1\" class=\"dataframe\">\n",
       "  <thead>\n",
       "    <tr style=\"text-align: right;\">\n",
       "      <th></th>\n",
       "      <th>playerId</th>\n",
       "      <th>playerName</th>\n",
       "      <th>DOB</th>\n",
       "      <th>mlbDebutDate</th>\n",
       "      <th>birthCity</th>\n",
       "      <th>birthStateProvince</th>\n",
       "      <th>birthCountry</th>\n",
       "      <th>heightInches</th>\n",
       "      <th>weight</th>\n",
       "      <th>primaryPositionCode</th>\n",
       "      <th>primaryPositionName</th>\n",
       "      <th>playerForTestSetAndFuturePreds</th>\n",
       "    </tr>\n",
       "  </thead>\n",
       "  <tbody>\n",
       "    <tr>\n",
       "      <th>0</th>\n",
       "      <td>665482</td>\n",
       "      <td>Gilberto Celestino</td>\n",
       "      <td>1999-02-13</td>\n",
       "      <td>2021-06-02</td>\n",
       "      <td>Santo Domingo</td>\n",
       "      <td>NaN</td>\n",
       "      <td>Dominican Republic</td>\n",
       "      <td>72</td>\n",
       "      <td>170</td>\n",
       "      <td>8</td>\n",
       "      <td>Outfielder</td>\n",
       "      <td>False</td>\n",
       "    </tr>\n",
       "    <tr>\n",
       "      <th>1</th>\n",
       "      <td>593590</td>\n",
       "      <td>Webster Rivas</td>\n",
       "      <td>1990-08-08</td>\n",
       "      <td>2021-05-28</td>\n",
       "      <td>Nagua</td>\n",
       "      <td>NaN</td>\n",
       "      <td>Dominican Republic</td>\n",
       "      <td>73</td>\n",
       "      <td>219</td>\n",
       "      <td>3</td>\n",
       "      <td>First Base</td>\n",
       "      <td>True</td>\n",
       "    </tr>\n",
       "    <tr>\n",
       "      <th>2</th>\n",
       "      <td>661269</td>\n",
       "      <td>Vladimir Gutierrez</td>\n",
       "      <td>1995-09-18</td>\n",
       "      <td>2021-05-28</td>\n",
       "      <td>Havana</td>\n",
       "      <td>NaN</td>\n",
       "      <td>Cuba</td>\n",
       "      <td>73</td>\n",
       "      <td>190</td>\n",
       "      <td>1</td>\n",
       "      <td>Pitcher</td>\n",
       "      <td>True</td>\n",
       "    </tr>\n",
       "    <tr>\n",
       "      <th>3</th>\n",
       "      <td>669212</td>\n",
       "      <td>Eli Morgan</td>\n",
       "      <td>1996-05-13</td>\n",
       "      <td>2021-05-28</td>\n",
       "      <td>Rancho Palos Verdes</td>\n",
       "      <td>CA</td>\n",
       "      <td>USA</td>\n",
       "      <td>70</td>\n",
       "      <td>190</td>\n",
       "      <td>1</td>\n",
       "      <td>Pitcher</td>\n",
       "      <td>True</td>\n",
       "    </tr>\n",
       "    <tr>\n",
       "      <th>4</th>\n",
       "      <td>666201</td>\n",
       "      <td>Alek Manoah</td>\n",
       "      <td>1998-01-09</td>\n",
       "      <td>2021-05-27</td>\n",
       "      <td>Homestead</td>\n",
       "      <td>FL</td>\n",
       "      <td>USA</td>\n",
       "      <td>78</td>\n",
       "      <td>260</td>\n",
       "      <td>1</td>\n",
       "      <td>Pitcher</td>\n",
       "      <td>True</td>\n",
       "    </tr>\n",
       "  </tbody>\n",
       "</table>\n",
       "</div>"
      ],
      "text/plain": [
       "   playerId          playerName         DOB mlbDebutDate            birthCity  \\\n",
       "0    665482  Gilberto Celestino  1999-02-13   2021-06-02        Santo Domingo   \n",
       "1    593590       Webster Rivas  1990-08-08   2021-05-28                Nagua   \n",
       "2    661269  Vladimir Gutierrez  1995-09-18   2021-05-28               Havana   \n",
       "3    669212          Eli Morgan  1996-05-13   2021-05-28  Rancho Palos Verdes   \n",
       "4    666201         Alek Manoah  1998-01-09   2021-05-27            Homestead   \n",
       "\n",
       "  birthStateProvince        birthCountry  heightInches  weight  \\\n",
       "0                NaN  Dominican Republic            72     170   \n",
       "1                NaN  Dominican Republic            73     219   \n",
       "2                NaN                Cuba            73     190   \n",
       "3                 CA                 USA            70     190   \n",
       "4                 FL                 USA            78     260   \n",
       "\n",
       "  primaryPositionCode primaryPositionName playerForTestSetAndFuturePreds  \n",
       "0                   8          Outfielder                          False  \n",
       "1                   3          First Base                           True  \n",
       "2                   1             Pitcher                           True  \n",
       "3                   1             Pitcher                           True  \n",
       "4                   1             Pitcher                           True  "
      ]
     },
     "execution_count": 4,
     "metadata": {},
     "output_type": "execute_result"
    }
   ],
   "source": [
    "df_players.head()"
   ]
  },
  {
   "cell_type": "code",
   "execution_count": 5,
   "id": "ec7ecaf5",
   "metadata": {},
   "outputs": [
    {
     "data": {
      "text/html": [
       "<div>\n",
       "<style scoped>\n",
       "    .dataframe tbody tr th:only-of-type {\n",
       "        vertical-align: middle;\n",
       "    }\n",
       "\n",
       "    .dataframe tbody tr th {\n",
       "        vertical-align: top;\n",
       "    }\n",
       "\n",
       "    .dataframe thead th {\n",
       "        text-align: right;\n",
       "    }\n",
       "</style>\n",
       "<table border=\"1\" class=\"dataframe\">\n",
       "  <thead>\n",
       "    <tr style=\"text-align: right;\">\n",
       "      <th></th>\n",
       "      <th>playerId</th>\n",
       "      <th>heightInches</th>\n",
       "      <th>weight</th>\n",
       "    </tr>\n",
       "  </thead>\n",
       "  <tbody>\n",
       "    <tr>\n",
       "      <th>count</th>\n",
       "      <td>2061.000000</td>\n",
       "      <td>2061.000000</td>\n",
       "      <td>2061.000000</td>\n",
       "    </tr>\n",
       "    <tr>\n",
       "      <th>mean</th>\n",
       "      <td>587590.916060</td>\n",
       "      <td>73.750607</td>\n",
       "      <td>210.942261</td>\n",
       "    </tr>\n",
       "    <tr>\n",
       "      <th>std</th>\n",
       "      <td>71127.947793</td>\n",
       "      <td>2.309101</td>\n",
       "      <td>20.733118</td>\n",
       "    </tr>\n",
       "    <tr>\n",
       "      <th>min</th>\n",
       "      <td>112526.000000</td>\n",
       "      <td>66.000000</td>\n",
       "      <td>151.000000</td>\n",
       "    </tr>\n",
       "    <tr>\n",
       "      <th>25%</th>\n",
       "      <td>543343.000000</td>\n",
       "      <td>72.000000</td>\n",
       "      <td>196.000000</td>\n",
       "    </tr>\n",
       "    <tr>\n",
       "      <th>50%</th>\n",
       "      <td>605388.000000</td>\n",
       "      <td>74.000000</td>\n",
       "      <td>210.000000</td>\n",
       "    </tr>\n",
       "    <tr>\n",
       "      <th>75%</th>\n",
       "      <td>642758.000000</td>\n",
       "      <td>75.000000</td>\n",
       "      <td>225.000000</td>\n",
       "    </tr>\n",
       "    <tr>\n",
       "      <th>max</th>\n",
       "      <td>685503.000000</td>\n",
       "      <td>82.000000</td>\n",
       "      <td>300.000000</td>\n",
       "    </tr>\n",
       "  </tbody>\n",
       "</table>\n",
       "</div>"
      ],
      "text/plain": [
       "            playerId  heightInches       weight\n",
       "count    2061.000000   2061.000000  2061.000000\n",
       "mean   587590.916060     73.750607   210.942261\n",
       "std     71127.947793      2.309101    20.733118\n",
       "min    112526.000000     66.000000   151.000000\n",
       "25%    543343.000000     72.000000   196.000000\n",
       "50%    605388.000000     74.000000   210.000000\n",
       "75%    642758.000000     75.000000   225.000000\n",
       "max    685503.000000     82.000000   300.000000"
      ]
     },
     "execution_count": 5,
     "metadata": {},
     "output_type": "execute_result"
    }
   ],
   "source": [
    "df_players.describe()"
   ]
  },
  {
   "cell_type": "code",
   "execution_count": 6,
   "id": "6b7ca791",
   "metadata": {},
   "outputs": [],
   "source": [
    "df_players['DOB'] = pd.to_datetime(df_players['DOB'])"
   ]
  },
  {
   "cell_type": "code",
   "execution_count": 7,
   "id": "8efdb3ae",
   "metadata": {},
   "outputs": [
    {
     "data": {
      "text/plain": [
       "count                    2061\n",
       "unique                   1670\n",
       "top       1995-01-17 00:00:00\n",
       "freq                        5\n",
       "first     1973-05-24 00:00:00\n",
       "last      2000-05-16 00:00:00\n",
       "Name: DOB, dtype: object"
      ]
     },
     "execution_count": 7,
     "metadata": {},
     "output_type": "execute_result"
    }
   ],
   "source": [
    "df_players['DOB'].describe()"
   ]
  },
  {
   "cell_type": "code",
   "execution_count": 8,
   "id": "11ecb96e",
   "metadata": {},
   "outputs": [
    {
     "data": {
      "text/plain": [
       "<matplotlib.axes._subplots.AxesSubplot at 0x294631293c8>"
      ]
     },
     "execution_count": 8,
     "metadata": {},
     "output_type": "execute_result"
    }
   ],
   "source": [
    "df_players[\"DOB\"].groupby(df_players[\"DOB\"].dt.year).count().plot(kind=\"bar\")"
   ]
  },
  {
   "cell_type": "code",
   "execution_count": 10,
   "id": "1e345111",
   "metadata": {},
   "outputs": [],
   "source": [
    "#df_players['densety'] = 1 / len(df_players)\n",
    "#df_players = df_players.fillna('NaN')\n",
    "\n",
    "#fig = px.sunburst(df_players, path=['playerForTestSetAndFuturePreds', 'primaryPositionName', 'birthCountry', 'birthStateProvince', 'birthCity'], values='densety')\n",
    "#fig = px.sunburst(df_players, path=['playerForTestSetAndFuturePreds', 'primaryPositionName', 'birthCountry', 'birthStateProvince'], values='densety')\n",
    "#fig.show()"
   ]
  },
  {
   "cell_type": "code",
   "execution_count": 11,
   "id": "138f665e",
   "metadata": {},
   "outputs": [
    {
     "data": {
      "text/plain": [
       "Index(['playerId', 'playerName', 'DOB', 'mlbDebutDate', 'birthCity',\n",
       "       'birthStateProvince', 'birthCountry', 'heightInches', 'weight',\n",
       "       'primaryPositionCode', 'primaryPositionName',\n",
       "       'playerForTestSetAndFuturePreds'],\n",
       "      dtype='object')"
      ]
     },
     "execution_count": 11,
     "metadata": {},
     "output_type": "execute_result"
    }
   ],
   "source": [
    "df_players.columns"
   ]
  },
  {
   "cell_type": "code",
   "execution_count": 13,
   "id": "c598b12e",
   "metadata": {},
   "outputs": [
    {
     "data": {
      "text/html": [
       "<div>\n",
       "<style scoped>\n",
       "    .dataframe tbody tr th:only-of-type {\n",
       "        vertical-align: middle;\n",
       "    }\n",
       "\n",
       "    .dataframe tbody tr th {\n",
       "        vertical-align: top;\n",
       "    }\n",
       "\n",
       "    .dataframe thead th {\n",
       "        text-align: right;\n",
       "    }\n",
       "</style>\n",
       "<table border=\"1\" class=\"dataframe\">\n",
       "  <thead>\n",
       "    <tr style=\"text-align: right;\">\n",
       "      <th></th>\n",
       "      <th>date</th>\n",
       "      <th>nextDayPlayerEngagement</th>\n",
       "      <th>games</th>\n",
       "      <th>rosters</th>\n",
       "      <th>playerBoxScores</th>\n",
       "      <th>teamBoxScores</th>\n",
       "      <th>transactions</th>\n",
       "      <th>standings</th>\n",
       "      <th>awards</th>\n",
       "      <th>events</th>\n",
       "      <th>playerTwitterFollowers</th>\n",
       "      <th>teamTwitterFollowers</th>\n",
       "    </tr>\n",
       "  </thead>\n",
       "  <tbody>\n",
       "    <tr>\n",
       "      <th>0</th>\n",
       "      <td>20180101</td>\n",
       "      <td>[{\"engagementMetricsDate\":\"2018-01-02\",\"player...</td>\n",
       "      <td>NaN</td>\n",
       "      <td>[{\"playerId\":400121,\"gameDate\":\"2018-01-01\",\"t...</td>\n",
       "      <td>NaN</td>\n",
       "      <td>NaN</td>\n",
       "      <td>[{\"transactionId\":340732,\"playerId\":547348,\"pl...</td>\n",
       "      <td>NaN</td>\n",
       "      <td>NaN</td>\n",
       "      <td>NaN</td>\n",
       "      <td>[{\"date\":\"2018-01-01\",\"playerId\":545361,\"playe...</td>\n",
       "      <td>[{\"date\":\"2018-01-01\",\"teamId\":147,\"teamName\":...</td>\n",
       "    </tr>\n",
       "    <tr>\n",
       "      <th>1</th>\n",
       "      <td>20180102</td>\n",
       "      <td>[{\"engagementMetricsDate\":\"2018-01-03\",\"player...</td>\n",
       "      <td>NaN</td>\n",
       "      <td>[{\"playerId\":134181,\"gameDate\":\"2018-01-02\",\"t...</td>\n",
       "      <td>NaN</td>\n",
       "      <td>NaN</td>\n",
       "      <td>[{\"transactionId\":339458,\"playerId\":621173,\"pl...</td>\n",
       "      <td>NaN</td>\n",
       "      <td>NaN</td>\n",
       "      <td>NaN</td>\n",
       "      <td>NaN</td>\n",
       "      <td>NaN</td>\n",
       "    </tr>\n",
       "    <tr>\n",
       "      <th>2</th>\n",
       "      <td>20180103</td>\n",
       "      <td>[{\"engagementMetricsDate\":\"2018-01-04\",\"player...</td>\n",
       "      <td>NaN</td>\n",
       "      <td>[{\"playerId\":425492,\"gameDate\":\"2018-01-03\",\"t...</td>\n",
       "      <td>NaN</td>\n",
       "      <td>NaN</td>\n",
       "      <td>[{\"transactionId\":347527,\"playerId\":572389,\"pl...</td>\n",
       "      <td>NaN</td>\n",
       "      <td>NaN</td>\n",
       "      <td>NaN</td>\n",
       "      <td>NaN</td>\n",
       "      <td>NaN</td>\n",
       "    </tr>\n",
       "    <tr>\n",
       "      <th>3</th>\n",
       "      <td>20180104</td>\n",
       "      <td>[{\"engagementMetricsDate\":\"2018-01-05\",\"player...</td>\n",
       "      <td>NaN</td>\n",
       "      <td>[{\"playerId\":282332,\"gameDate\":\"2018-01-04\",\"t...</td>\n",
       "      <td>NaN</td>\n",
       "      <td>NaN</td>\n",
       "      <td>[{\"transactionId\":339549,\"playerId\":545343,\"pl...</td>\n",
       "      <td>NaN</td>\n",
       "      <td>NaN</td>\n",
       "      <td>NaN</td>\n",
       "      <td>NaN</td>\n",
       "      <td>NaN</td>\n",
       "    </tr>\n",
       "    <tr>\n",
       "      <th>4</th>\n",
       "      <td>20180105</td>\n",
       "      <td>[{\"engagementMetricsDate\":\"2018-01-06\",\"player...</td>\n",
       "      <td>NaN</td>\n",
       "      <td>[{\"playerId\":282332,\"gameDate\":\"2018-01-05\",\"t...</td>\n",
       "      <td>NaN</td>\n",
       "      <td>NaN</td>\n",
       "      <td>[{\"transactionId\":341195,\"playerId\":628336,\"pl...</td>\n",
       "      <td>NaN</td>\n",
       "      <td>NaN</td>\n",
       "      <td>NaN</td>\n",
       "      <td>NaN</td>\n",
       "      <td>NaN</td>\n",
       "    </tr>\n",
       "  </tbody>\n",
       "</table>\n",
       "</div>"
      ],
      "text/plain": [
       "       date                            nextDayPlayerEngagement  games  \\\n",
       "0  20180101  [{\"engagementMetricsDate\":\"2018-01-02\",\"player...    NaN   \n",
       "1  20180102  [{\"engagementMetricsDate\":\"2018-01-03\",\"player...    NaN   \n",
       "2  20180103  [{\"engagementMetricsDate\":\"2018-01-04\",\"player...    NaN   \n",
       "3  20180104  [{\"engagementMetricsDate\":\"2018-01-05\",\"player...    NaN   \n",
       "4  20180105  [{\"engagementMetricsDate\":\"2018-01-06\",\"player...    NaN   \n",
       "\n",
       "                                             rosters  playerBoxScores  \\\n",
       "0  [{\"playerId\":400121,\"gameDate\":\"2018-01-01\",\"t...              NaN   \n",
       "1  [{\"playerId\":134181,\"gameDate\":\"2018-01-02\",\"t...              NaN   \n",
       "2  [{\"playerId\":425492,\"gameDate\":\"2018-01-03\",\"t...              NaN   \n",
       "3  [{\"playerId\":282332,\"gameDate\":\"2018-01-04\",\"t...              NaN   \n",
       "4  [{\"playerId\":282332,\"gameDate\":\"2018-01-05\",\"t...              NaN   \n",
       "\n",
       "   teamBoxScores                                       transactions  \\\n",
       "0            NaN  [{\"transactionId\":340732,\"playerId\":547348,\"pl...   \n",
       "1            NaN  [{\"transactionId\":339458,\"playerId\":621173,\"pl...   \n",
       "2            NaN  [{\"transactionId\":347527,\"playerId\":572389,\"pl...   \n",
       "3            NaN  [{\"transactionId\":339549,\"playerId\":545343,\"pl...   \n",
       "4            NaN  [{\"transactionId\":341195,\"playerId\":628336,\"pl...   \n",
       "\n",
       "   standings  awards  events  \\\n",
       "0        NaN     NaN     NaN   \n",
       "1        NaN     NaN     NaN   \n",
       "2        NaN     NaN     NaN   \n",
       "3        NaN     NaN     NaN   \n",
       "4        NaN     NaN     NaN   \n",
       "\n",
       "                              playerTwitterFollowers  \\\n",
       "0  [{\"date\":\"2018-01-01\",\"playerId\":545361,\"playe...   \n",
       "1                                                NaN   \n",
       "2                                                NaN   \n",
       "3                                                NaN   \n",
       "4                                                NaN   \n",
       "\n",
       "                                teamTwitterFollowers  \n",
       "0  [{\"date\":\"2018-01-01\",\"teamId\":147,\"teamName\":...  \n",
       "1                                                NaN  \n",
       "2                                                NaN  \n",
       "3                                                NaN  \n",
       "4                                                NaN  "
      ]
     },
     "execution_count": 13,
     "metadata": {},
     "output_type": "execute_result"
    }
   ],
   "source": [
    "df_train.head()"
   ]
  },
  {
   "cell_type": "code",
   "execution_count": 16,
   "id": "5d76e136",
   "metadata": {},
   "outputs": [],
   "source": [
    "df_train_next = df_train['nextDayPlayerEngagement']\n",
    "df_train_next = df_train_next.to_frame()"
   ]
  },
  {
   "cell_type": "code",
   "execution_count": 17,
   "id": "33f60f71",
   "metadata": {},
   "outputs": [
    {
     "data": {
      "text/plain": [
       "pandas.core.frame.DataFrame"
      ]
     },
     "execution_count": 17,
     "metadata": {},
     "output_type": "execute_result"
    }
   ],
   "source": [
    "type(df_train_next)"
   ]
  },
  {
   "cell_type": "code",
   "execution_count": 18,
   "id": "7325fe69",
   "metadata": {},
   "outputs": [
    {
     "data": {
      "text/html": [
       "<div>\n",
       "<style scoped>\n",
       "    .dataframe tbody tr th:only-of-type {\n",
       "        vertical-align: middle;\n",
       "    }\n",
       "\n",
       "    .dataframe tbody tr th {\n",
       "        vertical-align: top;\n",
       "    }\n",
       "\n",
       "    .dataframe thead th {\n",
       "        text-align: right;\n",
       "    }\n",
       "</style>\n",
       "<table border=\"1\" class=\"dataframe\">\n",
       "  <thead>\n",
       "    <tr style=\"text-align: right;\">\n",
       "      <th></th>\n",
       "      <th>nextDayPlayerEngagement</th>\n",
       "    </tr>\n",
       "  </thead>\n",
       "  <tbody>\n",
       "    <tr>\n",
       "      <th>0</th>\n",
       "      <td>[{\"engagementMetricsDate\":\"2018-01-02\",\"player...</td>\n",
       "    </tr>\n",
       "    <tr>\n",
       "      <th>1</th>\n",
       "      <td>[{\"engagementMetricsDate\":\"2018-01-03\",\"player...</td>\n",
       "    </tr>\n",
       "    <tr>\n",
       "      <th>2</th>\n",
       "      <td>[{\"engagementMetricsDate\":\"2018-01-04\",\"player...</td>\n",
       "    </tr>\n",
       "    <tr>\n",
       "      <th>3</th>\n",
       "      <td>[{\"engagementMetricsDate\":\"2018-01-05\",\"player...</td>\n",
       "    </tr>\n",
       "    <tr>\n",
       "      <th>4</th>\n",
       "      <td>[{\"engagementMetricsDate\":\"2018-01-06\",\"player...</td>\n",
       "    </tr>\n",
       "  </tbody>\n",
       "</table>\n",
       "</div>"
      ],
      "text/plain": [
       "                             nextDayPlayerEngagement\n",
       "0  [{\"engagementMetricsDate\":\"2018-01-02\",\"player...\n",
       "1  [{\"engagementMetricsDate\":\"2018-01-03\",\"player...\n",
       "2  [{\"engagementMetricsDate\":\"2018-01-04\",\"player...\n",
       "3  [{\"engagementMetricsDate\":\"2018-01-05\",\"player...\n",
       "4  [{\"engagementMetricsDate\":\"2018-01-06\",\"player..."
      ]
     },
     "execution_count": 18,
     "metadata": {},
     "output_type": "execute_result"
    }
   ],
   "source": [
    "df_train_next.head()"
   ]
  },
  {
   "cell_type": "code",
   "execution_count": 21,
   "id": "55b8b06c",
   "metadata": {},
   "outputs": [],
   "source": [
    "class StopExecution(Exception):\n",
    "    def _render_traceback_(self):\n",
    "        pass"
   ]
  },
  {
   "cell_type": "code",
   "execution_count": 20,
   "id": "b739f0b4",
   "metadata": {},
   "outputs": [],
   "source": [
    "#df_train_json = df_train_next.to_json(orient=\"records\")\n",
    "#df_train_json\n",
    "#type(df_train_json)\n",
    "#data = pd.read_json(df_train_json,orient='columns')\n",
    "#df_train_next.explode('nextDayPlayerEngagement')\n",
    "#data.head()\n",
    "#df_train_next.to_csv(r\"S:\\SandeepG\\Official\\DataScience\\gitHub\\data\\kaggle\\mlb\\train_next_10.csv\", index = False)\n",
    "#type(df_train_next)\n",
    "#df_train.shape"
   ]
  },
  {
   "cell_type": "code",
   "execution_count": 23,
   "id": "a902b69a",
   "metadata": {},
   "outputs": [
    {
     "name": "stdout",
     "output_type": "stream",
     "text": [
      "<class 'pandas.core.frame.DataFrame'>\n"
     ]
    }
   ],
   "source": [
    "print(type(df_train_next))"
   ]
  },
  {
   "cell_type": "code",
   "execution_count": 25,
   "id": "b6374b8e",
   "metadata": {},
   "outputs": [
    {
     "name": "stdout",
     "output_type": "stream",
     "text": [
      "['nextDayPlayerEngagement', 'games', 'rosters', 'playerBoxScores', 'teamBoxScores', 'transactions', 'standings', 'awards', 'events', 'playerTwitterFollowers', 'teamTwitterFollowers']\n"
     ]
    }
   ],
   "source": [
    "df_train_json_columns = df_train.drop('date', axis =1).columns.values.tolist()\n",
    "print(df_train_json_columns)"
   ]
  },
  {
   "cell_type": "code",
   "execution_count": 80,
   "id": "529d02d2",
   "metadata": {},
   "outputs": [],
   "source": [
    "def convert_json_to_df(p_df):\n",
    "    \n",
    "    daily_df = pd.DataFrame()\n",
    "    \n",
    "    #print('---------- Start : convert_json_to_df ------------ ')\n",
    "    for curr_train_date, curr_train_row in p_df.iterrows():\n",
    "        \n",
    "        # load the json in df\n",
    "        daily_df = pd.read_json(curr_train_row[json_col])\n",
    "        \n",
    "        #append date column to df\n",
    "        daily_df['date'] = curr_train_row['date']\n",
    "        \n",
    "        # rearrange the cols\n",
    "        #daily_df = daily_df[['date', 'engagementMetricsDate', 'playerId','target1','target2','target3','target4']]\n",
    "    \n",
    "    #print(daily_df.head(1))\n",
    "    #print('---------- End : convert_json_to_df ------------ ')\n",
    "    return daily_df"
   ]
  },
  {
   "cell_type": "code",
   "execution_count": 82,
   "id": "21cf78d1",
   "metadata": {},
   "outputs": [],
   "source": [
    "for json_col in df_train_json_columns:\n",
    "    \n",
    "    #print('\\n***********************************************')\n",
    "    # append date column to current json col & make a df for parsing\n",
    "    df_train_date_json_col = df_train[['date', json_col]]\n",
    "    #print('df_train_date_json_col : ', df_train_date_json_col.columns.values.tolist(), 'df_train_date_json_col.shape : ', df_train_date_json_col.shape)\n",
    "    \n",
    "    # remove na rows, if any\n",
    "    sr_date_json_col_nonNA_indices = ~pd.isna(df_train_date_json_col[json_col])\n",
    "    df_train_date_json_col_nonNA = (df_train_date_json_col[sr_date_json_col_nonNA_indices]).reset_index(drop = True)\n",
    "    \n",
    "    #print(df_train_date_json_col_nonNA.shape)\n",
    "    #print(df_train_date_json_col_nonNA.head(1))\n",
    "    #continue\n",
    "    \n",
    "    if json_col == 'nextDayPlayerEngagement':\n",
    "        df_nextDayPlayerEngagement = convert_json_to_df(df_train_date_json_col_nonNA)        \n",
    "    elif json_col == 'games':\n",
    "        df_games = convert_json_to_df(df_train_date_json_col_nonNA)\n",
    "    elif json_col == 'rosters':\n",
    "        df_rosters = convert_json_to_df(df_train_date_json_col_nonNA)\n",
    "    elif json_col == 'playerBoxScores':\n",
    "        df_playerBoxScores = convert_json_to_df(df_train_date_json_col_nonNA)\n",
    "    elif json_col == 'teamBoxScores':\n",
    "        df_teamBoxScores = convert_json_to_df(df_train_date_json_col_nonNA)\n",
    "    elif json_col == 'transactions':\n",
    "        df_transactions = convert_json_to_df(df_train_date_json_col_nonNA)\n",
    "    elif json_col == 'standings':\n",
    "        df_standings = convert_json_to_df(df_train_date_json_col_nonNA)\n",
    "    elif json_col == 'awards':\n",
    "        df_awards = convert_json_to_df(df_train_date_json_col_nonNA)\n",
    "    elif json_col == 'events':\n",
    "        df_events = convert_json_to_df(df_train_date_json_col_nonNA)\n",
    "    elif json_col == 'playerTwitterFollowers':\n",
    "        df_playerTwitterFollowers = convert_json_to_df(df_train_date_json_col_nonNA)\n",
    "    elif json_col == 'teamTwitterFollowers':\n",
    "        df_teamTwitterFollowers = convert_json_to_df(df_train_date_json_col_nonNA)\n",
    "    "
   ]
  },
  {
   "cell_type": "code",
   "execution_count": 84,
   "id": "323c4fdf",
   "metadata": {},
   "outputs": [
    {
     "name": "stdout",
     "output_type": "stream",
     "text": [
      "(2061, 7)\n",
      "(0, 0)\n",
      "(1182, 6)\n",
      "(0, 0)\n",
      "(0, 0)\n",
      "(32, 13)\n",
      "(0, 0)\n",
      "(0, 0)\n",
      "(0, 0)\n",
      "(813, 6)\n",
      "(30, 6)\n"
     ]
    }
   ],
   "source": [
    "print (df_nextDayPlayerEngagement.shape)\n",
    "print (df_games.shape)\n",
    "print (df_rosters.shape)\n",
    "print (df_playerBoxScores.shape)\n",
    "print (df_teamBoxScores.shape)\n",
    "print (df_transactions.shape)\n",
    "print (df_standings.shape)\n",
    "print (df_awards.shape)\n",
    "print (df_events.shape)\n",
    "print (df_playerTwitterFollowers.shape)\n",
    "print (df_teamTwitterFollowers.shape)"
   ]
  },
  {
   "cell_type": "code",
   "execution_count": 90,
   "id": "4f2b6b6e",
   "metadata": {},
   "outputs": [],
   "source": [
    "df_nextDayPlayerEngagement.to_csv(r\"S:\\SandeepG\\Official\\DataScience\\gitHub\\data\\kaggle\\mlb\\out\\df_nextDayPlayerEngagement.csv\", index = False)\n",
    "df_games.to_csv(r\"S:\\SandeepG\\Official\\DataScience\\gitHub\\data\\kaggle\\mlb\\out\\df_games.csv\", index = False)\n",
    "df_rosters.to_csv(r\"S:\\SandeepG\\Official\\DataScience\\gitHub\\data\\kaggle\\mlb\\out\\train_10.csv\", index = False)\n",
    "df_playerBoxScores.to_csv(r\"S:\\SandeepG\\Official\\DataScience\\gitHub\\data\\kaggle\\mlb\\out\\df_rosters.csv\", index = False)\n",
    "df_teamBoxScores.to_csv(r\"S:\\SandeepG\\Official\\DataScience\\gitHub\\data\\kaggle\\mlb\\out\\df_teamBoxScores.csv\", index = False)\n",
    "df_transactions.to_csv(r\"S:\\SandeepG\\Official\\DataScience\\gitHub\\data\\kaggle\\mlb\\out\\df_transactions.csv\", index = False)\n",
    "df_standings.to_csv(r\"S:\\SandeepG\\Official\\DataScience\\gitHub\\data\\kaggle\\mlb\\out\\df_standings.csv\", index = False)\n",
    "df_awards.to_csv(r\"S:\\SandeepG\\Official\\DataScience\\gitHub\\data\\kaggle\\mlb\\out\\df_awards.csv\", index = False)\n",
    "df_events.to_csv(r\"S:\\SandeepG\\Official\\DataScience\\gitHub\\data\\kaggle\\mlb\\out\\df_events.csv\", index = False)\n",
    "df_playerTwitterFollowers.to_csv(r\"S:\\SandeepG\\Official\\DataScience\\gitHub\\data\\kaggle\\mlb\\out\\df_playerTwitterFollowers.csv\", index = False)\n",
    "df_teamTwitterFollowers.to_csv(r\"S:\\SandeepG\\Official\\DataScience\\gitHub\\data\\kaggle\\mlb\\out\\df_teamTwitterFollowers.csv\", index = False)"
   ]
  },
  {
   "cell_type": "code",
   "execution_count": null,
   "id": "cdc28fbd",
   "metadata": {},
   "outputs": [],
   "source": []
  }
 ],
 "metadata": {
  "kernelspec": {
   "display_name": "Python 3",
   "language": "python",
   "name": "python3"
  },
  "language_info": {
   "codemirror_mode": {
    "name": "ipython",
    "version": 3
   },
   "file_extension": ".py",
   "mimetype": "text/x-python",
   "name": "python",
   "nbconvert_exporter": "python",
   "pygments_lexer": "ipython3",
   "version": "3.5.6"
  }
 },
 "nbformat": 4,
 "nbformat_minor": 5
}
