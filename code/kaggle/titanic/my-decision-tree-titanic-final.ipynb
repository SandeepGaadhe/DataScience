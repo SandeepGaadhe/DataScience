{
 "cells": [
  {
   "cell_type": "code",
   "execution_count": 35,
   "metadata": {
    "_cell_guid": "b1076dfc-b9ad-4769-8c92-a6c4dae69d19",
    "_uuid": "8f2839f25d086af736a60e9eeb907d3b93b6e0e5",
    "execution": {
     "iopub.execute_input": "2022-01-12T17:01:45.575955Z",
     "iopub.status.busy": "2022-01-12T17:01:45.575472Z",
     "iopub.status.idle": "2022-01-12T17:01:45.596119Z",
     "shell.execute_reply": "2022-01-12T17:01:45.595014Z",
     "shell.execute_reply.started": "2022-01-12T17:01:45.575869Z"
    }
   },
   "outputs": [],
   "source": [
    "# This Python 3 environment comes with many helpful analytics libraries installed\n",
    "# It is defined by the kaggle/python Docker image: https://github.com/kaggle/docker-python\n",
    "# For example, here's several helpful packages to load\n",
    "\n",
    "import numpy as np # linear algebra\n",
    "import pandas as pd # data processing, CSV file I/O (e.g. pd.read_csv)\n",
    "import random\n",
    "\n",
    "# Input data files are available in the read-only \"../input/\" directory\n",
    "# For example, running this (by clicking run or pressing Shift+Enter) will list all files under the input directory\n",
    "\n",
    "import os\n",
    "for dirname, _, filenames in os.walk('/kaggle/input'):\n",
    "    for filename in filenames:\n",
    "        print(os.path.join(dirname, filename))\n",
    "\n",
    "# You can write up to 20GB to the current directory (/kaggle/working/) that gets preserved as output when you create a version using \"Save & Run All\" \n",
    "# You can also write temporary files to /kaggle/temp/, but they won't be saved outside of the current session"
   ]
  },
  {
   "cell_type": "markdown",
   "metadata": {},
   "source": [
    "# Task : \n",
    "1. Create a decision tree for the dataset\n",
    "2. Create confusion matrix, Gini Impurity etc\n",
    "3. Perform prediction & calculate accuracy\n",
    "4. Build the same program using built-in lib"
   ]
  },
  {
   "cell_type": "markdown",
   "metadata": {},
   "source": [
    "# 1. Create a decision tree for the dataset"
   ]
  },
  {
   "cell_type": "markdown",
   "metadata": {},
   "source": [
    "1.1 read the csv"
   ]
  },
  {
   "cell_type": "code",
   "execution_count": 2,
   "metadata": {
    "execution": {
     "iopub.execute_input": "2022-01-12T17:01:45.614577Z",
     "iopub.status.busy": "2022-01-12T17:01:45.614194Z",
     "iopub.status.idle": "2022-01-12T17:01:45.631207Z",
     "shell.execute_reply": "2022-01-12T17:01:45.63058Z",
     "shell.execute_reply.started": "2022-01-12T17:01:45.614533Z"
    }
   },
   "outputs": [],
   "source": [
    "# df891 = pd.read_csv('../input/titanic893/titanic_893.csv') # kaggle\n",
    "\n",
    "df891 = pd.read_csv(r'S:\\SandeepG\\Official\\DataScience\\gitHub\\data\\kaggle\\titanic\\titanic_893.csv') # local"
   ]
  },
  {
   "cell_type": "code",
   "execution_count": 3,
   "metadata": {
    "execution": {
     "iopub.execute_input": "2022-01-12T17:01:45.633991Z",
     "iopub.status.busy": "2022-01-12T17:01:45.63345Z",
     "iopub.status.idle": "2022-01-12T17:01:45.638997Z",
     "shell.execute_reply": "2022-01-12T17:01:45.638453Z",
     "shell.execute_reply.started": "2022-01-12T17:01:45.633959Z"
    }
   },
   "outputs": [
    {
     "data": {
      "text/plain": [
       "(891, 12)"
      ]
     },
     "execution_count": 3,
     "metadata": {},
     "output_type": "execute_result"
    }
   ],
   "source": [
    "df891.shape"
   ]
  },
  {
   "cell_type": "code",
   "execution_count": 4,
   "metadata": {
    "execution": {
     "iopub.execute_input": "2022-01-12T17:01:45.640708Z",
     "iopub.status.busy": "2022-01-12T17:01:45.640159Z",
     "iopub.status.idle": "2022-01-12T17:01:45.65133Z",
     "shell.execute_reply": "2022-01-12T17:01:45.650748Z",
     "shell.execute_reply.started": "2022-01-12T17:01:45.640676Z"
    }
   },
   "outputs": [
    {
     "data": {
      "text/plain": [
       "Index(['PassengerId', 'Survived', 'Pclass', 'Name', 'Sex', 'Age', 'SibSp',\n",
       "       'Parch', 'Ticket', 'Fare', 'Cabin', 'Embarked'],\n",
       "      dtype='object')"
      ]
     },
     "execution_count": 4,
     "metadata": {},
     "output_type": "execute_result"
    }
   ],
   "source": [
    "df891.columns"
   ]
  },
  {
   "cell_type": "code",
   "execution_count": 6,
   "metadata": {
    "execution": {
     "iopub.execute_input": "2022-01-12T17:01:45.691048Z",
     "iopub.status.busy": "2022-01-12T17:01:45.690811Z",
     "iopub.status.idle": "2022-01-12T17:01:45.705973Z",
     "shell.execute_reply": "2022-01-12T17:01:45.705119Z",
     "shell.execute_reply.started": "2022-01-12T17:01:45.691021Z"
    }
   },
   "outputs": [
    {
     "name": "stdout",
     "output_type": "stream",
     "text": [
      "(-0.513, 51.233]      732\n",
      "(51.233, 102.466]     106\n",
      "(102.466, 153.699]     31\n",
      "(153.699, 204.932]      2\n",
      "(204.932, 256.165]     11\n",
      "(256.165, 307.398]      6\n",
      "(307.398, 358.63]       0\n",
      "(358.63, 409.863]       0\n",
      "(409.863, 461.096]      0\n",
      "(461.096, 512.329]      3\n",
      "Name: Fare, dtype: int64\n"
     ]
    }
   ],
   "source": [
    "pd.set_option(\"display.max_rows\", None)\n",
    "print(df891['Fare'].value_counts(bins = 10).sort_index())\n",
    "pd.set_option(\"display.max_rows\", 20)"
   ]
  },
  {
   "cell_type": "code",
   "execution_count": 7,
   "metadata": {
    "execution": {
     "iopub.execute_input": "2022-01-12T17:01:45.707681Z",
     "iopub.status.busy": "2022-01-12T17:01:45.707425Z",
     "iopub.status.idle": "2022-01-12T17:01:45.721708Z",
     "shell.execute_reply": "2022-01-12T17:01:45.720706Z",
     "shell.execute_reply.started": "2022-01-12T17:01:45.707651Z"
    }
   },
   "outputs": [
    {
     "name": "stdout",
     "output_type": "stream",
     "text": [
      "(0.339, 8.378]       54\n",
      "(8.378, 16.336]      46\n",
      "(16.336, 24.294]    177\n",
      "(24.294, 32.252]    169\n",
      "(32.252, 40.21]     118\n",
      "(40.21, 48.168]      70\n",
      "(48.168, 56.126]     45\n",
      "(56.126, 64.084]     24\n",
      "(64.084, 72.042]      9\n",
      "(72.042, 80.0]        2\n",
      "Name: Age, dtype: int64\n"
     ]
    }
   ],
   "source": [
    "pd.set_option(\"display.max_rows\", None)\n",
    "print(df891['Age'].value_counts(bins = 10).sort_index())\n",
    "pd.set_option(\"display.max_rows\", 20)"
   ]
  },
  {
   "cell_type": "markdown",
   "metadata": {},
   "source": [
    "# 2. Create confusion matrix, Gini Impurity etc"
   ]
  },
  {
   "cell_type": "code",
   "execution_count": 30,
   "metadata": {
    "execution": {
     "iopub.execute_input": "2022-01-12T17:01:45.725172Z",
     "iopub.status.busy": "2022-01-12T17:01:45.724943Z",
     "iopub.status.idle": "2022-01-12T17:01:45.735984Z",
     "shell.execute_reply": "2022-01-12T17:01:45.735013Z",
     "shell.execute_reply.started": "2022-01-12T17:01:45.725142Z"
    }
   },
   "outputs": [],
   "source": [
    "\n",
    "def cal_gini(p_df, p_label, p_unique_threshold = 5):\n",
    "\n",
    "    df_return = pd.DataFrame(columns = ['ColName', 'ColValue', 'survived', 'notSurvived', 'gini'], dtype = object)\n",
    "\n",
    "\n",
    "    for currColName in p_df.columns:\n",
    "    \n",
    "        if currColName == p_label: # skip if the column is target label\n",
    "            continue\n",
    "    \n",
    "        if p_df[currColName].nunique() > p_unique_threshold: # skip considering it root node if distinct value is more than 9\n",
    "            continue\n",
    "        \n",
    "        df_curr_col = df891[['PassengerId', currColName, 'Survived']]\n",
    "        \n",
    "        for currColValue in df_curr_col[currColName].unique():\n",
    "                       \n",
    "            survived = int(df_curr_col[(df_curr_col[currColName] == currColValue) & (df_curr_col.Survived == 1)].PassengerId.agg(['count']))\n",
    "            notSurvived = int(df_curr_col[(df_curr_col[currColName] == currColValue) & (df_curr_col.Survived == 0)].PassengerId.agg(['count']))\n",
    "            total = survived + notSurvived\n",
    "            \n",
    "            gini = None #reset \n",
    "            if total != 0:\n",
    "                gini = 1 - ((survived/total)**2) - ((notSurvived/total)**2)\n",
    "            \n",
    "            #print(f'currColName : {currColName} currColValue : {currColValue} survived : {survived} notSurvived : {notSurvived} gini : {gini}')\n",
    "            df_return = df_return.append({'ColName' : currColName, 'ColValue' : currColValue, 'survived' : survived, 'notSurvived' : notSurvived, 'gini' : gini},ignore_index = True)\n",
    "            \n",
    "    return df_return\n",
    "\n",
    "\n",
    "\n",
    "        #break\n",
    "            \n",
    "        #survived = int(df_curr_col[(df_curr_col.Survived == 1)].PassengerId.agg(['count']))\n",
    "        #notSurvived = int(df_curr_col[(df_curr_col.Survived == 0)].PassengerId.agg(['count']))\n",
    "        \n",
    "        \n",
    "        #print(f'col_name : {col_name} \\tvalue_counts : {df_curr_col[col_name].nunique()} \\t df_curr_col.shape : {df_curr_col.columns} survived : {survived} notSurvived : {notSurvived} gini : {gini}')\n",
    "\n",
    "        "
   ]
  },
  {
   "cell_type": "code",
   "execution_count": 31,
   "metadata": {
    "execution": {
     "iopub.execute_input": "2022-01-12T17:01:45.738228Z",
     "iopub.status.busy": "2022-01-12T17:01:45.737282Z",
     "iopub.status.idle": "2022-01-12T17:01:45.819162Z",
     "shell.execute_reply": "2022-01-12T17:01:45.818275Z",
     "shell.execute_reply.started": "2022-01-12T17:01:45.73819Z"
    }
   },
   "outputs": [
    {
     "data": {
      "text/html": [
       "<div>\n",
       "<style scoped>\n",
       "    .dataframe tbody tr th:only-of-type {\n",
       "        vertical-align: middle;\n",
       "    }\n",
       "\n",
       "    .dataframe tbody tr th {\n",
       "        vertical-align: top;\n",
       "    }\n",
       "\n",
       "    .dataframe thead th {\n",
       "        text-align: right;\n",
       "    }\n",
       "</style>\n",
       "<table border=\"1\" class=\"dataframe\">\n",
       "  <thead>\n",
       "    <tr style=\"text-align: right;\">\n",
       "      <th></th>\n",
       "      <th>ColName</th>\n",
       "      <th>ColValue</th>\n",
       "      <th>survived</th>\n",
       "      <th>notSurvived</th>\n",
       "      <th>gini</th>\n",
       "    </tr>\n",
       "  </thead>\n",
       "  <tbody>\n",
       "    <tr>\n",
       "      <td>3</td>\n",
       "      <td>Sex</td>\n",
       "      <td>male</td>\n",
       "      <td>109</td>\n",
       "      <td>468</td>\n",
       "      <td>0.306444</td>\n",
       "    </tr>\n",
       "    <tr>\n",
       "      <td>0</td>\n",
       "      <td>Pclass</td>\n",
       "      <td>3</td>\n",
       "      <td>119</td>\n",
       "      <td>372</td>\n",
       "      <td>0.367246</td>\n",
       "    </tr>\n",
       "    <tr>\n",
       "      <td>4</td>\n",
       "      <td>Sex</td>\n",
       "      <td>female</td>\n",
       "      <td>233</td>\n",
       "      <td>81</td>\n",
       "      <td>0.382835</td>\n",
       "    </tr>\n",
       "    <tr>\n",
       "      <td>5</td>\n",
       "      <td>Embarked</td>\n",
       "      <td>S</td>\n",
       "      <td>217</td>\n",
       "      <td>427</td>\n",
       "      <td>0.446834</td>\n",
       "    </tr>\n",
       "    <tr>\n",
       "      <td>1</td>\n",
       "      <td>Pclass</td>\n",
       "      <td>1</td>\n",
       "      <td>136</td>\n",
       "      <td>80</td>\n",
       "      <td>0.466392</td>\n",
       "    </tr>\n",
       "    <tr>\n",
       "      <td>7</td>\n",
       "      <td>Embarked</td>\n",
       "      <td>Q</td>\n",
       "      <td>30</td>\n",
       "      <td>47</td>\n",
       "      <td>0.475628</td>\n",
       "    </tr>\n",
       "    <tr>\n",
       "      <td>6</td>\n",
       "      <td>Embarked</td>\n",
       "      <td>C</td>\n",
       "      <td>93</td>\n",
       "      <td>75</td>\n",
       "      <td>0.49426</td>\n",
       "    </tr>\n",
       "    <tr>\n",
       "      <td>2</td>\n",
       "      <td>Pclass</td>\n",
       "      <td>2</td>\n",
       "      <td>87</td>\n",
       "      <td>97</td>\n",
       "      <td>0.498523</td>\n",
       "    </tr>\n",
       "    <tr>\n",
       "      <td>8</td>\n",
       "      <td>Embarked</td>\n",
       "      <td>NaN</td>\n",
       "      <td>0</td>\n",
       "      <td>0</td>\n",
       "      <td>None</td>\n",
       "    </tr>\n",
       "  </tbody>\n",
       "</table>\n",
       "</div>"
      ],
      "text/plain": [
       "    ColName ColValue survived notSurvived      gini\n",
       "3       Sex     male      109         468  0.306444\n",
       "0    Pclass        3      119         372  0.367246\n",
       "4       Sex   female      233          81  0.382835\n",
       "5  Embarked        S      217         427  0.446834\n",
       "1    Pclass        1      136          80  0.466392\n",
       "7  Embarked        Q       30          47  0.475628\n",
       "6  Embarked        C       93          75   0.49426\n",
       "2    Pclass        2       87          97  0.498523\n",
       "8  Embarked      NaN        0           0      None"
      ]
     },
     "execution_count": 31,
     "metadata": {},
     "output_type": "execute_result"
    }
   ],
   "source": [
    "myRootFeature = cal_gini(p_df = df891, p_label = 'Survived', p_unique_threshold = 3)\n",
    "myRootFeature.sort_values(by=['gini'])"
   ]
  },
  {
   "cell_type": "code",
   "execution_count": 33,
   "metadata": {
    "execution": {
     "iopub.execute_input": "2022-01-12T17:07:44.909769Z",
     "iopub.status.busy": "2022-01-12T17:07:44.90917Z",
     "iopub.status.idle": "2022-01-12T17:07:45.015532Z",
     "shell.execute_reply": "2022-01-12T17:07:45.014597Z",
     "shell.execute_reply.started": "2022-01-12T17:07:44.909729Z"
    }
   },
   "outputs": [
    {
     "name": "stdout",
     "output_type": "stream",
     "text": [
      "col_name : branch1_SexEqMale col_count : 577 survived : 109 notSurvived : 468 Percent : 81.10918544194108\n",
      "col_name : branch2_SexNEqMale col_count : 314 survived : 233 notSurvived : 81 Percent : 25.796178343949045\n",
      "col_name : branch11_PclassEq3 col_count : 347 survived : 47 notSurvived : 300 Percent : 86.45533141210375\n",
      "col_name : branch12_PclassNEq3 col_count : 230 survived : 62 notSurvived : 168 Percent : 73.04347826086956\n",
      "col_name : branch111_EmbarkedEqS col_count : 265 survived : 34 notSurvived : 231 Percent : 87.16981132075472\n",
      "col_name : branch112_EmbarkedNEqS col_count : 82 survived : 13 notSurvived : 69 Percent : 84.14634146341463\n"
     ]
    }
   ],
   "source": [
    "df_root = pd.DataFrame(df891)\n",
    "\n",
    "df_root['branch1_SexEqMale'] = df_root[\"Sex\"].apply(lambda x: 1 if x == 'male' else 0)\n",
    "df_root['branch2_SexNEqMale'] = df_root[\"Sex\"].apply(lambda x: 1 if x == 'female' else 0)\n",
    "\n",
    "#df_root['branch11_PclassEq3'] = df_root[\"Pclass\"].apply(lambda x: 1 if (x == 3) else 0)\n",
    "df_root['branch11_PclassEq3'] = df_root.apply(lambda x: 1 if x['branch1_SexEqMale'] == 1 and x['Pclass'] == 3 else 0, axis = 1)\n",
    "df_root['branch12_PclassNEq3'] = df_root.apply(lambda x: 1 if x['branch1_SexEqMale'] == 1 and x['Pclass'] != 3 else 0, axis = 1)\n",
    "\n",
    "df_root['branch111_EmbarkedEqS'] = df_root.apply(lambda x: 1 if x['branch11_PclassEq3'] == 1 and x['Embarked'] == 'S' else 0, axis = 1)\n",
    "df_root['branch112_EmbarkedNEqS'] = df_root.apply(lambda x: 1 if x['branch11_PclassEq3'] == 1 and x['Embarked'] != 'S' else 0, axis = 1)\n",
    "\n",
    "for col_name in df_root.filter(regex='^branch',axis=1).columns: \n",
    "    col_count = int(df_root[(df_root[col_name] == 1)].PassengerId.agg(['count']))\n",
    "    survived = int(df_root[(df_root[col_name] == 1) & (df_root.Survived == 1)].PassengerId.agg(['count']))\n",
    "    notSurvived = int(df_root[(df_root[col_name] == 1) & (df_root.Survived == 0)].PassengerId.agg(['count']))\n",
    "    print(f'col_name : {col_name} col_count : {col_count} survived : {survived} notSurvived : {notSurvived} Percent : {(notSurvived/(survived + notSurvived))*100}')\n",
    "    "
   ]
  },
  {
   "cell_type": "markdown",
   "metadata": {},
   "source": [
    "# 3. Perform prediction & calculate accuracy\n",
    "\n",
    "Performing prediction for Male passenger only"
   ]
  },
  {
   "cell_type": "code",
   "execution_count": 36,
   "metadata": {
    "execution": {
     "iopub.execute_input": "2022-01-12T17:58:21.056868Z",
     "iopub.status.busy": "2022-01-12T17:58:21.056487Z",
     "iopub.status.idle": "2022-01-12T17:58:21.153742Z",
     "shell.execute_reply": "2022-01-12T17:58:21.152822Z",
     "shell.execute_reply.started": "2022-01-12T17:58:21.056833Z"
    },
    "scrolled": true
   },
   "outputs": [
    {
     "name": "stderr",
     "output_type": "stream",
     "text": [
      "C:\\ProgramData\\Anaconda3\\lib\\site-packages\\ipykernel_launcher.py:20: SettingWithCopyWarning: \n",
      "A value is trying to be set on a copy of a slice from a DataFrame.\n",
      "Try using .loc[row_indexer,col_indexer] = value instead\n",
      "\n",
      "See the caveats in the documentation: http://pandas.pydata.org/pandas-docs/stable/user_guide/indexing.html#returning-a-view-versus-a-copy\n",
      "C:\\ProgramData\\Anaconda3\\lib\\site-packages\\ipykernel_launcher.py:21: SettingWithCopyWarning: \n",
      "A value is trying to be set on a copy of a slice from a DataFrame.\n",
      "Try using .loc[row_indexer,col_indexer] = value instead\n",
      "\n",
      "See the caveats in the documentation: http://pandas.pydata.org/pandas-docs/stable/user_guide/indexing.html#returning-a-view-versus-a-copy\n"
     ]
    },
    {
     "name": "stdout",
     "output_type": "stream",
     "text": [
      "Iteration : 0. Sample Size : 84 MaxPassengerId : 890 MinPassengerId : 1 \tMy Decision Tress Accuracy : 61 %. \n",
      "Iteration : 1. Sample Size : 82 MaxPassengerId : 887 MinPassengerId : 37 \tMy Decision Tress Accuracy : 60 %. \n",
      "Iteration : 2. Sample Size : 84 MaxPassengerId : 865 MinPassengerId : 18 \tMy Decision Tress Accuracy : 64 %. \n",
      "Iteration : 3. Sample Size : 71 MaxPassengerId : 891 MinPassengerId : 30 \tMy Decision Tress Accuracy : 69 %. \n",
      "Iteration : 4. Sample Size : 70 MaxPassengerId : 890 MinPassengerId : 5 \tMy Decision Tress Accuracy : 67 %. \n",
      "Iteration : 5. Sample Size : 88 MaxPassengerId : 891 MinPassengerId : 1 \tMy Decision Tress Accuracy : 72 %. \n",
      "Iteration : 6. Sample Size : 81 MaxPassengerId : 887 MinPassengerId : 14 \tMy Decision Tress Accuracy : 58 %. \n",
      "Iteration : 7. Sample Size : 99 MaxPassengerId : 870 MinPassengerId : 21 \tMy Decision Tress Accuracy : 62 %. \n",
      "Iteration : 8. Sample Size : 86 MaxPassengerId : 884 MinPassengerId : 1 \tMy Decision Tress Accuracy : 65 %. \n",
      "Iteration : 9. Sample Size : 73 MaxPassengerId : 862 MinPassengerId : 7 \tMy Decision Tress Accuracy : 54 %. \n"
     ]
    }
   ],
   "source": [
    "# our analysis says that Passenger = Male & Pclass = 3 has 86% chances of not surviving\n",
    "\n",
    "# for our prediction, ,we will discard any row which is not male\n",
    "\n",
    "for i in range(0,10):\n",
    "    \n",
    "    df_prediction = None\n",
    "    correctPredCount = None\n",
    "    inCorrectPredCount = None\n",
    "    accuracy = None\n",
    "    maxPassengerId = None\n",
    "    minPassengerId = None\n",
    "    \n",
    "    r = random.randint(70, 100)\n",
    "    \n",
    "    df_test = df_root[(df_root['Sex'] == 'male')].sample(n = r)\n",
    "\n",
    "    df_prediction = df_test[['PassengerId', 'Sex', 'Pclass', 'Survived']]\n",
    "\n",
    "    df_prediction['Survived_Pred'] = df_prediction.apply(lambda x: 0 if x['Sex'] == 'male' and x['Pclass'] == 3 else 1, axis = 1)\n",
    "    df_prediction['Pred_Match'] = df_prediction.apply(lambda x: 1 if x['Survived'] == x['Survived_Pred'] else 0, axis = 1)\n",
    "\n",
    "    maxPassengerId = df_prediction['PassengerId'].max()\n",
    "    minPassengerId = df_prediction['PassengerId'].min()\n",
    "    correctPredCount = df_prediction[(df_prediction['Pred_Match'] == 1)].PassengerId.count()\n",
    "    inCorrectPredCount = df_prediction[(df_prediction['Pred_Match'] == 0)].PassengerId.count()\n",
    "\n",
    "    accuracy = int(((correctPredCount/(correctPredCount + inCorrectPredCount))) * 100)\n",
    "\n",
    "    print(f'Iteration : {i}. Sample Size : {r} MaxPassengerId : {maxPassengerId} MinPassengerId : {minPassengerId} \\tMy Decision Tress Accuracy : {accuracy} %. ')\n",
    "\n",
    "\n"
   ]
  },
  {
   "cell_type": "markdown",
   "metadata": {},
   "source": [
    "# ******************************* End Of Program -- Thank You -- ***********************"
   ]
  }
 ],
 "metadata": {
  "kernelspec": {
   "display_name": "Python 3",
   "language": "python",
   "name": "python3"
  },
  "language_info": {
   "codemirror_mode": {
    "name": "ipython",
    "version": 3
   },
   "file_extension": ".py",
   "mimetype": "text/x-python",
   "name": "python",
   "nbconvert_exporter": "python",
   "pygments_lexer": "ipython3",
   "version": "3.7.4"
  }
 },
 "nbformat": 4,
 "nbformat_minor": 4
}
