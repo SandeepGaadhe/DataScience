{
 "cells": [
  {
   "cell_type": "code",
   "execution_count": 2,
   "metadata": {
    "_cell_guid": "b1076dfc-b9ad-4769-8c92-a6c4dae69d19",
    "_uuid": "8f2839f25d086af736a60e9eeb907d3b93b6e0e5",
    "execution": {
     "iopub.execute_input": "2022-01-11T15:27:18.968031Z",
     "iopub.status.busy": "2022-01-11T15:27:18.967418Z",
     "iopub.status.idle": "2022-01-11T15:27:18.988512Z",
     "shell.execute_reply": "2022-01-11T15:27:18.987761Z",
     "shell.execute_reply.started": "2022-01-11T15:27:18.967989Z"
    }
   },
   "outputs": [],
   "source": [
    "# This Python 3 environment comes with many helpful analytics libraries installed\n",
    "# It is defined by the kaggle/python Docker image: https://github.com/kaggle/docker-python\n",
    "# For example, here's several helpful packages to load\n",
    "\n",
    "import numpy as np # linear algebra\n",
    "import pandas as pd # data processing, CSV file I/O (e.g. pd.read_csv)\n",
    "\n",
    "# Input data files are available in the read-only \"../input/\" directory\n",
    "# For example, running this (by clicking run or pressing Shift+Enter) will list all files under the input directory\n",
    "\n",
    "import os\n",
    "for dirname, _, filenames in os.walk('/kaggle/input'):\n",
    "    for filename in filenames:\n",
    "        print(os.path.join(dirname, filename))\n",
    "\n",
    "# You can write up to 20GB to the current directory (/kaggle/working/) that gets preserved as output when you create a version using \"Save & Run All\" \n",
    "# You can also write temporary files to /kaggle/temp/, but they won't be saved outside of the current session"
   ]
  },
  {
   "cell_type": "markdown",
   "metadata": {},
   "source": [
    "# Task : \n",
    "1. Create a decision tree for the dataset\n",
    "2. Create confusion matrix, Gini Impurity etc\n",
    "3. Calculate accuracy\n",
    "4. Build the same program using built-in lib"
   ]
  },
  {
   "cell_type": "markdown",
   "metadata": {},
   "source": [
    "# 1. Create a decision tree for the dataset"
   ]
  },
  {
   "cell_type": "markdown",
   "metadata": {},
   "source": [
    "1.1 read the csv"
   ]
  },
  {
   "cell_type": "code",
   "execution_count": 3,
   "metadata": {
    "execution": {
     "iopub.execute_input": "2022-01-11T15:27:18.990678Z",
     "iopub.status.busy": "2022-01-11T15:27:18.989873Z",
     "iopub.status.idle": "2022-01-11T15:27:18.998588Z",
     "shell.execute_reply": "2022-01-11T15:27:18.997708Z",
     "shell.execute_reply.started": "2022-01-11T15:27:18.990629Z"
    }
   },
   "outputs": [],
   "source": [
    "pwd"
   ]
  },
  {
   "cell_type": "code",
   "execution_count": 4,
   "metadata": {
    "execution": {
     "iopub.execute_input": "2022-01-11T15:27:19.000563Z",
     "iopub.status.busy": "2022-01-11T15:27:18.999938Z",
     "iopub.status.idle": "2022-01-11T15:27:19.029470Z",
     "shell.execute_reply": "2022-01-11T15:27:19.028696Z",
     "shell.execute_reply.started": "2022-01-11T15:27:19.000514Z"
    }
   },
   "outputs": [],
   "source": [
    "df891 = pd.read_csv('../input/titanic893/titanic_893.csv')"
   ]
  },
  {
   "cell_type": "code",
   "execution_count": 5,
   "metadata": {
    "execution": {
     "iopub.execute_input": "2022-01-11T15:27:19.031735Z",
     "iopub.status.busy": "2022-01-11T15:27:19.030788Z",
     "iopub.status.idle": "2022-01-11T15:27:19.039207Z",
     "shell.execute_reply": "2022-01-11T15:27:19.038287Z",
     "shell.execute_reply.started": "2022-01-11T15:27:19.031678Z"
    }
   },
   "outputs": [],
   "source": [
    "df891.shape"
   ]
  },
  {
   "cell_type": "code",
   "execution_count": 6,
   "metadata": {
    "execution": {
     "iopub.execute_input": "2022-01-11T15:27:19.042396Z",
     "iopub.status.busy": "2022-01-11T15:27:19.041919Z",
     "iopub.status.idle": "2022-01-11T15:27:19.052002Z",
     "shell.execute_reply": "2022-01-11T15:27:19.051030Z",
     "shell.execute_reply.started": "2022-01-11T15:27:19.042301Z"
    }
   },
   "outputs": [],
   "source": [
    "df891.columns"
   ]
  },
  {
   "cell_type": "code",
   "execution_count": 7,
   "metadata": {
    "execution": {
     "iopub.execute_input": "2022-01-11T15:27:19.054012Z",
     "iopub.status.busy": "2022-01-11T15:27:19.053655Z",
     "iopub.status.idle": "2022-01-11T15:27:19.110080Z",
     "shell.execute_reply": "2022-01-11T15:27:19.109406Z",
     "shell.execute_reply.started": "2022-01-11T15:27:19.053980Z"
    }
   },
   "outputs": [],
   "source": [
    "df891.describe()"
   ]
  },
  {
   "cell_type": "code",
   "execution_count": 8,
   "metadata": {
    "execution": {
     "iopub.execute_input": "2022-01-11T15:27:19.112957Z",
     "iopub.status.busy": "2022-01-11T15:27:19.112583Z",
     "iopub.status.idle": "2022-01-11T15:27:19.140886Z",
     "shell.execute_reply": "2022-01-11T15:27:19.139799Z",
     "shell.execute_reply.started": "2022-01-11T15:27:19.112905Z"
    }
   },
   "outputs": [],
   "source": [
    "pd.set_option(\"display.max_rows\", None)\n",
    "print(df891['Fare'].value_counts(bins = 10).sort_index())\n",
    "pd.set_option(\"display.max_rows\", 20)"
   ]
  },
  {
   "cell_type": "code",
   "execution_count": 9,
   "metadata": {
    "execution": {
     "iopub.execute_input": "2022-01-11T15:27:19.142468Z",
     "iopub.status.busy": "2022-01-11T15:27:19.142004Z",
     "iopub.status.idle": "2022-01-11T15:27:19.156510Z",
     "shell.execute_reply": "2022-01-11T15:27:19.155498Z",
     "shell.execute_reply.started": "2022-01-11T15:27:19.142428Z"
    }
   },
   "outputs": [],
   "source": [
    "pd.set_option(\"display.max_rows\", None)\n",
    "print(df891['Age'].value_counts(bins = 10).sort_index())\n",
    "pd.set_option(\"display.max_rows\", 20)"
   ]
  },
  {
   "cell_type": "code",
   "execution_count": 105,
   "metadata": {
    "execution": {
     "iopub.execute_input": "2022-01-11T16:55:42.162882Z",
     "iopub.status.busy": "2022-01-11T16:55:42.162120Z",
     "iopub.status.idle": "2022-01-11T16:55:42.171128Z",
     "shell.execute_reply": "2022-01-11T16:55:42.170559Z",
     "shell.execute_reply.started": "2022-01-11T16:55:42.162845Z"
    }
   },
   "outputs": [],
   "source": [
    "def cal_gini(p_df, p_label, p_unique_threshold = 5):\n",
    "    \n",
    "    for currColName in p_df.columns:\n",
    "    \n",
    "        if currColName == p_label: # skip if the column is target label\n",
    "            continue\n",
    "    \n",
    "        if p_df[currColName].nunique() > p_unique_threshold: # skip considering it root node if distinct value is more than 9\n",
    "            continue\n",
    "        \n",
    "        df_curr_col = df891[['PassengerId', currColName, 'Survived']]\n",
    "        \n",
    "        for currColValue in df_curr_col[currColName].unique():\n",
    "                       \n",
    "            survived = int(df_curr_col[(df_curr_col[currColName] == currColValue) & (df_curr_col.Survived == 1)].PassengerId.agg(['count']))\n",
    "            notSurvived = int(df_curr_col[(df_curr_col[currColName] == currColValue) & (df_curr_col.Survived == 0)].PassengerId.agg(['count']))\n",
    "            total = survived + notSurvived\n",
    "            \n",
    "            gini = None #reset \n",
    "            if total != 0:\n",
    "                gini = 1 - ((survived/total)**2) - ((notSurvived/total)**2)\n",
    "            \n",
    "            print(f'currColName : {currColName} currColValue : {currColValue} survived : {survived} notSurvived : {notSurvived} gini : {gini}')\n",
    "            \n",
    "            #break\n",
    "        return currColName, currColValue, survived, notSurvived, gini\n",
    "        #break\n",
    "            \n",
    "        #survived = int(df_curr_col[(df_curr_col.Survived == 1)].PassengerId.agg(['count']))\n",
    "        #notSurvived = int(df_curr_col[(df_curr_col.Survived == 0)].PassengerId.agg(['count']))\n",
    "        \n",
    "        \n",
    "        #print(f'col_name : {col_name} \\tvalue_counts : {df_curr_col[col_name].nunique()} \\t df_curr_col.shape : {df_curr_col.columns} survived : {survived} notSurvived : {notSurvived} gini : {gini}')\n",
    "\n",
    "        "
   ]
  },
  {
   "cell_type": "code",
   "execution_count": 95,
   "metadata": {
    "execution": {
     "iopub.execute_input": "2022-01-11T16:51:52.509444Z",
     "iopub.status.busy": "2022-01-11T16:51:52.508651Z",
     "iopub.status.idle": "2022-01-11T16:51:52.545743Z",
     "shell.execute_reply": "2022-01-11T16:51:52.544903Z",
     "shell.execute_reply.started": "2022-01-11T16:51:52.509392Z"
    }
   },
   "outputs": [],
   "source": [
    "cal_gini(p_df = df891, p_label = 'Survived', p_unique_threshold = 3)"
   ]
  },
  {
   "cell_type": "code",
   "execution_count": 74,
   "metadata": {
    "execution": {
     "iopub.execute_input": "2022-01-11T16:45:27.787954Z",
     "iopub.status.busy": "2022-01-11T16:45:27.787661Z",
     "iopub.status.idle": "2022-01-11T16:45:27.812970Z",
     "shell.execute_reply": "2022-01-11T16:45:27.812078Z",
     "shell.execute_reply.started": "2022-01-11T16:45:27.787924Z"
    }
   },
   "outputs": [],
   "source": [
    "#df891[(df891['Sex'] == 'male')].head(20)\n",
    "\n",
    "col_name = 'Sex'\n",
    "\n",
    "df891[(df891[col_name] == 'male')].head(20)"
   ]
  },
  {
   "cell_type": "code",
   "execution_count": 13,
   "metadata": {
    "execution": {
     "iopub.execute_input": "2022-01-11T15:27:38.886464Z",
     "iopub.status.busy": "2022-01-11T15:27:38.885646Z",
     "iopub.status.idle": "2022-01-11T15:27:38.891842Z",
     "shell.execute_reply": "2022-01-11T15:27:38.891101Z",
     "shell.execute_reply.started": "2022-01-11T15:27:38.886422Z"
    }
   },
   "outputs": [],
   "source": [
    "df_temp = df891[['PassengerId', 'Pclass', 'Survived']]"
   ]
  },
  {
   "cell_type": "code",
   "execution_count": 17,
   "metadata": {
    "execution": {
     "iopub.execute_input": "2022-01-11T15:29:46.266167Z",
     "iopub.status.busy": "2022-01-11T15:29:46.265790Z",
     "iopub.status.idle": "2022-01-11T15:29:46.271842Z",
     "shell.execute_reply": "2022-01-11T15:29:46.271070Z",
     "shell.execute_reply.started": "2022-01-11T15:29:46.266125Z"
    }
   },
   "outputs": [],
   "source": [
    "for i in df_temp['Pclass'].unique():\n",
    "    print(i)"
   ]
  },
  {
   "cell_type": "code",
   "execution_count": null,
   "metadata": {
    "execution": {
     "iopub.status.busy": "2022-01-11T15:27:19.225497Z",
     "iopub.status.idle": "2022-01-11T15:27:19.227535Z",
     "shell.execute_reply": "2022-01-11T15:27:19.227219Z",
     "shell.execute_reply.started": "2022-01-11T15:27:19.227182Z"
    }
   },
   "outputs": [],
   "source": [
    "#df891.groupby(['Pclass', 'Survived']).agg(['count'])\n",
    "df891[Pclass].su.value_counts()"
   ]
  },
  {
   "cell_type": "code",
   "execution_count": null,
   "metadata": {
    "execution": {
     "iopub.status.busy": "2022-01-11T15:27:19.229226Z",
     "iopub.status.idle": "2022-01-11T15:27:19.229981Z",
     "shell.execute_reply": "2022-01-11T15:27:19.229730Z",
     "shell.execute_reply.started": "2022-01-11T15:27:19.229699Z"
    }
   },
   "outputs": [],
   "source": [
    "df891.head()"
   ]
  },
  {
   "cell_type": "code",
   "execution_count": null,
   "metadata": {
    "execution": {
     "iopub.status.busy": "2022-01-11T15:27:19.231549Z",
     "iopub.status.idle": "2022-01-11T15:27:19.232283Z",
     "shell.execute_reply": "2022-01-11T15:27:19.232018Z",
     "shell.execute_reply.started": "2022-01-11T15:27:19.231988Z"
    }
   },
   "outputs": [],
   "source": [
    "df_col_survived = df891[['PassengerId', 'Survived']]\n"
   ]
  },
  {
   "cell_type": "code",
   "execution_count": null,
   "metadata": {
    "execution": {
     "iopub.status.busy": "2022-01-11T15:27:19.233792Z",
     "iopub.status.idle": "2022-01-11T15:27:19.234526Z",
     "shell.execute_reply": "2022-01-11T15:27:19.234276Z",
     "shell.execute_reply.started": "2022-01-11T15:27:19.234247Z"
    }
   },
   "outputs": [],
   "source": [
    "df_col_survived.head()"
   ]
  },
  {
   "cell_type": "code",
   "execution_count": null,
   "metadata": {
    "execution": {
     "iopub.status.busy": "2022-01-11T15:27:19.235985Z",
     "iopub.status.idle": "2022-01-11T15:27:19.236743Z",
     "shell.execute_reply": "2022-01-11T15:27:19.236497Z",
     "shell.execute_reply.started": "2022-01-11T15:27:19.236457Z"
    }
   },
   "outputs": [],
   "source": [
    "pd.set_option(\"display.max_rows\", None)\n",
    "print(df891['Pclass'].value_counts().sort_index())\n",
    "pd.set_option(\"display.max_rows\", 20)"
   ]
  },
  {
   "cell_type": "code",
   "execution_count": null,
   "metadata": {
    "execution": {
     "iopub.status.busy": "2022-01-11T15:27:19.238246Z",
     "iopub.status.idle": "2022-01-11T15:27:19.238981Z",
     "shell.execute_reply": "2022-01-11T15:27:19.238737Z",
     "shell.execute_reply.started": "2022-01-11T15:27:19.238709Z"
    }
   },
   "outputs": [],
   "source": [
    "df891[(df891.Pclass == 1) & (df891.Survived == 0)].groupby(['Pclass', 'Survived']).agg(['count'])"
   ]
  },
  {
   "cell_type": "code",
   "execution_count": null,
   "metadata": {
    "execution": {
     "iopub.status.busy": "2022-01-11T15:27:19.240468Z",
     "iopub.status.idle": "2022-01-11T15:27:19.241227Z",
     "shell.execute_reply": "2022-01-11T15:27:19.240963Z",
     "shell.execute_reply.started": "2022-01-11T15:27:19.240934Z"
    }
   },
   "outputs": [],
   "source": [
    "a = int(df891[(df891.Pclass == 1) & (df891.Survived == 0)].PassengerId.agg(['count']))"
   ]
  },
  {
   "cell_type": "code",
   "execution_count": null,
   "metadata": {
    "execution": {
     "iopub.status.busy": "2022-01-11T15:27:19.242696Z",
     "iopub.status.idle": "2022-01-11T15:27:19.243447Z",
     "shell.execute_reply": "2022-01-11T15:27:19.243179Z",
     "shell.execute_reply.started": "2022-01-11T15:27:19.243148Z"
    }
   },
   "outputs": [],
   "source": [
    " df_currCol = pd.DataFrame(df891['Pclass'].value_counts().sort_index())"
   ]
  },
  {
   "cell_type": "code",
   "execution_count": null,
   "metadata": {
    "execution": {
     "iopub.status.busy": "2022-01-11T15:27:19.244937Z",
     "iopub.status.idle": "2022-01-11T15:27:19.245701Z",
     "shell.execute_reply": "2022-01-11T15:27:19.245443Z",
     "shell.execute_reply.started": "2022-01-11T15:27:19.245414Z"
    }
   },
   "outputs": [],
   "source": [
    "df_currCol"
   ]
  },
  {
   "cell_type": "code",
   "execution_count": null,
   "metadata": {
    "execution": {
     "iopub.status.busy": "2022-01-11T15:27:19.247170Z",
     "iopub.status.idle": "2022-01-11T15:27:19.247900Z",
     "shell.execute_reply": "2022-01-11T15:27:19.247659Z",
     "shell.execute_reply.started": "2022-01-11T15:27:19.247631Z"
    }
   },
   "outputs": [],
   "source": [
    "df_currCol = df891.groupby(['Pclass', 'Survived'], as_index=False).agg({'PassengerId':['count']})"
   ]
  },
  {
   "cell_type": "code",
   "execution_count": null,
   "metadata": {
    "execution": {
     "iopub.status.busy": "2022-01-11T15:27:19.249367Z",
     "iopub.status.idle": "2022-01-11T15:27:19.250119Z",
     "shell.execute_reply": "2022-01-11T15:27:19.249858Z",
     "shell.execute_reply.started": "2022-01-11T15:27:19.249829Z"
    }
   },
   "outputs": [],
   "source": [
    "df_currCol.columns"
   ]
  },
  {
   "cell_type": "code",
   "execution_count": null,
   "metadata": {
    "execution": {
     "iopub.status.busy": "2022-01-11T15:27:19.251570Z",
     "iopub.status.idle": "2022-01-11T15:27:19.252281Z",
     "shell.execute_reply": "2022-01-11T15:27:19.252025Z",
     "shell.execute_reply.started": "2022-01-11T15:27:19.251997Z"
    }
   },
   "outputs": [],
   "source": [
    "for date in df.index.get_level_values('date').unique():\n",
    "    print(df.loc[date])"
   ]
  },
  {
   "cell_type": "code",
   "execution_count": null,
   "metadata": {},
   "outputs": [],
   "source": []
  },
  {
   "cell_type": "code",
   "execution_count": null,
   "metadata": {},
   "outputs": [],
   "source": []
  },
  {
   "cell_type": "code",
   "execution_count": null,
   "metadata": {},
   "outputs": [],
   "source": []
  },
  {
   "cell_type": "code",
   "execution_count": null,
   "metadata": {},
   "outputs": [],
   "source": []
  }
 ],
 "metadata": {
  "kernelspec": {
   "display_name": "Python 3",
   "language": "python",
   "name": "python3"
  },
  "language_info": {
   "codemirror_mode": {
    "name": "ipython",
    "version": 3
   },
   "file_extension": ".py",
   "mimetype": "text/x-python",
   "name": "python",
   "nbconvert_exporter": "python",
   "pygments_lexer": "ipython3",
   "version": "3.7.4"
  }
 },
 "nbformat": 4,
 "nbformat_minor": 4
}
