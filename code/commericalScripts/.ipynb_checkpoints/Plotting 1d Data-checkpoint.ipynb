{
 "cells": [
  {
   "cell_type": "markdown",
   "metadata": {},
   "source": [
    "### Create a script to plot 1d data\n",
    "\n",
    "dataset\n",
    "\n",
    "mass\t5\t7\t12\t14\t17\t20\t23\t27\t36\t46\t58\t59\t63\t64\t75\t81\t86\t88\t97\t99\n",
    "\n",
    "obese\tN\tN\tN\tN\tN\tN\tN\tN\tN\tN\tY\tY\tY\tY\tY\tY\tY\tY\tY\tY"
   ]
  }
 ],
 "metadata": {
  "kernelspec": {
   "display_name": "Python 3",
   "language": "python",
   "name": "python3"
  },
  "language_info": {
   "codemirror_mode": {
    "name": "ipython",
    "version": 3
   },
   "file_extension": ".py",
   "mimetype": "text/x-python",
   "name": "python",
   "nbconvert_exporter": "python",
   "pygments_lexer": "ipython3",
   "version": "3.7.4"
  }
 },
 "nbformat": 4,
 "nbformat_minor": 2
}
