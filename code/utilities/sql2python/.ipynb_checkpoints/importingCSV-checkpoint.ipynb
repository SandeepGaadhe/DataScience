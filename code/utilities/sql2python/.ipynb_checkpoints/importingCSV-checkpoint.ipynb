{
 "cells": [
  {
   "cell_type": "code",
   "execution_count": 3,
   "metadata": {},
   "outputs": [
    {
     "name": "stdout",
     "output_type": "stream",
     "text": [
      "Column names are ï»¿empid, empname\n",
      "\t Column0 value is : 1.\tColumn01 value is : empname_1.\n",
      "\t Column0 value is : 2.\tColumn01 value is : empname_2.\n",
      "\t Column0 value is : 3.\tColumn01 value is : empname_3.\n",
      "\t Column0 value is : 4.\tColumn01 value is : empname_4.\n",
      "\t Column0 value is : 5.\tColumn01 value is : empname_5.\n",
      "\t Column0 value is : 6.\tColumn01 value is : empname_6.\n",
      "\t Column0 value is : 7.\tColumn01 value is : empname_7.\n",
      "\t Column0 value is : 8.\tColumn01 value is : empname_8.\n",
      "\t Column0 value is : 9.\tColumn01 value is : empname_9.\n",
      "\t Column0 value is : 10.\tColumn01 value is : empname_10.\n",
      "Processed 11 lines.\n"
     ]
    }
   ],
   "source": [
    "import csv\n",
    "\n",
    "# sample file should be available in same folder as where\n",
    "# code file is present else use full path\n",
    "with open('importingCSV.csv') as csv_file:\n",
    "    csv_reader = csv.reader(csv_file, delimiter=',')\n",
    "    line_count = 0\n",
    "    for row in csv_reader:\n",
    "        if line_count == 0:\n",
    "            print(f'Column names are {\", \".join(row)}')\n",
    "            line_count += 1\n",
    "        else:\n",
    "            print(f'\\t Column0 value is : {row[0]}.\\tColumn01 value is : {row[1]}.')\n",
    "            line_count += 1\n",
    "    print(f'Processed {line_count} lines.')"
   ]
  },
  {
   "cell_type": "code",
   "execution_count": null,
   "metadata": {},
   "outputs": [],
   "source": []
  }
 ],
 "metadata": {
  "kernelspec": {
   "display_name": "Python 3",
   "language": "python",
   "name": "python3"
  },
  "language_info": {
   "codemirror_mode": {
    "name": "ipython",
    "version": 3
   },
   "file_extension": ".py",
   "mimetype": "text/x-python",
   "name": "python",
   "nbconvert_exporter": "python",
   "pygments_lexer": "ipython3",
   "version": "3.7.4"
  }
 },
 "nbformat": 4,
 "nbformat_minor": 2
}
