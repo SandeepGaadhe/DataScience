{
 "cells": [
  {
   "cell_type": "code",
   "execution_count": 9,
   "metadata": {},
   "outputs": [
    {
     "data": {
      "text/html": [
       "<div>\n",
       "<style scoped>\n",
       "    .dataframe tbody tr th:only-of-type {\n",
       "        vertical-align: middle;\n",
       "    }\n",
       "\n",
       "    .dataframe tbody tr th {\n",
       "        vertical-align: top;\n",
       "    }\n",
       "\n",
       "    .dataframe thead th {\n",
       "        text-align: right;\n",
       "    }\n",
       "</style>\n",
       "<table border=\"1\" class=\"dataframe\">\n",
       "  <thead>\n",
       "    <tr style=\"text-align: right;\">\n",
       "      <th></th>\n",
       "      <th>FruitName</th>\n",
       "      <th>Region1</th>\n",
       "      <th>Region2</th>\n",
       "      <th>Region3</th>\n",
       "    </tr>\n",
       "  </thead>\n",
       "  <tbody>\n",
       "    <tr>\n",
       "      <td>0</td>\n",
       "      <td>Apple</td>\n",
       "      <td>3</td>\n",
       "      <td>5</td>\n",
       "      <td>7</td>\n",
       "    </tr>\n",
       "    <tr>\n",
       "      <td>1</td>\n",
       "      <td>Banana</td>\n",
       "      <td>4</td>\n",
       "      <td>4</td>\n",
       "      <td>8</td>\n",
       "    </tr>\n",
       "    <tr>\n",
       "      <td>2</td>\n",
       "      <td>Cherry</td>\n",
       "      <td>7</td>\n",
       "      <td>1</td>\n",
       "      <td>3</td>\n",
       "    </tr>\n",
       "    <tr>\n",
       "      <td>3</td>\n",
       "      <td>Apple</td>\n",
       "      <td>3</td>\n",
       "      <td>4</td>\n",
       "      <td>7</td>\n",
       "    </tr>\n",
       "  </tbody>\n",
       "</table>\n",
       "</div>"
      ],
      "text/plain": [
       "  FruitName  Region1  Region2  Region3\n",
       "0     Apple        3        5        7\n",
       "1    Banana        4        4        8\n",
       "2    Cherry        7        1        3\n",
       "3     Apple        3        4        7"
      ]
     },
     "execution_count": 9,
     "metadata": {},
     "output_type": "execute_result"
    }
   ],
   "source": [
    "import pandas as pd\n",
    "import numpy as np\n",
    "\n",
    "a= [\"Apple\",\"Banana\",\"Cherry\",\"Apple\"]\n",
    "b= [3,4,7,3]\n",
    "c= [5,4,1,4]\n",
    "d= [7,8,3,7]\n",
    "\n",
    "df = pd.DataFrame()\n",
    "#df = pd.DataFrame(columns =  ['Column1','Column2','Column3','Column4'])\n",
    "#df.columns=['Column1','Column2','Column3','Column4']\n",
    "\n",
    "df[\"FruitName\"]=a\n",
    "df[\"Region1\"]=b\n",
    "df[\"Region2\"]=c\n",
    "df[\"Region3\"]=d\n",
    "\n",
    "df"
   ]
  },
  {
   "cell_type": "code",
   "execution_count": 10,
   "metadata": {},
   "outputs": [
    {
     "data": {
      "text/html": [
       "<div>\n",
       "<style scoped>\n",
       "    .dataframe tbody tr th:only-of-type {\n",
       "        vertical-align: middle;\n",
       "    }\n",
       "\n",
       "    .dataframe tbody tr th {\n",
       "        vertical-align: top;\n",
       "    }\n",
       "\n",
       "    .dataframe thead tr th {\n",
       "        text-align: left;\n",
       "    }\n",
       "</style>\n",
       "<table border=\"1\" class=\"dataframe\">\n",
       "  <thead>\n",
       "    <tr>\n",
       "      <th></th>\n",
       "      <th>FruitName</th>\n",
       "      <th colspan=\"2\" halign=\"left\">Region2</th>\n",
       "    </tr>\n",
       "    <tr>\n",
       "      <th></th>\n",
       "      <th></th>\n",
       "      <th>mean</th>\n",
       "      <th>std</th>\n",
       "    </tr>\n",
       "  </thead>\n",
       "  <tbody>\n",
       "    <tr>\n",
       "      <td>0</td>\n",
       "      <td>Apple</td>\n",
       "      <td>4.5</td>\n",
       "      <td>0.707107</td>\n",
       "    </tr>\n",
       "    <tr>\n",
       "      <td>1</td>\n",
       "      <td>Banana</td>\n",
       "      <td>4.0</td>\n",
       "      <td>NaN</td>\n",
       "    </tr>\n",
       "    <tr>\n",
       "      <td>2</td>\n",
       "      <td>Cherry</td>\n",
       "      <td>1.0</td>\n",
       "      <td>NaN</td>\n",
       "    </tr>\n",
       "  </tbody>\n",
       "</table>\n",
       "</div>"
      ],
      "text/plain": [
       "  FruitName Region2          \n",
       "               mean       std\n",
       "0     Apple     4.5  0.707107\n",
       "1    Banana     4.0       NaN\n",
       "2    Cherry     1.0       NaN"
      ]
     },
     "execution_count": 10,
     "metadata": {},
     "output_type": "execute_result"
    }
   ],
   "source": [
    "result = df.groupby(['FruitName'], as_index=False).agg({'Region2':['mean','std']})\n",
    "result"
   ]
  },
  {
   "cell_type": "code",
   "execution_count": 11,
   "metadata": {},
   "outputs": [
    {
     "data": {
      "text/plain": [
       "MultiIndex([('FruitName',     ''),\n",
       "            (  'Region2', 'mean'),\n",
       "            (  'Region2',  'std')],\n",
       "           )"
      ]
     },
     "execution_count": 11,
     "metadata": {},
     "output_type": "execute_result"
    }
   ],
   "source": [
    "result.columns"
   ]
  },
  {
   "cell_type": "code",
   "execution_count": 12,
   "metadata": {},
   "outputs": [
    {
     "name": "stdout",
     "output_type": "stream",
     "text": [
      "---\n",
      "  FruitName Region2          \n",
      "               mean       std\n",
      "0     Apple     4.5  0.707107\n",
      "---\n",
      "  FruitName Region2    \n",
      "               mean std\n",
      "1    Banana     4.0 NaN\n",
      "---\n",
      "  FruitName Region2    \n",
      "               mean std\n",
      "2    Cherry     1.0 NaN\n"
     ]
    }
   ],
   "source": [
    "for idx, data in result.groupby(level=0):\n",
    "            print('---')\n",
    "            print(data)"
   ]
  },
  {
   "cell_type": "code",
   "execution_count": 14,
   "metadata": {},
   "outputs": [
    {
     "name": "stdout",
     "output_type": "stream",
     "text": [
      "  FruitName Region2                    \n",
      "               mean       std        Cv\n",
      "0     Apple     4.5  0.707107  0.157135\n",
      "1    Banana     4.0       NaN       NaN\n",
      "2    Cherry     1.0       NaN       NaN\n"
     ]
    }
   ],
   "source": [
    "result['Region2', 'Cv'] = result['Region2', 'std']/abs(result['Region2', 'mean'])\n",
    "print(result)"
   ]
  },
  {
   "cell_type": "markdown",
   "metadata": {},
   "source": [
    "#### <font color=blue> Alternate Way"
   ]
  },
  {
   "cell_type": "code",
   "execution_count": 15,
   "metadata": {},
   "outputs": [
    {
     "name": "stdout",
     "output_type": "stream",
     "text": [
      "           Region1  Region2  Region3\n",
      "FruitName                           \n",
      "Apple          3.0      4.5      7.0\n",
      "Banana         4.0      4.0      8.0\n",
      "Cherry         7.0      1.0      3.0\n",
      "\n",
      "\n",
      "           Region1  Region2  Region3\n",
      "FruitName                           \n",
      "Apple          0.0      0.5      0.0\n",
      "Banana         0.0      0.0      0.0\n",
      "Cherry         0.0      0.0      0.0\n"
     ]
    }
   ],
   "source": [
    "\n",
    "grouped = df.groupby('FruitName')\n",
    "\n",
    "df_mean = grouped.apply(np.mean)\n",
    "\n",
    "df_std = grouped.apply(np.std)\n",
    "\n",
    "print(df_mean)\n",
    "print('\\n')\n",
    "print(df_std)\n"
   ]
  }
 ],
 "metadata": {
  "kernelspec": {
   "display_name": "Python 3",
   "language": "python",
   "name": "python3"
  },
  "language_info": {
   "codemirror_mode": {
    "name": "ipython",
    "version": 3
   },
   "file_extension": ".py",
   "mimetype": "text/x-python",
   "name": "python",
   "nbconvert_exporter": "python",
   "pygments_lexer": "ipython3",
   "version": "3.7.4"
  }
 },
 "nbformat": 4,
 "nbformat_minor": 2
}
