{
 "cells": [
  {
   "cell_type": "code",
   "execution_count": 1,
   "metadata": {},
   "outputs": [],
   "source": [
    "\n",
    "# empid,empname,city,salary\n",
    "# 1,empname_1,New York City,97000\n",
    "# 2,empname_2,Boston,64000\n",
    "# 3,empname_3,Jersey City,83000\n",
    "# 4,empname_4,Boston,71000\n",
    "# 5,empname_5,New York City,92500\n",
    "# 6,empname_6,Boston,89500\n",
    "# 7,empname_7,Boston,56500\n",
    "# 8,empname_8,New York City,98500\n",
    "# 9,empname_9,Boston,91000\n",
    "# 10,empname_10,Jersey City,87500\n"
   ]
  },
  {
   "cell_type": "code",
   "execution_count": 2,
   "metadata": {},
   "outputs": [],
   "source": [
    "# SQL Query to implement in python\n",
    "# get maximum salary for New York City group\n",
    "# SELECT empname from employees where city = New York group by city"
   ]
  },
  {
   "cell_type": "code",
   "execution_count": 5,
   "metadata": {},
   "outputs": [],
   "source": [
    "import pandas as pd\n",
    "df = pd.read_csv('employees.csv')"
   ]
  },
  {
   "cell_type": "code",
   "execution_count": 6,
   "metadata": {},
   "outputs": [
    {
     "data": {
      "text/plain": [
       "'empname_8'"
      ]
     },
     "execution_count": 6,
     "metadata": {},
     "output_type": "execute_result"
    }
   ],
   "source": [
    "# python equivivalent for SQL query\n",
    "df[df.city.eq('New York City')].max().empname"
   ]
  }
 ],
 "metadata": {
  "kernelspec": {
   "display_name": "Python 3",
   "language": "python",
   "name": "python3"
  },
  "language_info": {
   "codemirror_mode": {
    "name": "ipython",
    "version": 3
   },
   "file_extension": ".py",
   "mimetype": "text/x-python",
   "name": "python",
   "nbconvert_exporter": "python",
   "pygments_lexer": "ipython3",
   "version": "3.7.4"
  }
 },
 "nbformat": 4,
 "nbformat_minor": 2
}
