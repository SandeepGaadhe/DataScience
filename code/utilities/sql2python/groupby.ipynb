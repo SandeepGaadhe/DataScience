{
 "cells": [
  {
   "cell_type": "markdown",
   "metadata": {},
   "source": [
    "#### this file will convert each sql query to its equivivalent python syntax \n",
    "#### https://mode.com/blog/group-by-sql-python/"
   ]
  },
  {
   "cell_type": "markdown",
   "metadata": {},
   "source": [
    "### sample employee.csv file\n",
    "\n",
    "-------------------------------------------------------------------------\n",
    "empid\t\tempname\t\t    city\t\t        salary\n",
    "\n",
    "-------------------------------------------------------------------------\n",
    "\n",
    "1\t\t    empname_1\t\tNew York City\t\t97000\n",
    "\n",
    "2\t\t    empname_2\t\tBoston\t\t        \n",
    "\n",
    "3\t\t    empname_3\t\tJersey City\t\t    83000\n",
    "\n",
    "4\t\t    empname_4\t\t\t\t            71000\n",
    "\n",
    "5\t\t    empname_5\t\tNew York City\t\t92500\n",
    "\n",
    "6\t\t    empname_6\t\tBoston\t\t        89500\n",
    "\n",
    "7\t\t    empname_7\t\tBoston\t\t        56500\n",
    "\n",
    "8\t\t    empname_8\t\tNew York City\t\t\n",
    "\n",
    "9\t\t    empname_9\t\tBoston\t\t        91000\n",
    "\n",
    "10\t\t    empname_10\t\tJersey City\t\t    87500\n",
    "\n",
    "\n",
    "-------------------------------------------------------------------------"
   ]
  },
  {
   "cell_type": "code",
   "execution_count": 1,
   "metadata": {},
   "outputs": [],
   "source": [
    "import pandas as pd\n",
    "\n",
    "employees = pd.read_csv('.\\employees.csv')"
   ]
  },
  {
   "cell_type": "code",
   "execution_count": 2,
   "metadata": {},
   "outputs": [
    {
     "data": {
      "text/html": [
       "<div>\n",
       "<style scoped>\n",
       "    .dataframe tbody tr th:only-of-type {\n",
       "        vertical-align: middle;\n",
       "    }\n",
       "\n",
       "    .dataframe tbody tr th {\n",
       "        vertical-align: top;\n",
       "    }\n",
       "\n",
       "    .dataframe thead th {\n",
       "        text-align: right;\n",
       "    }\n",
       "</style>\n",
       "<table border=\"1\" class=\"dataframe\">\n",
       "  <thead>\n",
       "    <tr style=\"text-align: right;\">\n",
       "      <th></th>\n",
       "      <th>empid</th>\n",
       "      <th>empname</th>\n",
       "      <th>city</th>\n",
       "      <th>salary</th>\n",
       "    </tr>\n",
       "  </thead>\n",
       "  <tbody>\n",
       "    <tr>\n",
       "      <td>0</td>\n",
       "      <td>1</td>\n",
       "      <td>empname_1</td>\n",
       "      <td>New York City</td>\n",
       "      <td>97000.0</td>\n",
       "    </tr>\n",
       "    <tr>\n",
       "      <td>1</td>\n",
       "      <td>2</td>\n",
       "      <td>empname_2</td>\n",
       "      <td>Boston</td>\n",
       "      <td>NaN</td>\n",
       "    </tr>\n",
       "    <tr>\n",
       "      <td>2</td>\n",
       "      <td>3</td>\n",
       "      <td>empname_3</td>\n",
       "      <td>Jersey City</td>\n",
       "      <td>83000.0</td>\n",
       "    </tr>\n",
       "    <tr>\n",
       "      <td>3</td>\n",
       "      <td>4</td>\n",
       "      <td>empname_4</td>\n",
       "      <td>NaN</td>\n",
       "      <td>71000.0</td>\n",
       "    </tr>\n",
       "    <tr>\n",
       "      <td>4</td>\n",
       "      <td>5</td>\n",
       "      <td>empname_5</td>\n",
       "      <td>New York City</td>\n",
       "      <td>92500.0</td>\n",
       "    </tr>\n",
       "    <tr>\n",
       "      <td>5</td>\n",
       "      <td>6</td>\n",
       "      <td>empname_6</td>\n",
       "      <td>Boston</td>\n",
       "      <td>89500.0</td>\n",
       "    </tr>\n",
       "    <tr>\n",
       "      <td>6</td>\n",
       "      <td>7</td>\n",
       "      <td>empname_7</td>\n",
       "      <td>Boston</td>\n",
       "      <td>56500.0</td>\n",
       "    </tr>\n",
       "    <tr>\n",
       "      <td>7</td>\n",
       "      <td>8</td>\n",
       "      <td>empname_8</td>\n",
       "      <td>New York City</td>\n",
       "      <td>NaN</td>\n",
       "    </tr>\n",
       "    <tr>\n",
       "      <td>8</td>\n",
       "      <td>9</td>\n",
       "      <td>empname_9</td>\n",
       "      <td>Boston</td>\n",
       "      <td>91000.0</td>\n",
       "    </tr>\n",
       "    <tr>\n",
       "      <td>9</td>\n",
       "      <td>10</td>\n",
       "      <td>empname_10</td>\n",
       "      <td>Jersey City</td>\n",
       "      <td>87500.0</td>\n",
       "    </tr>\n",
       "  </tbody>\n",
       "</table>\n",
       "</div>"
      ],
      "text/plain": [
       "   empid     empname           city   salary\n",
       "0      1   empname_1  New York City  97000.0\n",
       "1      2   empname_2         Boston      NaN\n",
       "2      3   empname_3    Jersey City  83000.0\n",
       "3      4   empname_4            NaN  71000.0\n",
       "4      5   empname_5  New York City  92500.0\n",
       "5      6   empname_6         Boston  89500.0\n",
       "6      7   empname_7         Boston  56500.0\n",
       "7      8   empname_8  New York City      NaN\n",
       "8      9   empname_9         Boston  91000.0\n",
       "9     10  empname_10    Jersey City  87500.0"
      ]
     },
     "execution_count": 2,
     "metadata": {},
     "output_type": "execute_result"
    }
   ],
   "source": [
    "# note some NaN values\n",
    "employees.head(15)"
   ]
  },
  {
   "cell_type": "markdown",
   "metadata": {},
   "source": [
    "### Query1 \n",
    "#### select city, count(city) city_count from employees group by city"
   ]
  },
  {
   "cell_type": "code",
   "execution_count": 3,
   "metadata": {},
   "outputs": [
    {
     "data": {
      "text/html": [
       "<style  type=\"text/css\" >\n",
       "</style><table id=\"T_71c1abd4_2ad1_11ec_b326_30e171945ca5\" ><thead>    <tr>        <th class=\"col_heading level0 col0\" >city</th>        <th class=\"col_heading level0 col1\" >city_count</th>    </tr></thead><tbody>\n",
       "                <tr>\n",
       "                                <td id=\"T_71c1abd4_2ad1_11ec_b326_30e171945ca5row0_col0\" class=\"data row0 col0\" >Boston</td>\n",
       "                        <td id=\"T_71c1abd4_2ad1_11ec_b326_30e171945ca5row0_col1\" class=\"data row0 col1\" >4</td>\n",
       "            </tr>\n",
       "            <tr>\n",
       "                                <td id=\"T_71c1abd4_2ad1_11ec_b326_30e171945ca5row1_col0\" class=\"data row1 col0\" >Jersey City</td>\n",
       "                        <td id=\"T_71c1abd4_2ad1_11ec_b326_30e171945ca5row1_col1\" class=\"data row1 col1\" >2</td>\n",
       "            </tr>\n",
       "            <tr>\n",
       "                                <td id=\"T_71c1abd4_2ad1_11ec_b326_30e171945ca5row2_col0\" class=\"data row2 col0\" >New York City</td>\n",
       "                        <td id=\"T_71c1abd4_2ad1_11ec_b326_30e171945ca5row2_col1\" class=\"data row2 col1\" >3</td>\n",
       "            </tr>\n",
       "    </tbody></table>"
      ],
      "text/plain": [
       "<pandas.io.formats.style.Styler at 0x1f779349308>"
      ]
     },
     "execution_count": 3,
     "metadata": {},
     "output_type": "execute_result"
    }
   ],
   "source": [
    "# to_frame is used to convert series object back to frame\n",
    "# rename is used to rename the aggregate column\n",
    "# reset_index is used to avoid multi index header\n",
    "# style.hide_index is used to hide row index\n",
    "\n",
    "agg_by_city = employees.groupby([\"city\"])['city'].count().to_frame().rename(columns={'city' : 'city_count'}).reset_index().style.hide_index()\n",
    "agg_by_city"
   ]
  },
  {
   "cell_type": "markdown",
   "metadata": {},
   "source": [
    "### Query\n",
    "#### select count(1) row_count, count(city) city_count, count(salary) from employees"
   ]
  },
  {
   "cell_type": "markdown",
   "metadata": {},
   "source": [
    "# not a correct solution\n",
    "employees.describe()"
   ]
  },
  {
   "cell_type": "markdown",
   "metadata": {},
   "source": [
    "### Query3\n",
    "#### select city, count(city) city_count, max(salary) max_salary, min(salary) min_salary from employees group by city"
   ]
  },
  {
   "cell_type": "code",
   "execution_count": 4,
   "metadata": {},
   "outputs": [
    {
     "data": {
      "text/html": [
       "<style  type=\"text/css\" >\n",
       "</style><table id=\"T_7449fd12_2ad1_11ec_bf0e_30e171945ca5\" ><thead>    <tr>        <th class=\"col_heading level0 col0\" >city</th>        <th class=\"col_heading level0 col1\" >city_size</th>        <th class=\"col_heading level0 col2\" >salary_size</th>        <th class=\"col_heading level0 col3\" >salary_amin</th>        <th class=\"col_heading level0 col4\" >salary_amax</th>    </tr></thead><tbody>\n",
       "                <tr>\n",
       "                                <td id=\"T_7449fd12_2ad1_11ec_bf0e_30e171945ca5row0_col0\" class=\"data row0 col0\" >Boston</td>\n",
       "                        <td id=\"T_7449fd12_2ad1_11ec_bf0e_30e171945ca5row0_col1\" class=\"data row0 col1\" >4</td>\n",
       "                        <td id=\"T_7449fd12_2ad1_11ec_bf0e_30e171945ca5row0_col2\" class=\"data row0 col2\" >4</td>\n",
       "                        <td id=\"T_7449fd12_2ad1_11ec_bf0e_30e171945ca5row0_col3\" class=\"data row0 col3\" >56500</td>\n",
       "                        <td id=\"T_7449fd12_2ad1_11ec_bf0e_30e171945ca5row0_col4\" class=\"data row0 col4\" >91000</td>\n",
       "            </tr>\n",
       "            <tr>\n",
       "                                <td id=\"T_7449fd12_2ad1_11ec_bf0e_30e171945ca5row1_col0\" class=\"data row1 col0\" >Jersey City</td>\n",
       "                        <td id=\"T_7449fd12_2ad1_11ec_bf0e_30e171945ca5row1_col1\" class=\"data row1 col1\" >2</td>\n",
       "                        <td id=\"T_7449fd12_2ad1_11ec_bf0e_30e171945ca5row1_col2\" class=\"data row1 col2\" >2</td>\n",
       "                        <td id=\"T_7449fd12_2ad1_11ec_bf0e_30e171945ca5row1_col3\" class=\"data row1 col3\" >83000</td>\n",
       "                        <td id=\"T_7449fd12_2ad1_11ec_bf0e_30e171945ca5row1_col4\" class=\"data row1 col4\" >87500</td>\n",
       "            </tr>\n",
       "            <tr>\n",
       "                                <td id=\"T_7449fd12_2ad1_11ec_bf0e_30e171945ca5row2_col0\" class=\"data row2 col0\" >New York City</td>\n",
       "                        <td id=\"T_7449fd12_2ad1_11ec_bf0e_30e171945ca5row2_col1\" class=\"data row2 col1\" >3</td>\n",
       "                        <td id=\"T_7449fd12_2ad1_11ec_bf0e_30e171945ca5row2_col2\" class=\"data row2 col2\" >3</td>\n",
       "                        <td id=\"T_7449fd12_2ad1_11ec_bf0e_30e171945ca5row2_col3\" class=\"data row2 col3\" >92500</td>\n",
       "                        <td id=\"T_7449fd12_2ad1_11ec_bf0e_30e171945ca5row2_col4\" class=\"data row2 col4\" >97000</td>\n",
       "            </tr>\n",
       "    </tbody></table>"
      ],
      "text/plain": [
       "<pandas.io.formats.style.Styler at 0x1f77949c888>"
      ]
     },
     "execution_count": 4,
     "metadata": {},
     "output_type": "execute_result"
    }
   ],
   "source": [
    "import numpy as np\n",
    "agg_by_city_salary = (employees.groupby([\"city\"])) \\\n",
    "                        .agg({'city' :[np.size], 'salary' : [np.size, np.min, np.max]}) \n",
    "                        #.rename(columns ={'size' : 'city_size'})\n",
    "\n",
    "# provide unique name to each column\n",
    "agg_by_city_salary.columns = ['_'.join(col) for col in agg_by_city_salary.columns.values]\n",
    "\n",
    "# flatten the multi index header\n",
    "agg_by_city_salary = agg_by_city_salary.reset_index()\n",
    "\n",
    "agg_by_city_salary.head(20).style.hide_index()\n"
   ]
  },
  {
   "cell_type": "markdown",
   "metadata": {},
   "source": [
    "### Query 4\n",
    "#### select city, count(city) city_count, max(salary) max_salary, min(salary) min_salary from employees group by city\n",
    "#### having min(salary) > 60000"
   ]
  },
  {
   "cell_type": "code",
   "execution_count": 5,
   "metadata": {},
   "outputs": [
    {
     "data": {
      "text/html": [
       "<div>\n",
       "<style scoped>\n",
       "    .dataframe tbody tr th:only-of-type {\n",
       "        vertical-align: middle;\n",
       "    }\n",
       "\n",
       "    .dataframe tbody tr th {\n",
       "        vertical-align: top;\n",
       "    }\n",
       "\n",
       "    .dataframe thead th {\n",
       "        text-align: right;\n",
       "    }\n",
       "</style>\n",
       "<table border=\"1\" class=\"dataframe\">\n",
       "  <thead>\n",
       "    <tr style=\"text-align: right;\">\n",
       "      <th></th>\n",
       "      <th>city</th>\n",
       "      <th>city_size</th>\n",
       "      <th>salary_size</th>\n",
       "      <th>salary_amin</th>\n",
       "      <th>salary_amax</th>\n",
       "    </tr>\n",
       "  </thead>\n",
       "  <tbody>\n",
       "    <tr>\n",
       "      <td>1</td>\n",
       "      <td>Jersey City</td>\n",
       "      <td>2</td>\n",
       "      <td>2.0</td>\n",
       "      <td>83000.0</td>\n",
       "      <td>87500.0</td>\n",
       "    </tr>\n",
       "    <tr>\n",
       "      <td>2</td>\n",
       "      <td>New York City</td>\n",
       "      <td>3</td>\n",
       "      <td>3.0</td>\n",
       "      <td>92500.0</td>\n",
       "      <td>97000.0</td>\n",
       "    </tr>\n",
       "  </tbody>\n",
       "</table>\n",
       "</div>"
      ],
      "text/plain": [
       "            city  city_size  salary_size  salary_amin  salary_amax\n",
       "1    Jersey City          2          2.0      83000.0      87500.0\n",
       "2  New York City          3          3.0      92500.0      97000.0"
      ]
     },
     "execution_count": 5,
     "metadata": {},
     "output_type": "execute_result"
    }
   ],
   "source": [
    "agg_by_city_salary[(agg_by_city_salary.salary_amin > 60000)]"
   ]
  },
  {
   "cell_type": "code",
   "execution_count": null,
   "metadata": {},
   "outputs": [],
   "source": []
  },
  {
   "cell_type": "code",
   "execution_count": null,
   "metadata": {},
   "outputs": [],
   "source": []
  },
  {
   "cell_type": "code",
   "execution_count": null,
   "metadata": {},
   "outputs": [],
   "source": []
  },
  {
   "cell_type": "code",
   "execution_count": null,
   "metadata": {},
   "outputs": [],
   "source": []
  },
  {
   "cell_type": "code",
   "execution_count": null,
   "metadata": {},
   "outputs": [],
   "source": []
  },
  {
   "cell_type": "code",
   "execution_count": null,
   "metadata": {},
   "outputs": [],
   "source": []
  },
  {
   "cell_type": "code",
   "execution_count": null,
   "metadata": {},
   "outputs": [],
   "source": []
  },
  {
   "cell_type": "code",
   "execution_count": null,
   "metadata": {},
   "outputs": [],
   "source": []
  }
 ],
 "metadata": {
  "kernelspec": {
   "display_name": "Python 3",
   "language": "python",
   "name": "python3"
  },
  "language_info": {
   "codemirror_mode": {
    "name": "ipython",
    "version": 3
   },
   "file_extension": ".py",
   "mimetype": "text/x-python",
   "name": "python",
   "nbconvert_exporter": "python",
   "pygments_lexer": "ipython3",
   "version": "3.7.4"
  }
 },
 "nbformat": 4,
 "nbformat_minor": 5
}
