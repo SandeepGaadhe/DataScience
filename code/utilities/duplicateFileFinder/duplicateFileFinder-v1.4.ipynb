{
 "cells": [
  {
   "cell_type": "markdown",
   "metadata": {},
   "source": [
    "\n",
    "### Expected flow of program\n",
    "\n",
    "#### Module 01 : Get Statistics\n",
    "\n",
    "    1. Get the root directory to traverse.\n",
    "    2. Recursively generate md5 for all files in root, sub directories. Dump the result in csv.\n",
    "\n",
    "#### Module 02 : Move Files (Removed from this version)\n",
    "\n",
    "    1. Analyze the result stored in csv.\n",
    "    2. Prepare the source and destination directory structure in excel.\n",
    "    3. Run python to read excel and move the files as mentioned in excel.\n",
    "\n",
    "\n"
   ]
  },
  {
   "cell_type": "markdown",
   "metadata": {},
   "source": [
    "<hr style=\"border: solid rgb(255,255,255) 1.0px;height: 2.0px;\"/>"
   ]
  },
  {
   "cell_type": "markdown",
   "metadata": {},
   "source": [
    "#### Module 01 : Get Statistics"
   ]
  },
  {
   "cell_type": "code",
   "execution_count": 1,
   "metadata": {},
   "outputs": [],
   "source": [
    "# https://github.com/UrviSoni/remove_duplicate_image/blob/master/duplicate_image_remove.ipynb\n",
    "\n",
    "import hashlib\n",
    "from skimage.io import imread\n",
    "import matplotlib.pyplot as plt\n",
    "import matplotlib.gridspec as gridspec\n",
    "import time\n",
    "import numpy as np\n",
    "import logging\n",
    "import datetime\n",
    "import hashlib\n",
    "import os\n",
    "import sys\n",
    "import csv\n",
    "import filetype\n",
    "import pandas as pd\n",
    "\n",
    "%matplotlib inline"
   ]
  },
  {
   "cell_type": "code",
   "execution_count": 2,
   "metadata": {},
   "outputs": [],
   "source": [
    "# Set up program level variables\n",
    "\n",
    "searchDir = 'S:\\SandeepG\\Official\\DataScience\\gitHub\\data\\duplicateFileFinder\\source\\\\' \n",
    "#destinDir = 'S:\\Pictures\\duplicateFileFinder\\duplicates\\\\' \n",
    "executionRun = time.strftime(\"%Y%m%d_%H%M%S\")\n",
    "outDir = 'S:\\duplicateFileFinder-v1.4\\\\' + executionRun + '\\out\\\\'\n",
    "outFile = outDir +  'outFile.csv'\n",
    "\n",
    "logDir = 'S:\\duplicateFileFinder-v1.4\\\\' + executionRun + '\\log\\\\'\n",
    "logFile = logDir + 'logFile.log'"
   ]
  },
  {
   "cell_type": "code",
   "execution_count": 3,
   "metadata": {},
   "outputs": [],
   "source": [
    "if not os.path.exists(outDir):\n",
    "    os.makedirs(outDir)\n",
    "\n",
    "if not os.path.exists(logDir):\n",
    "    os.makedirs(logDir)\n",
    "    \n",
    "logging.basicConfig(filename= logFile, level=logging.INFO)\n",
    "\n",
    "logging.info(time.strftime(\"\\n\\n\\n%Y%m%d_%H%M%S\") + ' : ******* Program Start  ******* ')\n",
    "logging.info(time.strftime(\"%Y%m%d_%H%M%S\") + ' : searchDir : ' + searchDir)\n",
    "#logging.info(time.strftime(\"%Y%m%d_%H%M%S\") + ' : destinDir : ' + destinDir)\n",
    "logging.info(time.strftime(\"%Y%m%d_%H%M%S\") + ' : outDir : ' + outDir)\n",
    "logging.info(time.strftime(\"%Y%m%d_%H%M%S\") + ' : outFile : ' + outFile)\n",
    "logging.info(time.strftime(\"%Y%m%d_%H%M%S\") + ' : logDir : ' + logDir)\n",
    "logging.info(time.strftime(\"%Y%m%d_%H%M%S\") + ' : logFile : ' + logFile)"
   ]
  },
  {
   "cell_type": "code",
   "execution_count": null,
   "metadata": {},
   "outputs": [],
   "source": [
    "walk_dir = searchDir\n",
    "\n",
    "with open(outFile, mode='w', newline='') as csvFile:\n",
    "    fieldnames = ['file_path', 'file_hash', 'file_size', 'last_modi']\n",
    "    \n",
    "    # creating a csv writer object \n",
    "    csvwriter = csv.writer(csvFile, delimiter='|') \n",
    "        \n",
    "    # writing the fields \n",
    "    csvwriter.writerow(fieldnames) \n",
    "    \n",
    "    for root, subdirs, files in os.walk(walk_dir):\n",
    "        for filename in files:\n",
    "            \n",
    "            try:\n",
    "                file_path = os.path.join(root, filename)\n",
    "                file_size = os.path.getsize(file_path)\n",
    "                last_modi = time.strftime('%Y%m%d', time.gmtime(os.path.getmtime(file_path)))\n",
    "                \n",
    "                if filetype.is_image(file_path) or filetype.is_video(file_path):\n",
    "                    # generate and dump md5 to csv\n",
    "                    with open(file_path, 'rb') as f:\n",
    "                        file_hash = hashlib.md5(f.read()).hexdigest()\n",
    "                else:\n",
    "                    file_hash = \"not_an_image_or_video\"\n",
    "                currRow = [[file_path, file_hash, file_size, last_modi]]\n",
    "                csvwriter.writerows(currRow) #encoding='cp1252'\n",
    "            except OSError as e:\n",
    "                logging.info(time.strftime(\"%Y%m%d_%H%M%S\") + ' : ERROR : ' + str(e) + '|' + file_path)\n",
    "            except:\n",
    "                logging.info(time.strftime(\"%Y%m%d_%H%M%S\") + ' : ERROR : ' + '|' + file_path)\n",
    "                \n"
   ]
  },
  {
   "cell_type": "markdown",
   "metadata": {},
   "source": [
    "<hr style=\"border: solid rgb(255,255,255) 1.0px;height: 2.0px;\"/>"
   ]
  },
  {
   "cell_type": "markdown",
   "metadata": {},
   "source": [
    "#### Module 03 : End"
   ]
  },
  {
   "cell_type": "code",
   "execution_count": null,
   "metadata": {},
   "outputs": [],
   "source": [
    "logging.info(time.strftime(\"%Y%m%d_%H%M%S\") + ' ******* Program End  ******* ')"
   ]
  },
  {
   "cell_type": "markdown",
   "metadata": {},
   "source": [
    "<hr style=\"border: solid rgb(255,255,255) 1.0px;height: 2.0px;\"/>"
   ]
  }
 ],
 "metadata": {
  "kernelspec": {
   "display_name": "Python 3",
   "language": "python",
   "name": "python3"
  },
  "language_info": {
   "codemirror_mode": {
    "name": "ipython",
    "version": 3
   },
   "file_extension": ".py",
   "mimetype": "text/x-python",
   "name": "python",
   "nbconvert_exporter": "python",
   "pygments_lexer": "ipython3",
   "version": "3.7.4"
  }
 },
 "nbformat": 4,
 "nbformat_minor": 2
}
