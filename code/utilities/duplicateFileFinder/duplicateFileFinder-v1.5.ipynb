{
 "cells": [
  {
   "cell_type": "markdown",
   "metadata": {},
   "source": [
    "\n",
    "### Expected flow of program\n",
    "\n",
    "#### Module 01 : Get Statistics\n",
    "\n",
    "    1. Get the root directory to traverse.\n",
    "    2. Recursively generate md5 for all files in root, sub directories. Dump the result in csv.\n",
    "\n",
    "#### Module 02 : Move Files (Removed from this version)\n",
    "\n",
    "    1. Analyze the result stored in csv.\n",
    "    2. Prepare the source and destination directory structure in excel.\n",
    "    3. Run python to read excel and move the files as mentioned in excel.\n",
    "\n",
    "\n"
   ]
  },
  {
   "cell_type": "markdown",
   "metadata": {},
   "source": [
    "<hr style=\"border: solid rgb(255,255,255) 1.0px;height: 2.0px;\"/>"
   ]
  },
  {
   "cell_type": "markdown",
   "metadata": {},
   "source": [
    "#### Module 01 : Get Statistics"
   ]
  },
  {
   "cell_type": "code",
   "execution_count": 5,
   "metadata": {},
   "outputs": [],
   "source": [
    "# https://github.com/UrviSoni/remove_duplicate_image/blob/master/duplicate_image_remove.ipynb\n",
    "\n",
    "import hashlib\n",
    "from skimage.io import imread\n",
    "import matplotlib.pyplot as plt\n",
    "import matplotlib.gridspec as gridspec\n",
    "import time\n",
    "import numpy as np\n",
    "import logging\n",
    "import datetime\n",
    "import hashlib\n",
    "import os\n",
    "import sys\n",
    "import csv\n",
    "import filetype\n",
    "import pandas as pd\n",
    "\n",
    "%matplotlib inline"
   ]
  },
  {
   "cell_type": "code",
   "execution_count": 2,
   "metadata": {},
   "outputs": [],
   "source": [
    "# Set up program level variables\n",
    "\n",
    "searchDir = 'F:\\\\' \n",
    "#destinDir = 'S:\\Pictures\\duplicateFileFinder\\duplicates\\\\' \n",
    "executionRun = time.strftime(\"%Y%m%d_%H%M%S\")\n",
    "outDir = 'S:\\duplicateFileFinder-v1.4\\\\' + executionRun + '\\out\\\\'\n",
    "outFile = outDir +  'outFile.csv'\n",
    "\n",
    "logDir = 'S:\\duplicateFileFinder-v1.4\\\\' + executionRun + '\\log\\\\'\n",
    "logFile = logDir + 'logFile.log'"
   ]
  },
  {
   "cell_type": "code",
   "execution_count": 3,
   "metadata": {},
   "outputs": [],
   "source": [
    "if not os.path.exists(outDir):\n",
    "    os.makedirs(outDir)\n",
    "\n",
    "if not os.path.exists(logDir):\n",
    "    os.makedirs(logDir)\n",
    "    \n",
    "logging.basicConfig(filename= logFile, level=logging.INFO)\n",
    "\n",
    "logging.info(time.strftime(\"\\n\\n\\n%Y%m%d_%H%M%S\") + ' : ******* Program Start  ******* ')\n",
    "logging.info(time.strftime(\"%Y%m%d_%H%M%S\") + ' : searchDir : ' + searchDir)\n",
    "#logging.info(time.strftime(\"%Y%m%d_%H%M%S\") + ' : destinDir : ' + destinDir)\n",
    "logging.info(time.strftime(\"%Y%m%d_%H%M%S\") + ' : outDir : ' + outDir)\n",
    "logging.info(time.strftime(\"%Y%m%d_%H%M%S\") + ' : outFile : ' + outFile)\n",
    "logging.info(time.strftime(\"%Y%m%d_%H%M%S\") + ' : logDir : ' + logDir)\n",
    "logging.info(time.strftime(\"%Y%m%d_%H%M%S\") + ' : logFile : ' + logFile)"
   ]
  },
  {
   "cell_type": "code",
   "execution_count": 4,
   "metadata": {},
   "outputs": [],
   "source": [
    "walk_dir = searchDir\n",
    "\n",
    "with open(outFile, mode='w', newline='') as csvFile:\n",
    "    fieldnames = ['file_path', 'filehash']\n",
    "    \n",
    "    # creating a csv writer object \n",
    "    csvwriter = csv.writer(csvFile) \n",
    "        \n",
    "    # writing the fields \n",
    "    csvwriter.writerow(fieldnames) \n",
    "    \n",
    "    for root, subdirs, files in os.walk(walk_dir):\n",
    "        for filename in files:\n",
    "            file_path = os.path.join(root, filename)\n",
    "            \n",
    "            try:\n",
    "                if filetype.is_image(file_path) or filetype.is_video(file_path):\n",
    "                    # generate and dump md5 to csv\n",
    "                    with open(file_path, 'rb') as f:\n",
    "                        filehash = hashlib.md5(f.read()).hexdigest()\n",
    "                else:\n",
    "                    filehash = \"not_an_image_or_video\"\n",
    "                currRow = [[file_path, filehash]]\n",
    "                csvwriter.writerows(currRow) # encoding='cp1252'\n",
    "            except OSError as e:\n",
    "                logging.info(time.strftime(\"%Y%m%d_%H%M%S\") + ' : ERROR : ' + str(e) + '|' + file_path)\n"
   ]
  },
  {
   "cell_type": "code",
   "execution_count": 8,
   "metadata": {},
   "outputs": [],
   "source": [
    "# outFile = r'S:\\duplicateFileFinder-v1.4\\20210408_220057\\out\\outFile.csv'\n",
    "df = pd.read_csv(outFile, encoding=\"cp1252\")"
   ]
  },
  {
   "cell_type": "code",
   "execution_count": 9,
   "metadata": {},
   "outputs": [
    {
     "data": {
      "text/html": [
       "<div>\n",
       "<style scoped>\n",
       "    .dataframe tbody tr th:only-of-type {\n",
       "        vertical-align: middle;\n",
       "    }\n",
       "\n",
       "    .dataframe tbody tr th {\n",
       "        vertical-align: top;\n",
       "    }\n",
       "\n",
       "    .dataframe thead th {\n",
       "        text-align: right;\n",
       "    }\n",
       "</style>\n",
       "<table border=\"1\" class=\"dataframe\">\n",
       "  <thead>\n",
       "    <tr style=\"text-align: right;\">\n",
       "      <th></th>\n",
       "      <th>file_path</th>\n",
       "      <th>filehash</th>\n",
       "    </tr>\n",
       "  </thead>\n",
       "  <tbody>\n",
       "    <tr>\n",
       "      <td>0</td>\n",
       "      <td>F:\\.device_info_7ac47c75-4e45-4069-bb7c-849070...</td>\n",
       "      <td>not_an_image_or_video</td>\n",
       "    </tr>\n",
       "    <tr>\n",
       "      <td>1</td>\n",
       "      <td>F:\\ReadMe.pdf</td>\n",
       "      <td>not_an_image_or_video</td>\n",
       "    </tr>\n",
       "    <tr>\n",
       "      <td>2</td>\n",
       "      <td>F:\\$RECYCLE.BIN\\S-1-5-21-1370365542-515555644-...</td>\n",
       "      <td>not_an_image_or_video</td>\n",
       "    </tr>\n",
       "    <tr>\n",
       "      <td>3</td>\n",
       "      <td>F:\\$RECYCLE.BIN\\S-1-5-21-1370365542-515555644-...</td>\n",
       "      <td>not_an_image_or_video</td>\n",
       "    </tr>\n",
       "    <tr>\n",
       "      <td>4</td>\n",
       "      <td>F:\\$RECYCLE.BIN\\S-1-5-21-1370365542-515555644-...</td>\n",
       "      <td>not_an_image_or_video</td>\n",
       "    </tr>\n",
       "  </tbody>\n",
       "</table>\n",
       "</div>"
      ],
      "text/plain": [
       "                                           file_path               filehash\n",
       "0  F:\\.device_info_7ac47c75-4e45-4069-bb7c-849070...  not_an_image_or_video\n",
       "1                                      F:\\ReadMe.pdf  not_an_image_or_video\n",
       "2  F:\\$RECYCLE.BIN\\S-1-5-21-1370365542-515555644-...  not_an_image_or_video\n",
       "3  F:\\$RECYCLE.BIN\\S-1-5-21-1370365542-515555644-...  not_an_image_or_video\n",
       "4  F:\\$RECYCLE.BIN\\S-1-5-21-1370365542-515555644-...  not_an_image_or_video"
      ]
     },
     "execution_count": 9,
     "metadata": {},
     "output_type": "execute_result"
    }
   ],
   "source": [
    "df.head(5)"
   ]
  },
  {
   "cell_type": "code",
   "execution_count": 19,
   "metadata": {},
   "outputs": [
    {
     "name": "stdout",
     "output_type": "stream",
     "text": [
      "(370827, 2)\n",
      "(370827, 2)\n"
     ]
    },
    {
     "data": {
      "text/html": [
       "<div>\n",
       "<style scoped>\n",
       "    .dataframe tbody tr th:only-of-type {\n",
       "        vertical-align: middle;\n",
       "    }\n",
       "\n",
       "    .dataframe tbody tr th {\n",
       "        vertical-align: top;\n",
       "    }\n",
       "\n",
       "    .dataframe thead th {\n",
       "        text-align: right;\n",
       "    }\n",
       "</style>\n",
       "<table border=\"1\" class=\"dataframe\">\n",
       "  <thead>\n",
       "    <tr style=\"text-align: right;\">\n",
       "      <th></th>\n",
       "      <th>file_path</th>\n",
       "      <th>filehash</th>\n",
       "    </tr>\n",
       "  </thead>\n",
       "  <tbody>\n",
       "    <tr>\n",
       "      <td>5</td>\n",
       "      <td>F:\\autorun\\wdlogo.ico</td>\n",
       "      <td>d6f826b8ab8654fb1397c282486af87c</td>\n",
       "    </tr>\n",
       "    <tr>\n",
       "      <td>20953</td>\n",
       "      <td>F:\\iPhoneBackUp\\79ae05dc0c645b18ccb3aa8868dce7...</td>\n",
       "      <td>39e046910eaaf7166bf6f43610052cb7</td>\n",
       "    </tr>\n",
       "    <tr>\n",
       "      <td>46859</td>\n",
       "      <td>F:\\iPhoneBackUp\\f33f8291726c44d9395529730b3e64...</td>\n",
       "      <td>95b079eb8b391e54572d635209e20ad7</td>\n",
       "    </tr>\n",
       "    <tr>\n",
       "      <td>46860</td>\n",
       "      <td>F:\\iPhoneBackUp\\f33f8291726c44d9395529730b3e64...</td>\n",
       "      <td>9f3a2c91d1da5d3c8a2ab2b0313b6370</td>\n",
       "    </tr>\n",
       "    <tr>\n",
       "      <td>46861</td>\n",
       "      <td>F:\\iPhoneBackUp\\f33f8291726c44d9395529730b3e64...</td>\n",
       "      <td>5625bbc4f1207b681f2c83efb144d2a6</td>\n",
       "    </tr>\n",
       "  </tbody>\n",
       "</table>\n",
       "</div>"
      ],
      "text/plain": [
       "                                               file_path  \\\n",
       "5                                  F:\\autorun\\wdlogo.ico   \n",
       "20953  F:\\iPhoneBackUp\\79ae05dc0c645b18ccb3aa8868dce7...   \n",
       "46859  F:\\iPhoneBackUp\\f33f8291726c44d9395529730b3e64...   \n",
       "46860  F:\\iPhoneBackUp\\f33f8291726c44d9395529730b3e64...   \n",
       "46861  F:\\iPhoneBackUp\\f33f8291726c44d9395529730b3e64...   \n",
       "\n",
       "                               filehash  \n",
       "5      d6f826b8ab8654fb1397c282486af87c  \n",
       "20953  39e046910eaaf7166bf6f43610052cb7  \n",
       "46859  95b079eb8b391e54572d635209e20ad7  \n",
       "46860  9f3a2c91d1da5d3c8a2ab2b0313b6370  \n",
       "46861  5625bbc4f1207b681f2c83efb144d2a6  "
      ]
     },
     "execution_count": 19,
     "metadata": {},
     "output_type": "execute_result"
    }
   ],
   "source": [
    "# delete all the rows from dataframe which are not image or video\n",
    "print(df.shape)\n",
    "df = df[df['filehash'] != 'not_an_image_or_video']\n",
    "print(df.shape)\n",
    "df.head(5)"
   ]
  },
  {
   "cell_type": "code",
   "execution_count": 11,
   "metadata": {},
   "outputs": [
    {
     "data": {
      "text/plain": [
       "(510138,)"
      ]
     },
     "execution_count": 11,
     "metadata": {},
     "output_type": "execute_result"
    }
   ],
   "source": [
    "df_notImgVid.shape"
   ]
  },
  {
   "cell_type": "markdown",
   "metadata": {},
   "source": [
    "<hr style=\"border: solid rgb(255,255,255) 1.0px;height: 2.0px;\"/>"
   ]
  },
  {
   "cell_type": "markdown",
   "metadata": {},
   "source": [
    "#### Module 03 : End"
   ]
  },
  {
   "cell_type": "code",
   "execution_count": 5,
   "metadata": {},
   "outputs": [],
   "source": [
    "logging.info(time.strftime(\"%Y%m%d_%H%M%S\") + ' ******* Program End  ******* ')"
   ]
  },
  {
   "cell_type": "markdown",
   "metadata": {},
   "source": [
    "<hr style=\"border: solid rgb(255,255,255) 1.0px;height: 2.0px;\"/>"
   ]
  }
 ],
 "metadata": {
  "kernelspec": {
   "display_name": "Python 3",
   "language": "python",
   "name": "python3"
  },
  "language_info": {
   "codemirror_mode": {
    "name": "ipython",
    "version": 3
   },
   "file_extension": ".py",
   "mimetype": "text/x-python",
   "name": "python",
   "nbconvert_exporter": "python",
   "pygments_lexer": "ipython3",
   "version": "3.7.4"
  }
 },
 "nbformat": 4,
 "nbformat_minor": 2
}
