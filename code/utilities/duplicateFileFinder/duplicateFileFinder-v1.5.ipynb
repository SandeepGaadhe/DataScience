{
 "cells": [
  {
   "cell_type": "markdown",
   "metadata": {},
   "source": [
    "\n",
    "### Expected flow of program\n",
    "\n",
    "#### Module 01 : Get Statistics\n",
    "\n",
    "    1. Get the root directory to traverse.\n",
    "    2. Recursively generate md5 for all files in root, sub directories. Dump the result in csv.\n",
    "\n",
    "#### Module 02 : Move Files\n",
    "\n",
    "    1. Analyze the result stored in csv.\n",
    "    2. Prepare the source and destination directory structure in excel.\n",
    "    3. Run python to read excel and move the files as mentioned in excel.\n",
    "\n",
    "\n"
   ]
  },
  {
   "cell_type": "markdown",
   "metadata": {},
   "source": [
    "<hr style=\"border: solid rgb(255,255,255) 1.0px;height: 2.0px;\"/>"
   ]
  },
  {
   "cell_type": "markdown",
   "metadata": {},
   "source": [
    "#### Module 01 : Get Statistics"
   ]
  },
  {
   "cell_type": "code",
   "execution_count": 3,
   "metadata": {},
   "outputs": [],
   "source": [
    "# https://github.com/UrviSoni/remove_duplicate_image/blob/master/duplicate_image_remove.ipynb\n",
    "\n",
    "import hashlib\n",
    "from skimage.io import imread\n",
    "import matplotlib.pyplot as plt\n",
    "import matplotlib.gridspec as gridspec\n",
    "import time\n",
    "import numpy as np\n",
    "import logging\n",
    "import datetime\n",
    "import hashlib\n",
    "import os\n",
    "import sys\n",
    "import csv\n",
    "import filetype\n",
    "import pandas as pd\n",
    "\n",
    "%matplotlib inline"
   ]
  },
  {
   "cell_type": "code",
   "execution_count": 2,
   "metadata": {},
   "outputs": [],
   "source": [
    "# Set up program level variables\n",
    "\n",
    "searchDir = 'F:\\\\' \n",
    "#destinDir = 'S:\\Pictures\\duplicateFileFinder\\duplicates\\\\' \n",
    "executionRun = time.strftime(\"%Y%m%d_%H%M%S\")\n",
    "outDir = 'S:\\duplicateFileFinder-v1.4\\\\' + executionRun + '\\out\\\\'\n",
    "outFile = outDir +  'outFile.csv'\n",
    "\n",
    "logDir = 'S:\\duplicateFileFinder-v1.4\\\\' + executionRun + '\\log\\\\'\n",
    "logFile = logDir + 'logFile.log'"
   ]
  },
  {
   "cell_type": "code",
   "execution_count": 3,
   "metadata": {},
   "outputs": [],
   "source": [
    "if not os.path.exists(outDir):\n",
    "    os.makedirs(outDir)\n",
    "\n",
    "if not os.path.exists(logDir):\n",
    "    os.makedirs(logDir)\n",
    "    \n",
    "logging.basicConfig(filename= logFile, level=logging.INFO)\n",
    "\n",
    "logging.info(time.strftime(\"\\n\\n\\n%Y%m%d_%H%M%S\") + ' : ******* Program Start  ******* ')\n",
    "logging.info(time.strftime(\"%Y%m%d_%H%M%S\") + ' : searchDir : ' + searchDir)\n",
    "#logging.info(time.strftime(\"%Y%m%d_%H%M%S\") + ' : destinDir : ' + destinDir)\n",
    "logging.info(time.strftime(\"%Y%m%d_%H%M%S\") + ' : outDir : ' + outDir)\n",
    "logging.info(time.strftime(\"%Y%m%d_%H%M%S\") + ' : outFile : ' + outFile)\n",
    "logging.info(time.strftime(\"%Y%m%d_%H%M%S\") + ' : logDir : ' + logDir)\n",
    "logging.info(time.strftime(\"%Y%m%d_%H%M%S\") + ' : logFile : ' + logFile)"
   ]
  },
  {
   "cell_type": "code",
   "execution_count": 4,
   "metadata": {},
   "outputs": [],
   "source": [
    "walk_dir = searchDir\n",
    "\n",
    "with open(outFile, mode='w', newline='') as csvFile:\n",
    "    fieldnames = ['file_path', 'filehash']\n",
    "    \n",
    "    # creating a csv writer object \n",
    "    csvwriter = csv.writer(csvFile) \n",
    "        \n",
    "    # writing the fields \n",
    "    csvwriter.writerow(fieldnames) \n",
    "    \n",
    "    for root, subdirs, files in os.walk(walk_dir):\n",
    "        for filename in files:\n",
    "            file_path = os.path.join(root, filename)\n",
    "            \n",
    "            try:\n",
    "                if filetype.is_image(file_path) or filetype.is_video(file_path):\n",
    "                    # generate and dump md5 to csv\n",
    "                    with open(file_path, 'rb') as f:\n",
    "                        filehash = hashlib.md5(f.read()).hexdigest()\n",
    "                else:\n",
    "                    filehash = \"not_an_image_or_video\"\n",
    "                currRow = [[file_path, filehash]]\n",
    "                csvwriter.writerows(currRow) # encoding='cp1252'\n",
    "            except OSError as e:\n",
    "                logging.info(time.strftime(\"%Y%m%d_%H%M%S\") + ' : ERROR : ' + str(e) + '|' + file_path)\n"
   ]
  },
  {
   "cell_type": "code",
   "execution_count": 5,
   "metadata": {},
   "outputs": [],
   "source": [
    "outFile = r'F:\\UserFiles\\SandeepG\\Official\\DataScience\\log\\duplicateFileFinder-v1.4\\20210410_083436\\out\\outFile.csv'\n",
    "df = pd.read_csv(outFile, encoding=\"cp1252\", delimiter=\"|\")"
   ]
  },
  {
   "cell_type": "code",
   "execution_count": 6,
   "metadata": {},
   "outputs": [
    {
     "data": {
      "text/html": [
       "<div>\n",
       "<style scoped>\n",
       "    .dataframe tbody tr th:only-of-type {\n",
       "        vertical-align: middle;\n",
       "    }\n",
       "\n",
       "    .dataframe tbody tr th {\n",
       "        vertical-align: top;\n",
       "    }\n",
       "\n",
       "    .dataframe thead th {\n",
       "        text-align: right;\n",
       "    }\n",
       "</style>\n",
       "<table border=\"1\" class=\"dataframe\">\n",
       "  <thead>\n",
       "    <tr style=\"text-align: right;\">\n",
       "      <th></th>\n",
       "      <th>file_path</th>\n",
       "      <th>file_hash</th>\n",
       "      <th>file_size</th>\n",
       "      <th>last_modi</th>\n",
       "    </tr>\n",
       "  </thead>\n",
       "  <tbody>\n",
       "    <tr>\n",
       "      <th>0</th>\n",
       "      <td>F:\\.device_info_7ac47c75-4e45-4069-bb7c-849070...</td>\n",
       "      <td>not_an_image_or_video</td>\n",
       "      <td>0</td>\n",
       "      <td>20161224</td>\n",
       "    </tr>\n",
       "    <tr>\n",
       "      <th>1</th>\n",
       "      <td>F:\\ReadMe.pdf</td>\n",
       "      <td>not_an_image_or_video</td>\n",
       "      <td>1048617</td>\n",
       "      <td>20130407</td>\n",
       "    </tr>\n",
       "    <tr>\n",
       "      <th>2</th>\n",
       "      <td>F:\\$RECYCLE.BIN\\S-1-5-21-1370365542-515555644-...</td>\n",
       "      <td>not_an_image_or_video</td>\n",
       "      <td>158</td>\n",
       "      <td>20210206</td>\n",
       "    </tr>\n",
       "    <tr>\n",
       "      <th>3</th>\n",
       "      <td>F:\\$RECYCLE.BIN\\S-1-5-21-1370365542-515555644-...</td>\n",
       "      <td>not_an_image_or_video</td>\n",
       "      <td>60</td>\n",
       "      <td>20210131</td>\n",
       "    </tr>\n",
       "    <tr>\n",
       "      <th>4</th>\n",
       "      <td>F:\\$RECYCLE.BIN\\S-1-5-21-1370365542-515555644-...</td>\n",
       "      <td>not_an_image_or_video</td>\n",
       "      <td>129</td>\n",
       "      <td>20161225</td>\n",
       "    </tr>\n",
       "  </tbody>\n",
       "</table>\n",
       "</div>"
      ],
      "text/plain": [
       "                                           file_path              file_hash  \\\n",
       "0  F:\\.device_info_7ac47c75-4e45-4069-bb7c-849070...  not_an_image_or_video   \n",
       "1                                      F:\\ReadMe.pdf  not_an_image_or_video   \n",
       "2  F:\\$RECYCLE.BIN\\S-1-5-21-1370365542-515555644-...  not_an_image_or_video   \n",
       "3  F:\\$RECYCLE.BIN\\S-1-5-21-1370365542-515555644-...  not_an_image_or_video   \n",
       "4  F:\\$RECYCLE.BIN\\S-1-5-21-1370365542-515555644-...  not_an_image_or_video   \n",
       "\n",
       "   file_size  last_modi  \n",
       "0          0   20161224  \n",
       "1    1048617   20130407  \n",
       "2        158   20210206  \n",
       "3         60   20210131  \n",
       "4        129   20161225  "
      ]
     },
     "execution_count": 6,
     "metadata": {},
     "output_type": "execute_result"
    }
   ],
   "source": [
    "df.head(5)"
   ]
  },
  {
   "cell_type": "code",
   "execution_count": 8,
   "metadata": {},
   "outputs": [
    {
     "name": "stdout",
     "output_type": "stream",
     "text": [
      "Before Delete : (510129, 4)\n",
      "After Delete : (370819, 4)\n"
     ]
    },
    {
     "data": {
      "text/html": [
       "<div>\n",
       "<style scoped>\n",
       "    .dataframe tbody tr th:only-of-type {\n",
       "        vertical-align: middle;\n",
       "    }\n",
       "\n",
       "    .dataframe tbody tr th {\n",
       "        vertical-align: top;\n",
       "    }\n",
       "\n",
       "    .dataframe thead th {\n",
       "        text-align: right;\n",
       "    }\n",
       "</style>\n",
       "<table border=\"1\" class=\"dataframe\">\n",
       "  <thead>\n",
       "    <tr style=\"text-align: right;\">\n",
       "      <th></th>\n",
       "      <th>file_path</th>\n",
       "      <th>file_hash</th>\n",
       "      <th>file_size</th>\n",
       "      <th>last_modi</th>\n",
       "    </tr>\n",
       "  </thead>\n",
       "  <tbody>\n",
       "    <tr>\n",
       "      <th>5</th>\n",
       "      <td>F:\\autorun\\wdlogo.ico</td>\n",
       "      <td>d6f826b8ab8654fb1397c282486af87c</td>\n",
       "      <td>766</td>\n",
       "      <td>20021014</td>\n",
       "    </tr>\n",
       "    <tr>\n",
       "      <th>20953</th>\n",
       "      <td>F:\\iPhoneBackUp\\79ae05dc0c645b18ccb3aa8868dce7...</td>\n",
       "      <td>39e046910eaaf7166bf6f43610052cb7</td>\n",
       "      <td>2656</td>\n",
       "      <td>20200621</td>\n",
       "    </tr>\n",
       "    <tr>\n",
       "      <th>46859</th>\n",
       "      <td>F:\\iPhoneBackUp\\f33f8291726c44d9395529730b3e64...</td>\n",
       "      <td>95b079eb8b391e54572d635209e20ad7</td>\n",
       "      <td>346544</td>\n",
       "      <td>20210206</td>\n",
       "    </tr>\n",
       "    <tr>\n",
       "      <th>46860</th>\n",
       "      <td>F:\\iPhoneBackUp\\f33f8291726c44d9395529730b3e64...</td>\n",
       "      <td>9f3a2c91d1da5d3c8a2ab2b0313b6370</td>\n",
       "      <td>598</td>\n",
       "      <td>20210206</td>\n",
       "    </tr>\n",
       "    <tr>\n",
       "      <th>46861</th>\n",
       "      <td>F:\\iPhoneBackUp\\f33f8291726c44d9395529730b3e64...</td>\n",
       "      <td>5625bbc4f1207b681f2c83efb144d2a6</td>\n",
       "      <td>73574</td>\n",
       "      <td>20210206</td>\n",
       "    </tr>\n",
       "  </tbody>\n",
       "</table>\n",
       "</div>"
      ],
      "text/plain": [
       "                                               file_path  \\\n",
       "5                                  F:\\autorun\\wdlogo.ico   \n",
       "20953  F:\\iPhoneBackUp\\79ae05dc0c645b18ccb3aa8868dce7...   \n",
       "46859  F:\\iPhoneBackUp\\f33f8291726c44d9395529730b3e64...   \n",
       "46860  F:\\iPhoneBackUp\\f33f8291726c44d9395529730b3e64...   \n",
       "46861  F:\\iPhoneBackUp\\f33f8291726c44d9395529730b3e64...   \n",
       "\n",
       "                              file_hash  file_size  last_modi  \n",
       "5      d6f826b8ab8654fb1397c282486af87c        766   20021014  \n",
       "20953  39e046910eaaf7166bf6f43610052cb7       2656   20200621  \n",
       "46859  95b079eb8b391e54572d635209e20ad7     346544   20210206  \n",
       "46860  9f3a2c91d1da5d3c8a2ab2b0313b6370        598   20210206  \n",
       "46861  5625bbc4f1207b681f2c83efb144d2a6      73574   20210206  "
      ]
     },
     "execution_count": 8,
     "metadata": {},
     "output_type": "execute_result"
    }
   ],
   "source": [
    "# delete all the rows from dataframe which are not image or video\n",
    "print('Before Delete :', df.shape)\n",
    "df = df[df['file_hash'] != 'not_an_image_or_video']\n",
    "print('After Delete :', df.shape)\n",
    "df.head(5)"
   ]
  },
  {
   "cell_type": "code",
   "execution_count": 17,
   "metadata": {},
   "outputs": [],
   "source": [
    "df_copy = df.head(10).copy()"
   ]
  },
  {
   "cell_type": "code",
   "execution_count": 18,
   "metadata": {},
   "outputs": [
    {
     "data": {
      "text/plain": [
       "(10, 4)"
      ]
     },
     "execution_count": 18,
     "metadata": {},
     "output_type": "execute_result"
    }
   ],
   "source": [
    "df_copy.shape"
   ]
  },
  {
   "cell_type": "code",
   "execution_count": 19,
   "metadata": {},
   "outputs": [
    {
     "data": {
      "text/plain": [
       "5        .ico\n",
       "20953        \n",
       "46859        \n",
       "46860        \n",
       "46861        \n",
       "46862        \n",
       "46863        \n",
       "46864        \n",
       "46865        \n",
       "46866        \n",
       "Name: file_path, dtype: object"
      ]
     },
     "execution_count": 19,
     "metadata": {},
     "output_type": "execute_result"
    }
   ],
   "source": [
    "df_copy[\"file_path\"].apply(lambda x: os.path.splitext(os.path.basename(x))[1])"
   ]
  },
  {
   "cell_type": "code",
   "execution_count": 22,
   "metadata": {},
   "outputs": [
    {
     "data": {
      "text/html": [
       "<div>\n",
       "<style scoped>\n",
       "    .dataframe tbody tr th:only-of-type {\n",
       "        vertical-align: middle;\n",
       "    }\n",
       "\n",
       "    .dataframe tbody tr th {\n",
       "        vertical-align: top;\n",
       "    }\n",
       "\n",
       "    .dataframe thead th {\n",
       "        text-align: right;\n",
       "    }\n",
       "</style>\n",
       "<table border=\"1\" class=\"dataframe\">\n",
       "  <thead>\n",
       "    <tr style=\"text-align: right;\">\n",
       "      <th></th>\n",
       "      <th>file_path</th>\n",
       "      <th>file_hash</th>\n",
       "      <th>file_size</th>\n",
       "      <th>last_modi</th>\n",
       "    </tr>\n",
       "  </thead>\n",
       "  <tbody>\n",
       "    <tr>\n",
       "      <th>5</th>\n",
       "      <td>F:\\autorun\\wdlogo.ico</td>\n",
       "      <td>d6f826b8ab8654fb1397c282486af87c</td>\n",
       "      <td>766</td>\n",
       "      <td>20021014</td>\n",
       "    </tr>\n",
       "    <tr>\n",
       "      <th>20953</th>\n",
       "      <td>F:\\iPhoneBackUp\\79ae05dc0c645b18ccb3aa8868dce7...</td>\n",
       "      <td>39e046910eaaf7166bf6f43610052cb7</td>\n",
       "      <td>2656</td>\n",
       "      <td>20200621</td>\n",
       "    </tr>\n",
       "    <tr>\n",
       "      <th>46859</th>\n",
       "      <td>F:\\iPhoneBackUp\\f33f8291726c44d9395529730b3e64...</td>\n",
       "      <td>95b079eb8b391e54572d635209e20ad7</td>\n",
       "      <td>346544</td>\n",
       "      <td>20210206</td>\n",
       "    </tr>\n",
       "    <tr>\n",
       "      <th>46860</th>\n",
       "      <td>F:\\iPhoneBackUp\\f33f8291726c44d9395529730b3e64...</td>\n",
       "      <td>9f3a2c91d1da5d3c8a2ab2b0313b6370</td>\n",
       "      <td>598</td>\n",
       "      <td>20210206</td>\n",
       "    </tr>\n",
       "    <tr>\n",
       "      <th>46861</th>\n",
       "      <td>F:\\iPhoneBackUp\\f33f8291726c44d9395529730b3e64...</td>\n",
       "      <td>5625bbc4f1207b681f2c83efb144d2a6</td>\n",
       "      <td>73574</td>\n",
       "      <td>20210206</td>\n",
       "    </tr>\n",
       "  </tbody>\n",
       "</table>\n",
       "</div>"
      ],
      "text/plain": [
       "                                               file_path  \\\n",
       "5                                  F:\\autorun\\wdlogo.ico   \n",
       "20953  F:\\iPhoneBackUp\\79ae05dc0c645b18ccb3aa8868dce7...   \n",
       "46859  F:\\iPhoneBackUp\\f33f8291726c44d9395529730b3e64...   \n",
       "46860  F:\\iPhoneBackUp\\f33f8291726c44d9395529730b3e64...   \n",
       "46861  F:\\iPhoneBackUp\\f33f8291726c44d9395529730b3e64...   \n",
       "\n",
       "                              file_hash  file_size  last_modi  \n",
       "5      d6f826b8ab8654fb1397c282486af87c        766   20021014  \n",
       "20953  39e046910eaaf7166bf6f43610052cb7       2656   20200621  \n",
       "46859  95b079eb8b391e54572d635209e20ad7     346544   20210206  \n",
       "46860  9f3a2c91d1da5d3c8a2ab2b0313b6370        598   20210206  \n",
       "46861  5625bbc4f1207b681f2c83efb144d2a6      73574   20210206  "
      ]
     },
     "execution_count": 22,
     "metadata": {},
     "output_type": "execute_result"
    }
   ],
   "source": [
    "df_copy.head(5)"
   ]
  },
  {
   "cell_type": "code",
   "execution_count": 24,
   "metadata": {},
   "outputs": [
    {
     "data": {
      "text/plain": [
       "5                                      wdlogo.ico\n",
       "20953    80ce9469b955b9a81e9acc3ef951b06a0494db10\n",
       "46859    00007a8caf5e5fb32d0e9c80ebe9b604487dc076\n",
       "46860    0000b10693452dd0580858ce8f8a2d6c90944a5a\n",
       "46861    0001c69dfc36372e180b3573a9bfd92c0771125c\n",
       "46862    0001c7e50d0b926e82f0cab54b3a445dd792769a\n",
       "46863    000200a644d7d2c56eec5b89c1921dacbec83c3e\n",
       "46864    00023c03fd01570ae838656f6ef3c08480bd7f1b\n",
       "46865    00025d9c41f80df68812b35cf5ab31fa61779d8f\n",
       "46866    0002adb5b8a88748c16250b54d3813d0244a6607\n",
       "Name: file_path, dtype: object"
      ]
     },
     "execution_count": 24,
     "metadata": {},
     "output_type": "execute_result"
    }
   ],
   "source": [
    "import pathlib\n",
    "df_copy['file_path'].apply(lambda x: pathlib.Path(x).name)"
   ]
  },
  {
   "cell_type": "code",
   "execution_count": 25,
   "metadata": {},
   "outputs": [
    {
     "data": {
      "text/html": [
       "<div>\n",
       "<style scoped>\n",
       "    .dataframe tbody tr th:only-of-type {\n",
       "        vertical-align: middle;\n",
       "    }\n",
       "\n",
       "    .dataframe tbody tr th {\n",
       "        vertical-align: top;\n",
       "    }\n",
       "\n",
       "    .dataframe thead th {\n",
       "        text-align: right;\n",
       "    }\n",
       "</style>\n",
       "<table border=\"1\" class=\"dataframe\">\n",
       "  <thead>\n",
       "    <tr style=\"text-align: right;\">\n",
       "      <th></th>\n",
       "      <th>file_path</th>\n",
       "      <th>file_hash</th>\n",
       "      <th>file_size</th>\n",
       "      <th>last_modi</th>\n",
       "    </tr>\n",
       "  </thead>\n",
       "  <tbody>\n",
       "    <tr>\n",
       "      <th>5</th>\n",
       "      <td>F:\\autorun\\wdlogo.ico</td>\n",
       "      <td>d6f826b8ab8654fb1397c282486af87c</td>\n",
       "      <td>766</td>\n",
       "      <td>20021014</td>\n",
       "    </tr>\n",
       "    <tr>\n",
       "      <th>20953</th>\n",
       "      <td>F:\\iPhoneBackUp\\79ae05dc0c645b18ccb3aa8868dce7...</td>\n",
       "      <td>39e046910eaaf7166bf6f43610052cb7</td>\n",
       "      <td>2656</td>\n",
       "      <td>20200621</td>\n",
       "    </tr>\n",
       "    <tr>\n",
       "      <th>46859</th>\n",
       "      <td>F:\\iPhoneBackUp\\f33f8291726c44d9395529730b3e64...</td>\n",
       "      <td>95b079eb8b391e54572d635209e20ad7</td>\n",
       "      <td>346544</td>\n",
       "      <td>20210206</td>\n",
       "    </tr>\n",
       "    <tr>\n",
       "      <th>46860</th>\n",
       "      <td>F:\\iPhoneBackUp\\f33f8291726c44d9395529730b3e64...</td>\n",
       "      <td>9f3a2c91d1da5d3c8a2ab2b0313b6370</td>\n",
       "      <td>598</td>\n",
       "      <td>20210206</td>\n",
       "    </tr>\n",
       "    <tr>\n",
       "      <th>46861</th>\n",
       "      <td>F:\\iPhoneBackUp\\f33f8291726c44d9395529730b3e64...</td>\n",
       "      <td>5625bbc4f1207b681f2c83efb144d2a6</td>\n",
       "      <td>73574</td>\n",
       "      <td>20210206</td>\n",
       "    </tr>\n",
       "  </tbody>\n",
       "</table>\n",
       "</div>"
      ],
      "text/plain": [
       "                                               file_path  \\\n",
       "5                                  F:\\autorun\\wdlogo.ico   \n",
       "20953  F:\\iPhoneBackUp\\79ae05dc0c645b18ccb3aa8868dce7...   \n",
       "46859  F:\\iPhoneBackUp\\f33f8291726c44d9395529730b3e64...   \n",
       "46860  F:\\iPhoneBackUp\\f33f8291726c44d9395529730b3e64...   \n",
       "46861  F:\\iPhoneBackUp\\f33f8291726c44d9395529730b3e64...   \n",
       "\n",
       "                              file_hash  file_size  last_modi  \n",
       "5      d6f826b8ab8654fb1397c282486af87c        766   20021014  \n",
       "20953  39e046910eaaf7166bf6f43610052cb7       2656   20200621  \n",
       "46859  95b079eb8b391e54572d635209e20ad7     346544   20210206  \n",
       "46860  9f3a2c91d1da5d3c8a2ab2b0313b6370        598   20210206  \n",
       "46861  5625bbc4f1207b681f2c83efb144d2a6      73574   20210206  "
      ]
     },
     "execution_count": 25,
     "metadata": {},
     "output_type": "execute_result"
    }
   ],
   "source": [
    "df_copy.head(5)"
   ]
  },
  {
   "cell_type": "code",
   "execution_count": 27,
   "metadata": {},
   "outputs": [
    {
     "ename": "SyntaxError",
     "evalue": "(unicode error) 'unicodeescape' codec can't decode bytes in position 2-3: truncated \\UXXXXXXXX escape (<ipython-input-27-51e2a180ec51>, line 1)",
     "output_type": "error",
     "traceback": [
      "\u001b[1;36m  File \u001b[1;32m\"<ipython-input-27-51e2a180ec51>\"\u001b[1;36m, line \u001b[1;32m1\u001b[0m\n\u001b[1;33m    pathlib.Path('F:\\UserFiles_HPLaptop01_i5MustafaUK\\ChetnaG\\Official\\London\\Files\\ChetnaG\\Files\\favourites\\ChetnaG\\SQL Tutorial.url').name\u001b[0m\n\u001b[1;37m                 ^\u001b[0m\n\u001b[1;31mSyntaxError\u001b[0m\u001b[1;31m:\u001b[0m (unicode error) 'unicodeescape' codec can't decode bytes in position 2-3: truncated \\UXXXXXXXX escape\n"
     ]
    }
   ],
   "source": [
    "pathlib.Path('F:\\UserFiles_HPLaptop01_i5MustafaUK\\ChetnaG\\Official\\London\\Files\\ChetnaG\\Files\\favourites\\ChetnaG\\SQL Tutorial.url').name"
   ]
  },
  {
   "cell_type": "markdown",
   "metadata": {},
   "source": [
    "<hr style=\"border: solid rgb(255,255,255) 1.0px;height: 2.0px;\"/>"
   ]
  },
  {
   "cell_type": "markdown",
   "metadata": {},
   "source": [
    "#### Module 03 : End"
   ]
  },
  {
   "cell_type": "code",
   "execution_count": 5,
   "metadata": {},
   "outputs": [],
   "source": [
    "logging.info(time.strftime(\"%Y%m%d_%H%M%S\") + ' ******* Program End  ******* ')"
   ]
  },
  {
   "cell_type": "markdown",
   "metadata": {},
   "source": [
    "<hr style=\"border: solid rgb(255,255,255) 1.0px;height: 2.0px;\"/>"
   ]
  }
 ],
 "metadata": {
  "kernelspec": {
   "display_name": "Python 3",
   "language": "python",
   "name": "python3"
  },
  "language_info": {
   "codemirror_mode": {
    "name": "ipython",
    "version": 3
   },
   "file_extension": ".py",
   "mimetype": "text/x-python",
   "name": "python",
   "nbconvert_exporter": "python",
   "pygments_lexer": "ipython3",
   "version": "3.8.3"
  }
 },
 "nbformat": 4,
 "nbformat_minor": 2
}
