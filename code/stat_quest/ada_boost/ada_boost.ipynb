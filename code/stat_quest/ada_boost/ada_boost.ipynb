{
 "cells": [
  {
   "cell_type": "code",
   "execution_count": 1,
   "metadata": {},
   "outputs": [],
   "source": [
    "import pandas as pd\n",
    "import numpy as np\n",
    "import random"
   ]
  },
  {
   "cell_type": "code",
   "execution_count": 2,
   "metadata": {},
   "outputs": [],
   "source": [
    "def cal_gini(p_df, p_label, p_index = 'Index', p_unique_threshold = 5):\n",
    "    \n",
    "    df_return = pd.DataFrame(columns = ['feature_name', 'feature_value', 'label_count_1', 'label_count_0', 'gini_leaf', 'gini_feature'], dtype = object)\n",
    "    \n",
    "    p_df[p_label] = p_df[p_label].replace(['Yes','No'],[1,0])\n",
    "    for currColName in p_df.columns:\n",
    "    \n",
    "        if currColName == p_label or currColName == p_index: # skip if the column is target label or index\n",
    "            continue\n",
    "    \n",
    "        if p_df[currColName].nunique() > p_unique_threshold: # skip considering it root node if distinct value is more than 9\n",
    "            continue\n",
    "        df_curr_col = p_df[[p_index, currColName, p_label]]\n",
    "        \n",
    "        # massaging df_curr_col\n",
    "        df_curr_col[currColName] = df_curr_col[currColName].replace(['Yes','No'],[1,0])\n",
    "        df_curr_col = df_curr_col[df_curr_col[currColName].notna()]\n",
    "        \n",
    "        for currColValue in df_curr_col[currColName].unique():\n",
    "            \n",
    "            labelCount1 = int((df_curr_col[(df_curr_col[currColName] == currColValue) & (df_curr_col[p_label] == 1)])[p_index].agg(['count']))\n",
    "            labelCount0 = int((df_curr_col[(df_curr_col[currColName] == currColValue) & (df_curr_col[p_label] == 0)])[p_index].agg(['count']))\n",
    "            total = labelCount1 + labelCount0\n",
    "            \n",
    "            gini_leaf = None #reset \n",
    "            if total != 0:\n",
    "                gini_leaf = 1 - ((labelCount1/total)**2) - ((labelCount0/total)**2)\n",
    "            \n",
    "            #locals()[f' gini_leaf_{currColValue}'] = gini_leaf\n",
    "            #locals()[f' total_{currColValue}'] = total\n",
    "            \n",
    "            #print(f'currColName : {currColName} currColValue : {currColValue} survived : {survived} notSurvived : {notSurvived} gini : {gini}')\n",
    "            df_return = df_return.append({'feature_name' : currColName, 'feature_value' : currColValue, 'label_count_1' : labelCount1, 'label_count_0' : labelCount0, 'gini_leaf' : gini_leaf }, ignore_index = True)\n",
    "        \n",
    "        # reset variables\n",
    "        total_1 = None\n",
    "        gini_leaf_1 = None\n",
    "        total_0 = None\n",
    "        gini_leaf_0 = None\n",
    "        \n",
    "        # calculate gini_feature\n",
    "        \n",
    "        if not ((df_return[(df_return['feature_name'] == currColName) & (df_return['feature_value'] == 1)].empty) or (df_return[(df_return['feature_name'] == currColName) & (df_return['feature_value'] == 0)].empty)):\n",
    "            total_1 = int(df_return[(df_return['feature_name'] == currColName) & (df_return['feature_value'] == 1)]['label_count_1']) + int(df_return[(df_return['feature_name'] == currColName) & (df_return['feature_value'] == 1)]['label_count_0'])\n",
    "            gini_leaf_1 = float(df_return[(df_return['feature_name'] == currColName) & (df_return['feature_value'] == 1)]['gini_leaf'])\n",
    "            total_0 = int(df_return[(df_return['feature_name'] == currColName) & (df_return['feature_value'] == 0)]['label_count_1']) + int(df_return[(df_return['feature_name'] == currColName) & (df_return['feature_value'] == 0)]['label_count_0'])\n",
    "            gini_leaf_0 = float(df_return[(df_return['feature_name'] == currColName) & (df_return['feature_value'] == 0)]['gini_leaf'])\n",
    "            gini_feature = ((total_1/(total_1 + total_0)) * gini_leaf_1) + ((total_0/(total_1 + total_0)) * gini_leaf_0)\n",
    "            df_return['gini_feature'].mask(df_return['feature_name'] == currColName, gini_feature, inplace=True)\n",
    "        \n",
    "    # sort by gini_feature to identify root\n",
    "    df_return = df_return.sort_values(by=['gini_feature'])    \n",
    "    return df_return"
   ]
  },
  {
   "cell_type": "code",
   "execution_count": 3,
   "metadata": {},
   "outputs": [],
   "source": [
    "df = None\n",
    "df = pd.DataFrame(columns = ['Chest Pain', 'Blocked Arteries', 'Patient Weight', 'Heart Disease'], dtype = object)"
   ]
  },
  {
   "cell_type": "markdown",
   "metadata": {},
   "source": [
    "# append rows to an empty DataFrame"
   ]
  },
  {
   "cell_type": "code",
   "execution_count": 4,
   "metadata": {},
   "outputs": [],
   "source": [
    "df = df.append({'Chest Pain' : 'Yes', 'Blocked Arteries' : 'Yes', 'Patient Weight' : 205,'Heart Disease' : 'Yes'}, \n",
    "               ignore_index = True)"
   ]
  },
  {
   "cell_type": "code",
   "execution_count": 5,
   "metadata": {},
   "outputs": [],
   "source": [
    "df = df.append({'Chest Pain' : 'No', 'Blocked Arteries' : 'Yes', 'Patient Weight' : 180,'Heart Disease' : 'Yes'}, \n",
    "               ignore_index = True)"
   ]
  },
  {
   "cell_type": "code",
   "execution_count": 6,
   "metadata": {},
   "outputs": [],
   "source": [
    "df = df.append({'Chest Pain' : 'Yes', 'Blocked Arteries' : 'No', 'Patient Weight' : 210,'Heart Disease' : 'Yes'}, \n",
    "               ignore_index = True)"
   ]
  },
  {
   "cell_type": "code",
   "execution_count": 7,
   "metadata": {},
   "outputs": [],
   "source": [
    "df = df.append({'Chest Pain' : 'Yes', 'Blocked Arteries' : 'Yes', 'Patient Weight' : 167,'Heart Disease' : 'Yes'}, \n",
    "               ignore_index = True)"
   ]
  },
  {
   "cell_type": "code",
   "execution_count": 8,
   "metadata": {},
   "outputs": [],
   "source": [
    "df = df.append({'Chest Pain' : 'No', 'Blocked Arteries' : 'Yes', 'Patient Weight' : 156,'Heart Disease' : 'No'}, \n",
    "               ignore_index = True)"
   ]
  },
  {
   "cell_type": "code",
   "execution_count": 9,
   "metadata": {},
   "outputs": [],
   "source": [
    "df = df.append({'Chest Pain' : 'No', 'Blocked Arteries' : 'Yes', 'Patient Weight' : 125,'Heart Disease' : 'No'}, \n",
    "               ignore_index = True)"
   ]
  },
  {
   "cell_type": "code",
   "execution_count": 10,
   "metadata": {},
   "outputs": [],
   "source": [
    "df = df.append({'Chest Pain' : 'Yes', 'Blocked Arteries' : 'No', 'Patient Weight' : 168,'Heart Disease' : 'No'}, \n",
    "               ignore_index = True)"
   ]
  },
  {
   "cell_type": "code",
   "execution_count": 11,
   "metadata": {},
   "outputs": [],
   "source": [
    "df = df.append({'Chest Pain' : 'Yes', 'Blocked Arteries' : 'Yes', 'Patient Weight' : 172,'Heart Disease' : 'No'}, \n",
    "               ignore_index = True)"
   ]
  },
  {
   "cell_type": "code",
   "execution_count": 12,
   "metadata": {},
   "outputs": [],
   "source": [
    "df_Orig = df.copy()"
   ]
  },
  {
   "cell_type": "code",
   "execution_count": 13,
   "metadata": {},
   "outputs": [],
   "source": [
    "lv_label = 'Heart Disease'"
   ]
  },
  {
   "cell_type": "markdown",
   "metadata": {},
   "source": [
    "### temporarily we have encoded patient weight if it is more than 176 lb or not<br> to get how 176 lb was calculated, please see decision tree implementation"
   ]
  },
  {
   "cell_type": "code",
   "execution_count": 14,
   "metadata": {},
   "outputs": [],
   "source": [
    "df['Patient Weight'] = df.apply(lambda x: 'Yes' if x['Patient Weight'] > 176 else 'No', axis = 1)\n",
    "df.rename(columns={'Patient Weight': 'Patient Obese'}, inplace=True)"
   ]
  },
  {
   "cell_type": "code",
   "execution_count": 15,
   "metadata": {},
   "outputs": [],
   "source": [
    "feature_list = []\n",
    "for feature in df.columns:\n",
    "    feature_list = feature_list + [feature]\n",
    "df = df.reindex(columns=['Index'] + feature_list)\n",
    "df[\"Index\"] = df.index + 1"
   ]
  },
  {
   "cell_type": "code",
   "execution_count": 16,
   "metadata": {},
   "outputs": [],
   "source": [
    "feature_list.insert(0, 'Index')"
   ]
  },
  {
   "cell_type": "code",
   "execution_count": 17,
   "metadata": {},
   "outputs": [],
   "source": [
    "df['Sample Weight 0'] = 1/len(df)"
   ]
  },
  {
   "cell_type": "code",
   "execution_count": 18,
   "metadata": {},
   "outputs": [
    {
     "name": "stderr",
     "output_type": "stream",
     "text": [
      "C:\\ProgramData\\Anaconda3\\lib\\site-packages\\ipykernel_launcher.py:5: SettingWithCopyWarning: \n",
      "A value is trying to be set on a copy of a slice from a DataFrame.\n",
      "Try using .loc[row_indexer,col_indexer] = value instead\n",
      "\n",
      "See the caveats in the documentation: http://pandas.pydata.org/pandas-docs/stable/user_guide/indexing.html#returning-a-view-versus-a-copy\n",
      "  \"\"\"\n",
      "C:\\ProgramData\\Anaconda3\\lib\\site-packages\\ipykernel_launcher.py:16: SettingWithCopyWarning: \n",
      "A value is trying to be set on a copy of a slice from a DataFrame.\n",
      "Try using .loc[row_indexer,col_indexer] = value instead\n",
      "\n",
      "See the caveats in the documentation: http://pandas.pydata.org/pandas-docs/stable/user_guide/indexing.html#returning-a-view-versus-a-copy\n",
      "  app.launch_new_instance()\n"
     ]
    }
   ],
   "source": [
    "df_gini = cal_gini(p_df = df[feature_list], p_label = lv_label, p_index = 'Index')"
   ]
  },
  {
   "cell_type": "code",
   "execution_count": 19,
   "metadata": {},
   "outputs": [],
   "source": [
    "df_amount_of_say = pd.DataFrame(columns = ['feature_name', 'total_error', 'amount_of_say'], dtype = object)"
   ]
  },
  {
   "cell_type": "code",
   "execution_count": 20,
   "metadata": {},
   "outputs": [],
   "source": [
    "for row in (df_gini[['feature_name', 'gini_feature']].drop_duplicates(inplace = False)).itertuples():\n",
    "    total_error = float(df[(df[row.feature_name] != df['Heart Disease'])]['Sample Weight 0'].agg('sum'))\n",
    "    amount_of_say = round((1/2)*(np.log((1 - total_error)/total_error)), 2)\n",
    "    df_amount_of_say = df_amount_of_say.append({'feature_name' : row.feature_name, 'total_error' : total_error, 'amount_of_say' : amount_of_say}, ignore_index = True)"
   ]
  },
  {
   "cell_type": "markdown",
   "metadata": {},
   "source": [
    "### let's calculate the new sample weight"
   ]
  },
  {
   "cell_type": "code",
   "execution_count": 21,
   "metadata": {},
   "outputs": [],
   "source": [
    "stump_0 = df_gini.loc[df_gini['gini_feature'].idxmin()]['feature_name']"
   ]
  },
  {
   "cell_type": "code",
   "execution_count": 22,
   "metadata": {},
   "outputs": [],
   "source": [
    "amount_of_say = float(df_amount_of_say[(df_amount_of_say['feature_name'] == stump_0)]['amount_of_say'])"
   ]
  },
  {
   "cell_type": "code",
   "execution_count": 23,
   "metadata": {},
   "outputs": [],
   "source": [
    "df['Sample Weight 1'] = df.apply(lambda x: (x['Sample Weight 0'] * np.exp(amount_of_say)) if x[stump_0] != x[lv_label] else (x['Sample Weight 0'] * np.exp(-amount_of_say)), axis = 1)"
   ]
  },
  {
   "cell_type": "markdown",
   "metadata": {},
   "source": [
    "### regularize for new sample weight"
   ]
  },
  {
   "cell_type": "code",
   "execution_count": 24,
   "metadata": {},
   "outputs": [],
   "source": [
    "sample_wt_1_sum = df['Sample Weight 1'].agg('sum')\n",
    "df['Sample Weight 1'] = df.apply(lambda x: x['Sample Weight 1'] / sample_wt_1_sum, axis = 1)"
   ]
  },
  {
   "cell_type": "markdown",
   "metadata": {},
   "source": [
    "### as mentioned in video, we can use weighted gini index <br> for next stump or we can make a new sample space using<br> above sample weight 1 of same size as earlier(08 rows)"
   ]
  },
  {
   "cell_type": "markdown",
   "metadata": {},
   "source": [
    "### below implementation is as per video where a new <br> sample space of 08 rows is created using sample weight 1"
   ]
  },
  {
   "cell_type": "code",
   "execution_count": 25,
   "metadata": {},
   "outputs": [],
   "source": [
    "df['CumSum Sample Wt 1'] = df['Sample Weight 1'].cumsum()"
   ]
  },
  {
   "cell_type": "code",
   "execution_count": 26,
   "metadata": {},
   "outputs": [],
   "source": [
    "df1 = pd.DataFrame(data=None, columns=df.columns, dtype = object)"
   ]
  },
  {
   "cell_type": "markdown",
   "metadata": {},
   "source": [
    "for loop just for illustration as how the more weighted rows <br>\n",
    "get picked more frequently"
   ]
  },
  {
   "cell_type": "code",
   "execution_count": 27,
   "metadata": {},
   "outputs": [],
   "source": [
    "for i in range(8):\n",
    "    r = random.random()\n",
    "    df_firstRow = df[(df['CumSum Sample Wt 1'] >= r)].iloc[:1]\n",
    "    df1 = df1.append(df_firstRow)"
   ]
  },
  {
   "cell_type": "markdown",
   "metadata": {},
   "source": [
    "#### for future reference here is the df1"
   ]
  },
  {
   "cell_type": "markdown",
   "metadata": {},
   "source": [
    "=============================================================================<br>\n",
    "Index\tChest   Blocked     Patient Heart   Sample      Sample      CumSum<br>\n",
    "        Pain\tArteries\tObese\tDisease\tWeight 0    Weight 1\tSample Wt 1<br>\n",
    "1\t    Yes\t    Yes\t        Yes\t    Yes\t    0.125\t    0.07        0.07163964756614223<br>\n",
    "4\t    Yes\t    Yes\t        No\t    Yes\t    0.125\t    0.49        0.7134414097354311<br>\n",
    "1\t    Yes\t    Yes\t        Yes\t    Yes\t    0.125\t    0.07        0.07163964756614223<br>\n",
    "4\t    Yes\t    Yes\t        No\t    Yes\t    0.125\t    0.49        0.7134414097354311<br>\n",
    "5\t    No\t    Yes\t        No\t    No\t    0.125\t    0.07        0.785081<br>\n",
    "8\t    Yes\t    Yes\t        No\t    No\t    0.125\t    0.07        1<br>\n",
    "4\t    Yes\t    Yes\t        No\t    Yes\t    0.125\t    0.49        0.7134414097354311<br>\n",
    "4\t    Yes\t    Yes\t        No\t    Yes\t    0.125\t    0.49        0.7134414097354311<br>\n",
    "<br>\n",
    "<br>\n",
    "============================================================================="
   ]
  },
  {
   "cell_type": "markdown",
   "metadata": {},
   "source": [
    "#### to keep program in sync we are overwriting"
   ]
  },
  {
   "cell_type": "code",
   "execution_count": 28,
   "metadata": {},
   "outputs": [],
   "source": [
    "df1  = None\n",
    "df1 = pd.DataFrame(columns = ['df0 Index', 'Chest Pain', 'Blocked Arteries', 'Patient Obese', 'Heart Disease', 'Sample Weight 0', 'Sample Weight 1', 'CumSum Sample Wt 1'], dtype = object)"
   ]
  },
  {
   "cell_type": "code",
   "execution_count": 29,
   "metadata": {},
   "outputs": [],
   "source": [
    "df1 = df1.append({'df0 Index' : 1, \n",
    "                  'Chest Pain' : 'Yes', \n",
    "                  'Blocked Arteries' : 'Yes', \n",
    "                  'Patient Obese' : 'Yes',\n",
    "                  'Heart Disease' : 'Yes',\n",
    "                  'Sample Weight 0' : 0.125,\n",
    "                  'Sample Weight 1' : np.NaN,\n",
    "                  'CumSum Sample Wt 1' : np.NaN\n",
    "                  }, ignore_index = True)\n",
    "#2\n",
    "df1 = df1.append({'df0 Index' : 4, \n",
    "                  'Chest Pain' : 'Yes', \n",
    "                  'Blocked Arteries' : 'Yes', \n",
    "                  'Patient Obese' : 'No',\n",
    "                  'Heart Disease' : 'Yes',\n",
    "                  'Sample Weight 0' : 0.125,\n",
    "                  'Sample Weight 1' : np.NaN,\n",
    "                  'CumSum Sample Wt 1' : np.NaN\n",
    "                  }, ignore_index = True)\n",
    "#3\n",
    "df1 = df1.append({'df0 Index' : 1, \n",
    "                  'Chest Pain' : 'Yes', \n",
    "                  'Blocked Arteries' : 'Yes', \n",
    "                  'Patient Obese' : 'Yes',\n",
    "                  'Heart Disease' : 'Yes',\n",
    "                  'Sample Weight 0' : 0.125,\n",
    "                  'Sample Weight 1' : np.NaN,\n",
    "                  'CumSum Sample Wt 1' : np.NaN\n",
    "                  }, ignore_index = True)\n",
    "    \n",
    "#4\n",
    "df1 = df1.append({'df0 Index' : 4, \n",
    "                  'Chest Pain' : 'Yes', \n",
    "                  'Blocked Arteries' : 'Yes', \n",
    "                  'Patient Obese' : 'No',\n",
    "                  'Heart Disease' : 'Yes',\n",
    "                  'Sample Weight 0' : 0.125,\n",
    "                  'Sample Weight 1' : np.NaN,\n",
    "                  'CumSum Sample Wt 1' : np.NaN\n",
    "                  }, ignore_index = True)\n",
    "    \n",
    "#5\n",
    "df1 = df1.append({'df0 Index' : 5, \n",
    "                  'Chest Pain' : 'No', \n",
    "                  'Blocked Arteries' : 'Yes', \n",
    "                  'Patient Obese' : 'No',\n",
    "                  'Heart Disease' : 'No',\n",
    "                  'Sample Weight 0' : 0.125,\n",
    "                  'Sample Weight 1' : np.NaN,\n",
    "                  'CumSum Sample Wt 1' : np.NaN\n",
    "                  }, ignore_index = True)\n",
    "    \n",
    "#6\n",
    "df1 = df1.append({'df0 Index' : 8, \n",
    "                  'Chest Pain' : 'Yes', \n",
    "                  'Blocked Arteries' : 'Yes', \n",
    "                  'Patient Obese' : 'No',\n",
    "                  'Heart Disease' : 'No',\n",
    "                  'Sample Weight 0' : 0.125,\n",
    "                  'Sample Weight 1' : np.NaN,\n",
    "                  'CumSum Sample Wt 1' : np.NaN\n",
    "                  }, ignore_index = True)\n",
    "    \n",
    "#7\n",
    "df1 = df1.append({'df0 Index' : 4, \n",
    "                  'Chest Pain' : 'Yes', \n",
    "                  'Blocked Arteries' : 'Yes', \n",
    "                  'Patient Obese' : 'No',\n",
    "                  'Heart Disease' : 'Yes',\n",
    "                  'Sample Weight 0' : 0.125,\n",
    "                  'Sample Weight 1' : np.NaN,\n",
    "                  'CumSum Sample Wt 1' : np.NaN\n",
    "                  }, ignore_index = True)\n",
    "    \n",
    "#8\n",
    "df1 = df1.append({'df0 Index' : 4, \n",
    "                  'Chest Pain' : 'Yes', \n",
    "                  'Blocked Arteries' : 'Yes', \n",
    "                  'Patient Obese' : 'No',\n",
    "                  'Heart Disease' : 'Yes',\n",
    "                  'Sample Weight 0' : 0.125,\n",
    "                  'Sample Weight 1' : np.NaN,\n",
    "                  'CumSum Sample Wt 1' : np.NaN\n",
    "                  }, ignore_index = True)\n",
    "    \n",
    "    \n",
    "    \n",
    "# In[ ]:"
   ]
  },
  {
   "cell_type": "markdown",
   "metadata": {},
   "source": [
    "#### now we will calculate the gini_index for df1"
   ]
  },
  {
   "cell_type": "markdown",
   "metadata": {},
   "source": [
    "#### note that df1 four rows that has df0 index = 4 row <br> we will keep the sample weight 0 as 1/8 and recalculate sampel wt 1 for df1"
   ]
  },
  {
   "cell_type": "code",
   "execution_count": 30,
   "metadata": {},
   "outputs": [
    {
     "name": "stderr",
     "output_type": "stream",
     "text": [
      "C:\\ProgramData\\Anaconda3\\lib\\site-packages\\ipykernel_launcher.py:5: SettingWithCopyWarning: \n",
      "A value is trying to be set on a copy of a slice from a DataFrame.\n",
      "Try using .loc[row_indexer,col_indexer] = value instead\n",
      "\n",
      "See the caveats in the documentation: http://pandas.pydata.org/pandas-docs/stable/user_guide/indexing.html#returning-a-view-versus-a-copy\n",
      "  \"\"\"\n",
      "C:\\ProgramData\\Anaconda3\\lib\\site-packages\\ipykernel_launcher.py:16: SettingWithCopyWarning: \n",
      "A value is trying to be set on a copy of a slice from a DataFrame.\n",
      "Try using .loc[row_indexer,col_indexer] = value instead\n",
      "\n",
      "See the caveats in the documentation: http://pandas.pydata.org/pandas-docs/stable/user_guide/indexing.html#returning-a-view-versus-a-copy\n",
      "  app.launch_new_instance()\n"
     ]
    }
   ],
   "source": [
    "df1[\"Index\"] = df1.index + 1\n",
    "#feature_list.insert(0, 'Index')\n",
    "df1_gini = cal_gini(p_df = df1[feature_list], p_label = lv_label, p_index = 'Index')"
   ]
  },
  {
   "cell_type": "code",
   "execution_count": 31,
   "metadata": {},
   "outputs": [],
   "source": [
    "df1_amount_of_say = pd.DataFrame(columns = ['feature_name', 'total_error', 'amount_of_say'], dtype = object)"
   ]
  },
  {
   "cell_type": "markdown",
   "metadata": {},
   "source": [
    "#### bad practice to iterate over a dataframe"
   ]
  },
  {
   "cell_type": "code",
   "execution_count": 32,
   "metadata": {},
   "outputs": [],
   "source": [
    "for row in (df1_gini[['feature_name', 'gini_feature']].drop_duplicates(inplace = False)).itertuples():\n",
    "    total_error = float(df1[(df1[row.feature_name] != df1['Heart Disease'])]['Sample Weight 0'].agg('sum'))\n",
    "    amount_of_say = round((1/2)*(np.log((1 - total_error)/total_error)), 2)\n",
    "    df1_amount_of_say = df1_amount_of_say.append({'feature_name' : row.feature_name, 'total_error' : total_error, 'amount_of_say' : amount_of_say}, ignore_index = True)"
   ]
  },
  {
   "cell_type": "markdown",
   "metadata": {},
   "source": [
    "#### let's calculate the new sample weight for df1"
   ]
  },
  {
   "cell_type": "code",
   "execution_count": 33,
   "metadata": {},
   "outputs": [],
   "source": [
    "stump_1 = df1_gini.loc[df1_gini['gini_feature'].idxmin()]['feature_name']"
   ]
  },
  {
   "cell_type": "code",
   "execution_count": 34,
   "metadata": {},
   "outputs": [],
   "source": [
    "amount_of_say = float(df1_amount_of_say[(df1_amount_of_say['feature_name'] == stump_1)]['amount_of_say'])"
   ]
  },
  {
   "cell_type": "code",
   "execution_count": 35,
   "metadata": {},
   "outputs": [],
   "source": [
    "df1['Sample Weight 1'] = df1.apply(lambda x: (x['Sample Weight 0'] * np.exp(amount_of_say)) if x[stump_1] != x[lv_label] else (x['Sample Weight 0'] * np.exp(-amount_of_say)), axis = 1)"
   ]
  },
  {
   "cell_type": "markdown",
   "metadata": {},
   "source": [
    "#### regularize for new sample weight"
   ]
  },
  {
   "cell_type": "code",
   "execution_count": 36,
   "metadata": {},
   "outputs": [],
   "source": [
    "sample_wt_1_sum = df1['Sample Weight 1'].agg('sum')\n",
    "df1['Sample Weight 1'] = df1.apply(lambda x: x['Sample Weight 1'] / sample_wt_1_sum, axis = 1)"
   ]
  },
  {
   "cell_type": "code",
   "execution_count": 37,
   "metadata": {},
   "outputs": [],
   "source": [
    "df1['CumSum Sample Wt 1'] = df1['Sample Weight 1'].cumsum()"
   ]
  },
  {
   "cell_type": "code",
   "execution_count": 38,
   "metadata": {},
   "outputs": [],
   "source": [
    "df2 = pd.DataFrame(data=None, columns=df.columns, dtype = object)"
   ]
  },
  {
   "cell_type": "markdown",
   "metadata": {},
   "source": [
    "#### for loop just for illustration as how the more weighted rows <br> get picked more frequently"
   ]
  },
  {
   "cell_type": "code",
   "execution_count": 39,
   "metadata": {},
   "outputs": [
    {
     "name": "stderr",
     "output_type": "stream",
     "text": [
      "C:\\ProgramData\\Anaconda3\\lib\\site-packages\\pandas\\core\\frame.py:7123: FutureWarning: Sorting because non-concatenation axis is not aligned. A future version\n",
      "of pandas will change to not sort by default.\n",
      "\n",
      "To accept the future behavior, pass 'sort=False'.\n",
      "\n",
      "To retain the current behavior and silence the warning, pass 'sort=True'.\n",
      "\n",
      "  sort=sort,\n"
     ]
    }
   ],
   "source": [
    "for i in range(8):\n",
    "    r = random.random()\n",
    "    df1_firstRow = df1[(df1['CumSum Sample Wt 1'] >= r)].iloc[:1]\n",
    "    df2 = df2.append(df1_firstRow)"
   ]
  },
  {
   "cell_type": "markdown",
   "metadata": {},
   "source": [
    "# The End - Thank you."
   ]
  }
 ],
 "metadata": {
  "kernelspec": {
   "display_name": "Python 3",
   "language": "python",
   "name": "python3"
  },
  "language_info": {
   "codemirror_mode": {
    "name": "ipython",
    "version": 3
   },
   "file_extension": ".py",
   "mimetype": "text/x-python",
   "name": "python",
   "nbconvert_exporter": "python",
   "pygments_lexer": "ipython3",
   "version": "3.7.4"
  }
 },
 "nbformat": 4,
 "nbformat_minor": 2
}
