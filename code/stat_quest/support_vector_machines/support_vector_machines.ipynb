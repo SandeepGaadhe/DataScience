{
 "cells": [
  {
   "cell_type": "markdown",
   "metadata": {},
   "source": [
    "### Implementation of StatQuest Video for SVM\n",
    "#### https://youtu.be/efR1C6CvhmE"
   ]
  },
  {
   "cell_type": "markdown",
   "metadata": {},
   "source": [
    "This example starts with 1-d data (points) and moving it up to 2d (line), 3d (plane), nd (hyperplane), Support Vector Classifier, Support Vector Machines\n",
    "\n",
    "The example takes mass of mice as input for supervised learning and predicts it as obese/not obese. It also demonstrates the challenges for the data and the workarounds using hyperplanes and SVM."
   ]
  },
  {
   "cell_type": "code",
   "execution_count": 1,
   "metadata": {},
   "outputs": [],
   "source": [
    "# input dataset contains mice weight between 1gm to 100 gm with a hypothetical\n",
    "# maximum weight reported as not obese is 46gm\n",
    "# minimum weight reported as obese is 58gm\n",
    "\n",
    "# dataset\n",
    "# mass\t5\t7\t12\t14\t17\t20\t23\t27\t36\t46\t58\t59\t63\t64\t75\t81\t86\t88\t97\t99\n",
    "#obese\tN\tN\tN\tN\tN\tN\tN\tN\tN\tN\tY\tY\tY\tY\tY\tY\tY\tY\tY\tY"
   ]
  },
  {
   "cell_type": "code",
   "execution_count": 15,
   "metadata": {},
   "outputs": [],
   "source": [
    "import pandas as pd\n",
    "\n",
    "df = pd.DataFrame(columns = ['mass', 'obese'], dtype = object)\n",
    "\n",
    "df_orig = pd.DataFrame(columns = ['mass', 'obese'], dtype = object)\n",
    "\n",
    "\n",
    "# append rows to an empty DataFrame\n",
    "df_orig = df_orig.append({'mass' : 5, 'obese' : 'N'}, ignore_index = True)\n",
    "df_orig = df_orig.append({'mass' : 7, 'obese' : 'N'}, ignore_index = True)\n",
    "df_orig = df_orig.append({'mass' : 12, 'obese' : 'N'}, ignore_index = True)\n",
    "df_orig = df_orig.append({'mass' : 14, 'obese' : 'N'}, ignore_index = True)\n",
    "df_orig = df_orig.append({'mass' : 17, 'obese' : 'N'}, ignore_index = True)\n",
    "df_orig = df_orig.append({'mass' : 20, 'obese' : 'N'}, ignore_index = True)\n",
    "df_orig = df_orig.append({'mass' : 23, 'obese' : 'N'}, ignore_index = True)\n",
    "df_orig = df_orig.append({'mass' : 27, 'obese' : 'N'}, ignore_index = True)\n",
    "df_orig = df_orig.append({'mass' : 36, 'obese' : 'N'}, ignore_index = True)\n",
    "df_orig = df_orig.append({'mass' : 46, 'obese' : 'N'}, ignore_index = True)\n",
    "df_orig = df_orig.append({'mass' : 58, 'obese' : 'Y'}, ignore_index = True)\n",
    "df_orig = df_orig.append({'mass' : 59, 'obese' : 'Y'}, ignore_index = True)\n",
    "df_orig = df_orig.append({'mass' : 63, 'obese' : 'Y'}, ignore_index = True)\n",
    "df_orig = df_orig.append({'mass' : 64, 'obese' : 'Y'}, ignore_index = True)\n",
    "df_orig = df_orig.append({'mass' : 75, 'obese' : 'Y'}, ignore_index = True)\n",
    "df_orig = df_orig.append({'mass' : 81, 'obese' : 'Y'}, ignore_index = True)\n",
    "df_orig = df_orig.append({'mass' : 86, 'obese' : 'Y'}, ignore_index = True)\n",
    "df_orig = df_orig.append({'mass' : 88, 'obese' : 'Y'}, ignore_index = True)\n",
    "df_orig = df_orig.append({'mass' : 97, 'obese' : 'Y'}, ignore_index = True)\n",
    "df_orig = df_orig.append({'mass' : 99, 'obese' : 'Y'}, ignore_index = True)\n"
   ]
  },
  {
   "cell_type": "code",
   "execution_count": 16,
   "metadata": {},
   "outputs": [
    {
     "data": {
      "text/html": [
       "<div>\n",
       "<style scoped>\n",
       "    .dataframe tbody tr th:only-of-type {\n",
       "        vertical-align: middle;\n",
       "    }\n",
       "\n",
       "    .dataframe tbody tr th {\n",
       "        vertical-align: top;\n",
       "    }\n",
       "\n",
       "    .dataframe thead th {\n",
       "        text-align: right;\n",
       "    }\n",
       "</style>\n",
       "<table border=\"1\" class=\"dataframe\">\n",
       "  <thead>\n",
       "    <tr style=\"text-align: right;\">\n",
       "      <th></th>\n",
       "      <th>mass</th>\n",
       "      <th>obese</th>\n",
       "    </tr>\n",
       "  </thead>\n",
       "  <tbody>\n",
       "    <tr>\n",
       "      <td>0</td>\n",
       "      <td>5</td>\n",
       "      <td>N</td>\n",
       "    </tr>\n",
       "    <tr>\n",
       "      <td>1</td>\n",
       "      <td>7</td>\n",
       "      <td>N</td>\n",
       "    </tr>\n",
       "    <tr>\n",
       "      <td>2</td>\n",
       "      <td>12</td>\n",
       "      <td>N</td>\n",
       "    </tr>\n",
       "    <tr>\n",
       "      <td>3</td>\n",
       "      <td>14</td>\n",
       "      <td>N</td>\n",
       "    </tr>\n",
       "    <tr>\n",
       "      <td>4</td>\n",
       "      <td>17</td>\n",
       "      <td>N</td>\n",
       "    </tr>\n",
       "  </tbody>\n",
       "</table>\n",
       "</div>"
      ],
      "text/plain": [
       "  mass obese\n",
       "0    5     N\n",
       "1    7     N\n",
       "2   12     N\n",
       "3   14     N\n",
       "4   17     N"
      ]
     },
     "execution_count": 16,
     "metadata": {},
     "output_type": "execute_result"
    }
   ],
   "source": [
    "df = df_orig.copy()\n",
    "\n",
    "df.head()"
   ]
  },
  {
   "cell_type": "code",
   "execution_count": 7,
   "metadata": {},
   "outputs": [
    {
     "data": {
      "text/plain": [
       "mass     int32\n",
       "obese    int64\n",
       "dtype: object"
      ]
     },
     "execution_count": 7,
     "metadata": {},
     "output_type": "execute_result"
    }
   ],
   "source": [
    "df.dtypes"
   ]
  },
  {
   "cell_type": "code",
   "execution_count": 22,
   "metadata": {},
   "outputs": [
    {
     "data": {
      "text/html": [
       "<div>\n",
       "<style scoped>\n",
       "    .dataframe tbody tr th:only-of-type {\n",
       "        vertical-align: middle;\n",
       "    }\n",
       "\n",
       "    .dataframe tbody tr th {\n",
       "        vertical-align: top;\n",
       "    }\n",
       "\n",
       "    .dataframe thead th {\n",
       "        text-align: right;\n",
       "    }\n",
       "</style>\n",
       "<table border=\"1\" class=\"dataframe\">\n",
       "  <thead>\n",
       "    <tr style=\"text-align: right;\">\n",
       "      <th></th>\n",
       "      <th>mass</th>\n",
       "      <th>obese</th>\n",
       "    </tr>\n",
       "  </thead>\n",
       "  <tbody>\n",
       "    <tr>\n",
       "      <td>0</td>\n",
       "      <td>5</td>\n",
       "      <td>0</td>\n",
       "    </tr>\n",
       "    <tr>\n",
       "      <td>1</td>\n",
       "      <td>7</td>\n",
       "      <td>0</td>\n",
       "    </tr>\n",
       "    <tr>\n",
       "      <td>2</td>\n",
       "      <td>12</td>\n",
       "      <td>0</td>\n",
       "    </tr>\n",
       "    <tr>\n",
       "      <td>3</td>\n",
       "      <td>14</td>\n",
       "      <td>0</td>\n",
       "    </tr>\n",
       "    <tr>\n",
       "      <td>4</td>\n",
       "      <td>17</td>\n",
       "      <td>0</td>\n",
       "    </tr>\n",
       "  </tbody>\n",
       "</table>\n",
       "</div>"
      ],
      "text/plain": [
       "   mass  obese\n",
       "0     5      0\n",
       "1     7      0\n",
       "2    12      0\n",
       "3    14      0\n",
       "4    17      0"
      ]
     },
     "execution_count": 22,
     "metadata": {},
     "output_type": "execute_result"
    }
   ],
   "source": [
    "df['obese'] = df.apply(lambda x: 1 if x['obese'] == 'Y' else 0, axis = 1)\n",
    "\n",
    "df.head()"
   ]
  },
  {
   "cell_type": "code",
   "execution_count": 21,
   "metadata": {},
   "outputs": [],
   "source": [
    "df[['mass']] = df[['mass']].astype(int)\n",
    "df['obese'] = df.apply(lambda x: 1 if x['obese'] == 'Y' else 0, axis = 1)\n",
    "    \n",
    "#df.plot(x ='mass', y='obese', kind = 'scatter')"
   ]
  },
  {
   "cell_type": "code",
   "execution_count": 11,
   "metadata": {},
   "outputs": [],
   "source": [
    "#df.plot(x ='mass', y='obese', kind = 'scatter')"
   ]
  },
  {
   "cell_type": "code",
   "execution_count": 14,
   "metadata": {},
   "outputs": [
    {
     "data": {
      "text/plain": [
       "<matplotlib.axes._subplots.AxesSubplot at 0x208521997c8>"
      ]
     },
     "execution_count": 14,
     "metadata": {},
     "output_type": "execute_result"
    },
    {
     "data": {
      "image/png": "[encoded data removed]",
      "text/plain": [
       "<Figure size 432x288 with 1 Axes>"
      ]
     },
     "metadata": {
      "needs_background": "light"
     },
     "output_type": "display_data"
    }
   ],
   "source": [
    "import seaborn as sns\n",
    "x = df['mass']\n",
    "y = df['obese']\n",
    "\n",
    "sns.regplot(x=x, y=y, data=df, logistic=True, ci=None)"
   ]
  },
  {
   "cell_type": "code",
   "execution_count": 22,
   "metadata": {},
   "outputs": [
    {
     "data": {
      "text/plain": [
       "<seaborn.axisgrid.FacetGrid at 0x2085241bf88>"
      ]
     },
     "execution_count": 22,
     "metadata": {},
     "output_type": "execute_result"
    },
    {
     "data": {
      "image/png": "[encoded data removed]",
      "text/plain": [
       "<Figure size 360x360 with 1 Axes>"
      ]
     },
     "metadata": {
      "needs_background": "light"
     },
     "output_type": "display_data"
    }
   ],
   "source": [
    "#sns.lmplot( x=\"mass\", y=\"obese\", data=df, fit_reg=False, hue='obese', legend=False, palette=dict(\"Y\"=\"#9b59b6\", \"N\"=\"#3498db\"))\n",
    "\n",
    "sns.lmplot( x=\"mass\", y=\"obese\", data=df, fit_reg=False, hue='obese', legend=False)\n",
    " "
   ]
  },
  {
   "cell_type": "code",
   "execution_count": 24,
   "metadata": {},
   "outputs": [
    {
     "data": {
      "text/plain": [
       "<matplotlib.axes._subplots.AxesSubplot at 0x20852471908>"
      ]
     },
     "execution_count": 24,
     "metadata": {},
     "output_type": "execute_result"
    },
    {
     "data": {
      "image/png": "[encoded data removed]",
      "text/plain": [
       "<Figure size 432x288 with 1 Axes>"
      ]
     },
     "metadata": {
      "needs_background": "light"
     },
     "output_type": "display_data"
    }
   ],
   "source": [
    "sns.regplot(x=x, y=y, data=df, logistic=True, ci=None)"
   ]
  },
  {
   "cell_type": "code",
   "execution_count": 9,
   "metadata": {},
   "outputs": [],
   "source": [
    "grouped_df = df.groupby(\"obese\")"
   ]
  },
  {
   "cell_type": "code",
   "execution_count": 10,
   "metadata": {},
   "outputs": [
    {
     "name": "stdout",
     "output_type": "stream",
     "text": [
      "MAXIMUMS         mass\n",
      "obese      \n",
      "N        46\n",
      "Y        99\n",
      "MINIMUMS         mass\n",
      "obese      \n",
      "N         5\n",
      "Y        58\n"
     ]
    }
   ],
   "source": [
    "maximums = grouped_df.max()\n",
    "minimums = grouped_df.min()\n",
    "print('MAXIMUMS ', maximums)\n",
    "print('MINIMUMS ', minimums)"
   ]
  },
  {
   "cell_type": "code",
   "execution_count": 6,
   "metadata": {},
   "outputs": [],
   "source": [
    "def get_edges():\n",
    "    # let's define edges on the basis of maximum and minimum weight\n",
    "    return df[df.obese.eq('N')].max().mass, df[df.obese.eq('Y')].min().mass # notObese_max, obese_min\n"
   ]
  },
  {
   "cell_type": "code",
   "execution_count": 7,
   "metadata": {},
   "outputs": [
    {
     "name": "stdout",
     "output_type": "stream",
     "text": [
      "Edge of Cluster 01 (Not Obese Max) \t: 46\n",
      "Edge of Cluster 02 (Obese Min) \t\t: 63\n",
      "Threshold \t\t\t\t: 46\n"
     ]
    }
   ],
   "source": [
    "edge_cluster01, edge_cluster02 = get_edges()\n",
    "\n",
    "threshold = edge_cluster01;\n",
    "    \n",
    "print('Edge of Cluster 01 (Not Obese Max) \\t:', edge_cluster01)\n",
    "print('Edge of Cluster 02 (Obese Min) \\t\\t:', edge_cluster02)\n",
    "print('Threshold \\t\\t\\t\\t:', threshold)\n"
   ]
  },
  {
   "cell_type": "code",
   "execution_count": 8,
   "metadata": {},
   "outputs": [],
   "source": [
    "def predict_obese(p_weight):\n",
    "    \n",
    "    print('Distance from Not Obese Max (Edge of Cluster 01) : ', abs(p_weight - edge_cluster01))\n",
    "    print('Distance from Obese Min (Edge of Cluster 02) : ', abs(p_weight - edge_cluster02))\n",
    "    print('Defined Threshold : ', threshold)\n",
    "    \n",
    "    if p_weight <= threshold:\n",
    "        return 'Not Obese\\n'\n",
    "    else:\n",
    "        return 'Obese\\n'"
   ]
  },
  {
   "cell_type": "code",
   "execution_count": 9,
   "metadata": {},
   "outputs": [
    {
     "name": "stdout",
     "output_type": "stream",
     "text": [
      "Distance from Not Obese Max (Edge of Cluster 01) :  3\n",
      "Distance from Obese Min (Edge of Cluster 02) :  20\n",
      "Defined Threshold :  46\n",
      "Input Weight is  43 gm. Prediction :  Not Obese\n",
      "\n",
      "Distance from Not Obese Max (Edge of Cluster 01) :  25\n",
      "Distance from Obese Min (Edge of Cluster 02) :  8\n",
      "Defined Threshold :  46\n",
      "Input Weight is  71 gm. Prediction :  Obese\n",
      "\n"
     ]
    }
   ],
   "source": [
    "\n",
    "inputWeight = 43\n",
    "predictedWeight = predict_obese(inputWeight)\n",
    "print('Input Weight is ', inputWeight, 'gm. Prediction : ', predictedWeight)\n",
    "\n",
    "inputWeight = 71\n",
    "predictedWeight = predict_obese(inputWeight)\n",
    "print('Input Weight is ', inputWeight, 'gm. Prediction : ', predictedWeight)\n"
   ]
  },
  {
   "cell_type": "markdown",
   "metadata": {},
   "source": [
    "#### <font color=red>Problem : An input weight of 47 will be predicted as Obese which is closer to non-obese then obese."
   ]
  },
  {
   "cell_type": "code",
   "execution_count": 10,
   "metadata": {},
   "outputs": [
    {
     "name": "stdout",
     "output_type": "stream",
     "text": [
      "Distance from Not Obese Max (Edge of Cluster 01) :  1\n",
      "Distance from Obese Min (Edge of Cluster 02) :  16\n",
      "Defined Threshold :  46\n",
      "Input Weight is  47 gm. Prediction :  Obese\n",
      "\n"
     ]
    }
   ],
   "source": [
    "inputWeight = 47\n",
    "predictedWeight = predict_obese(inputWeight)\n",
    "print('Input Weight is ', inputWeight, 'gm. Prediction : ', predictedWeight)"
   ]
  },
  {
   "cell_type": "markdown",
   "metadata": {},
   "source": [
    "#### <font color=green>WorkAround : Define threshold at the mid of min and max value of each category"
   ]
  },
  {
   "cell_type": "code",
   "execution_count": 11,
   "metadata": {},
   "outputs": [
    {
     "name": "stdout",
     "output_type": "stream",
     "text": [
      "Existing Threshold :  46\n",
      "Updated Threshold :  54.5\n"
     ]
    }
   ],
   "source": [
    "print('Existing Threshold : ', threshold)\n",
    "threshold = (edge_cluster01 + edge_cluster02)/2\n",
    "print('Updated Threshold : ', threshold)\n"
   ]
  },
  {
   "cell_type": "code",
   "execution_count": 12,
   "metadata": {},
   "outputs": [
    {
     "name": "stdout",
     "output_type": "stream",
     "text": [
      "Distance from Not Obese Max (Edge of Cluster 01) :  1\n",
      "Distance from Obese Min (Edge of Cluster 02) :  16\n",
      "Defined Threshold :  54.5\n",
      "Input Weight is  47 gm. Prediction :  Not Obese\n",
      "\n"
     ]
    }
   ],
   "source": [
    "# now if we try to predict for Problem 01 case, a better prediction would be made\n",
    "inputWeight = 47\n",
    "predictedWeight = predict_obese(inputWeight)\n",
    "print('Input Weight is ', inputWeight, 'gm. Prediction : ', predictedWeight)"
   ]
  },
  {
   "cell_type": "markdown",
   "metadata": {},
   "source": [
    "#### <font color=orange>Terminology Alert : Margin & Maximal Margin Classifier"
   ]
  },
  {
   "cell_type": "code",
   "execution_count": 13,
   "metadata": {},
   "outputs": [
    {
     "name": "stdout",
     "output_type": "stream",
     "text": [
      "Margin for Cluster 01 \t :  8.5\n",
      "Margin for Cluster 02 \t :  8.5\n"
     ]
    }
   ],
   "source": [
    "# distance between edges of each cluster and threshold is called Margin\n",
    "\n",
    "# if the threshold is kept at mid point from each edge, then the distance between each edge and threhold is maximum \n",
    "# and called as Maximal Margin Classifier\n",
    "\n",
    "print('Margin for Cluster 01 \\t : ', abs(edge_cluster01 - threshold))\n",
    "print('Margin for Cluster 02 \\t : ', abs(edge_cluster02 - threshold))\n"
   ]
  },
  {
   "cell_type": "markdown",
   "metadata": {},
   "source": [
    "#### <font color=red>Problem : Outliers and Maximal Margin Classifier"
   ]
  },
  {
   "cell_type": "code",
   "execution_count": 14,
   "metadata": {},
   "outputs": [
    {
     "data": {
      "text/html": [
       "<div>\n",
       "<style scoped>\n",
       "    .dataframe tbody tr th:only-of-type {\n",
       "        vertical-align: middle;\n",
       "    }\n",
       "\n",
       "    .dataframe tbody tr th {\n",
       "        vertical-align: top;\n",
       "    }\n",
       "\n",
       "    .dataframe thead th {\n",
       "        text-align: right;\n",
       "    }\n",
       "</style>\n",
       "<table border=\"1\" class=\"dataframe\">\n",
       "  <thead>\n",
       "    <tr style=\"text-align: right;\">\n",
       "      <th></th>\n",
       "      <th>mass</th>\n",
       "      <th>obese</th>\n",
       "    </tr>\n",
       "  </thead>\n",
       "  <tbody>\n",
       "    <tr>\n",
       "      <td>6</td>\n",
       "      <td>5</td>\n",
       "      <td>N</td>\n",
       "    </tr>\n",
       "    <tr>\n",
       "      <td>9</td>\n",
       "      <td>7</td>\n",
       "      <td>N</td>\n",
       "    </tr>\n",
       "    <tr>\n",
       "      <td>16</td>\n",
       "      <td>12</td>\n",
       "      <td>N</td>\n",
       "    </tr>\n",
       "    <tr>\n",
       "      <td>10</td>\n",
       "      <td>14</td>\n",
       "      <td>N</td>\n",
       "    </tr>\n",
       "    <tr>\n",
       "      <td>8</td>\n",
       "      <td>17</td>\n",
       "      <td>N</td>\n",
       "    </tr>\n",
       "    <tr>\n",
       "      <td>0</td>\n",
       "      <td>20</td>\n",
       "      <td>N</td>\n",
       "    </tr>\n",
       "    <tr>\n",
       "      <td>19</td>\n",
       "      <td>23</td>\n",
       "      <td>N</td>\n",
       "    </tr>\n",
       "    <tr>\n",
       "      <td>2</td>\n",
       "      <td>27</td>\n",
       "      <td>N</td>\n",
       "    </tr>\n",
       "    <tr>\n",
       "      <td>4</td>\n",
       "      <td>36</td>\n",
       "      <td>N</td>\n",
       "    </tr>\n",
       "    <tr>\n",
       "      <td>13</td>\n",
       "      <td>46</td>\n",
       "      <td>N</td>\n",
       "    </tr>\n",
       "    <tr>\n",
       "      <td>12</td>\n",
       "      <td>63</td>\n",
       "      <td>Y</td>\n",
       "    </tr>\n",
       "    <tr>\n",
       "      <td>11</td>\n",
       "      <td>64</td>\n",
       "      <td>Y</td>\n",
       "    </tr>\n",
       "    <tr>\n",
       "      <td>1</td>\n",
       "      <td>67</td>\n",
       "      <td>Y</td>\n",
       "    </tr>\n",
       "    <tr>\n",
       "      <td>3</td>\n",
       "      <td>69</td>\n",
       "      <td>Y</td>\n",
       "    </tr>\n",
       "    <tr>\n",
       "      <td>7</td>\n",
       "      <td>75</td>\n",
       "      <td>Y</td>\n",
       "    </tr>\n",
       "    <tr>\n",
       "      <td>15</td>\n",
       "      <td>81</td>\n",
       "      <td>Y</td>\n",
       "    </tr>\n",
       "    <tr>\n",
       "      <td>14</td>\n",
       "      <td>86</td>\n",
       "      <td>Y</td>\n",
       "    </tr>\n",
       "    <tr>\n",
       "      <td>18</td>\n",
       "      <td>88</td>\n",
       "      <td>Y</td>\n",
       "    </tr>\n",
       "    <tr>\n",
       "      <td>17</td>\n",
       "      <td>97</td>\n",
       "      <td>Y</td>\n",
       "    </tr>\n",
       "    <tr>\n",
       "      <td>5</td>\n",
       "      <td>99</td>\n",
       "      <td>Y</td>\n",
       "    </tr>\n",
       "  </tbody>\n",
       "</table>\n",
       "</div>"
      ],
      "text/plain": [
       "    mass obese\n",
       "6      5     N\n",
       "9      7     N\n",
       "16    12     N\n",
       "10    14     N\n",
       "8     17     N\n",
       "0     20     N\n",
       "19    23     N\n",
       "2     27     N\n",
       "4     36     N\n",
       "13    46     N\n",
       "12    63     Y\n",
       "11    64     Y\n",
       "1     67     Y\n",
       "3     69     Y\n",
       "7     75     Y\n",
       "15    81     Y\n",
       "14    86     Y\n",
       "18    88     Y\n",
       "17    97     Y\n",
       "5     99     Y"
      ]
     },
     "execution_count": 14,
     "metadata": {},
     "output_type": "execute_result"
    }
   ],
   "source": [
    "# Max of Not Obese = 46 gm\n",
    "# Min of Obese = 63 gm\n",
    "# Threshold : 54.5\n",
    "\n",
    "df.sort_values(by=['mass'])"
   ]
  },
  {
   "cell_type": "code",
   "execution_count": 15,
   "metadata": {},
   "outputs": [
    {
     "data": {
      "text/html": [
       "<div>\n",
       "<style scoped>\n",
       "    .dataframe tbody tr th:only-of-type {\n",
       "        vertical-align: middle;\n",
       "    }\n",
       "\n",
       "    .dataframe tbody tr th {\n",
       "        vertical-align: top;\n",
       "    }\n",
       "\n",
       "    .dataframe thead th {\n",
       "        text-align: right;\n",
       "    }\n",
       "</style>\n",
       "<table border=\"1\" class=\"dataframe\">\n",
       "  <thead>\n",
       "    <tr style=\"text-align: right;\">\n",
       "      <th></th>\n",
       "      <th>mass</th>\n",
       "      <th>obese</th>\n",
       "    </tr>\n",
       "  </thead>\n",
       "  <tbody>\n",
       "    <tr>\n",
       "      <td>6</td>\n",
       "      <td>5.0</td>\n",
       "      <td>N</td>\n",
       "    </tr>\n",
       "    <tr>\n",
       "      <td>9</td>\n",
       "      <td>7.0</td>\n",
       "      <td>N</td>\n",
       "    </tr>\n",
       "    <tr>\n",
       "      <td>16</td>\n",
       "      <td>12.0</td>\n",
       "      <td>N</td>\n",
       "    </tr>\n",
       "    <tr>\n",
       "      <td>10</td>\n",
       "      <td>14.0</td>\n",
       "      <td>N</td>\n",
       "    </tr>\n",
       "    <tr>\n",
       "      <td>8</td>\n",
       "      <td>17.0</td>\n",
       "      <td>N</td>\n",
       "    </tr>\n",
       "    <tr>\n",
       "      <td>0</td>\n",
       "      <td>20.0</td>\n",
       "      <td>N</td>\n",
       "    </tr>\n",
       "    <tr>\n",
       "      <td>19</td>\n",
       "      <td>23.0</td>\n",
       "      <td>N</td>\n",
       "    </tr>\n",
       "    <tr>\n",
       "      <td>2</td>\n",
       "      <td>27.0</td>\n",
       "      <td>N</td>\n",
       "    </tr>\n",
       "    <tr>\n",
       "      <td>4</td>\n",
       "      <td>36.0</td>\n",
       "      <td>N</td>\n",
       "    </tr>\n",
       "    <tr>\n",
       "      <td>13</td>\n",
       "      <td>46.0</td>\n",
       "      <td>N</td>\n",
       "    </tr>\n",
       "    <tr>\n",
       "      <td>20</td>\n",
       "      <td>60.0</td>\n",
       "      <td>N</td>\n",
       "    </tr>\n",
       "    <tr>\n",
       "      <td>12</td>\n",
       "      <td>63.0</td>\n",
       "      <td>Y</td>\n",
       "    </tr>\n",
       "    <tr>\n",
       "      <td>11</td>\n",
       "      <td>64.0</td>\n",
       "      <td>Y</td>\n",
       "    </tr>\n",
       "    <tr>\n",
       "      <td>1</td>\n",
       "      <td>67.0</td>\n",
       "      <td>Y</td>\n",
       "    </tr>\n",
       "    <tr>\n",
       "      <td>3</td>\n",
       "      <td>69.0</td>\n",
       "      <td>Y</td>\n",
       "    </tr>\n",
       "    <tr>\n",
       "      <td>7</td>\n",
       "      <td>75.0</td>\n",
       "      <td>Y</td>\n",
       "    </tr>\n",
       "    <tr>\n",
       "      <td>15</td>\n",
       "      <td>81.0</td>\n",
       "      <td>Y</td>\n",
       "    </tr>\n",
       "    <tr>\n",
       "      <td>14</td>\n",
       "      <td>86.0</td>\n",
       "      <td>Y</td>\n",
       "    </tr>\n",
       "    <tr>\n",
       "      <td>18</td>\n",
       "      <td>88.0</td>\n",
       "      <td>Y</td>\n",
       "    </tr>\n",
       "    <tr>\n",
       "      <td>17</td>\n",
       "      <td>97.0</td>\n",
       "      <td>Y</td>\n",
       "    </tr>\n",
       "    <tr>\n",
       "      <td>5</td>\n",
       "      <td>99.0</td>\n",
       "      <td>Y</td>\n",
       "    </tr>\n",
       "  </tbody>\n",
       "</table>\n",
       "</div>"
      ],
      "text/plain": [
       "    mass obese\n",
       "6    5.0     N\n",
       "9    7.0     N\n",
       "16  12.0     N\n",
       "10  14.0     N\n",
       "8   17.0     N\n",
       "0   20.0     N\n",
       "19  23.0     N\n",
       "2   27.0     N\n",
       "4   36.0     N\n",
       "13  46.0     N\n",
       "20  60.0     N\n",
       "12  63.0     Y\n",
       "11  64.0     Y\n",
       "1   67.0     Y\n",
       "3   69.0     Y\n",
       "7   75.0     Y\n",
       "15  81.0     Y\n",
       "14  86.0     Y\n",
       "18  88.0     Y\n",
       "17  97.0     Y\n",
       "5   99.0     Y"
      ]
     },
     "execution_count": 15,
     "metadata": {},
     "output_type": "execute_result"
    }
   ],
   "source": [
    "# let's introduce an outlier 60gm & Not Obsese\n",
    "df = df.append({'mass': 60.0, 'obese':'N'}, ignore_index=True)\n",
    "df.sort_values(by=['mass'])"
   ]
  },
  {
   "cell_type": "code",
   "execution_count": 16,
   "metadata": {},
   "outputs": [
    {
     "name": "stdout",
     "output_type": "stream",
     "text": [
      "Edge of Cluster 01 (Not Obese Max) \t: 60.0\n",
      "Edge of Cluster 02 (Obese Min) \t\t: 63.0\n",
      "Threshold \t\t\t\t: 54.5\n"
     ]
    }
   ],
   "source": [
    "# let's get the new edges for each cluster\n",
    "edge_cluster01, edge_cluster02 = get_edges()\n",
    "\n",
    "print('Edge of Cluster 01 (Not Obese Max) \\t:', edge_cluster01)\n",
    "print('Edge of Cluster 02 (Obese Min) \\t\\t:', edge_cluster02)\n",
    "print('Threshold \\t\\t\\t\\t:', threshold)\n"
   ]
  },
  {
   "cell_type": "code",
   "execution_count": 17,
   "metadata": {},
   "outputs": [
    {
     "name": "stdout",
     "output_type": "stream",
     "text": [
      "Existing Threshold :  54.5\n",
      "Updated Threshold :  61.5\n"
     ]
    }
   ],
   "source": [
    "# redefine threshold as Maximal Margin Classifier\n",
    "\n",
    "print('Existing Threshold : ', threshold)\n",
    "threshold = (edge_cluster01 + edge_cluster02)/2\n",
    "print('Updated Threshold : ', threshold)"
   ]
  },
  {
   "cell_type": "code",
   "execution_count": 18,
   "metadata": {},
   "outputs": [
    {
     "name": "stdout",
     "output_type": "stream",
     "text": [
      "Distance from Not Obese Max (Edge of Cluster 01) :  1.0\n",
      "Distance from Obese Min (Edge of Cluster 02) :  2.0\n",
      "Defined Threshold :  61.5\n",
      "Input Weight is  61 gm. Prediction :  Not Obese\n",
      "\n"
     ]
    }
   ],
   "source": [
    "# now if we try to predict for 61 gm, an incorrect prediction would be made due to threshold \n",
    "# not considering outlier problem\n",
    "\n",
    "inputWeight = 61\n",
    "predictedWeight = predict_obese(inputWeight)\n",
    "print('Input Weight is ', inputWeight, 'gm. Prediction : ', predictedWeight)"
   ]
  },
  {
   "cell_type": "markdown",
   "metadata": {},
   "source": [
    "#### <font color=red>Problem : Maximal Margin Classfier is too sensitive to outliers.\n",
    "In this case, the outlier (60, N) has moved the threhold pretty close to Cluster 02 and hence 61 gm is predicted as Not Obese even though it is much closer to Obsese (excluding Outlier)."
   ]
  },
  {
   "cell_type": "code",
   "execution_count": 19,
   "metadata": {},
   "outputs": [
    {
     "name": "stdout",
     "output_type": "stream",
     "text": [
      "99.9% of not obese data has mass of \t\t\t:  59.9 gm\n",
      "Existing Threshold (needs outlier consideration) \t:  61.5 gm\n"
     ]
    }
   ],
   "source": [
    "# let's try to identify any outliers with the help of quantile calculation\n",
    "df_notObese = df[df.obese.eq('N')]\n",
    "print('99.9% of not obese data has mass of \\t\\t\\t: ', df_notObese.quantile(0.999).mass.round(1), 'gm')\n",
    "print('Existing Threshold (needs outlier consideration) \\t: ', threshold, 'gm')"
   ]
  },
  {
   "cell_type": "code",
   "execution_count": 20,
   "metadata": {},
   "outputs": [
    {
     "data": {
      "image/png": "[encoded data removed]",
      "text/plain": [
       "<Figure size 432x288 with 1 Axes>"
      ]
     },
     "metadata": {
      "needs_background": "light"
     },
     "output_type": "display_data"
    }
   ],
   "source": [
    "# visualizing the distribution\n",
    "import matplotlib.pyplot as plt\n",
    "%matplotlib inline\n",
    "\n",
    "for ind in df.index: \n",
    "    x = df['mass'][ind]\n",
    "    y = df['obese'][ind]\n",
    "    if y == 'Y': # Obsese = red\n",
    "        plt.scatter(x,y,color='r', s=500)\n",
    "        if x == edge_cluster02:\n",
    "            plt.text(x, y, x, fontsize=9)\n",
    "    else:\n",
    "        plt.scatter(x,y,color='g',s=500)\n",
    "        if x == edge_cluster01:\n",
    "            plt.text(x, y, x, fontsize=9)\n",
    "\n",
    "#plt.legend(d.keys())\n",
    "plt.show()"
   ]
  },
  {
   "cell_type": "markdown",
   "metadata": {},
   "source": [
    "#### <font color=blue>Workaround : Allowing misclassfication for outliers. Low Bias - High Variance >> High Bias - Low Variance"
   ]
  },
  {
   "cell_type": "code",
   "execution_count": 21,
   "metadata": {},
   "outputs": [],
   "source": [
    "# to allow misclassification, we may define a function which can identify and remove outliers and \n",
    "# then define a new threshold based on less outlier prone data.\n",
    "# or we can use some other strategy to allow misclassification.\n",
    "\n",
    "# temporarily, we are not building a well defined function\n",
    "# just removing the outlier as a hard-code\n",
    "df_outlier = df[ df['mass'] == 60 ]\n",
    "df = df.drop(df_outlier.index, axis=0) # Step 2\n"
   ]
  },
  {
   "cell_type": "code",
   "execution_count": 22,
   "metadata": {},
   "outputs": [
    {
     "name": "stdout",
     "output_type": "stream",
     "text": [
      "Existing Threshold :  61.5\n",
      "Updated Threshold :  54.5\n"
     ]
    }
   ],
   "source": [
    "# redefine threshold after outlier removal\n",
    "edge_cluster01, edge_cluster02 = get_edges()\n",
    "\n",
    "print('Existing Threshold : ', threshold)\n",
    "threshold = (edge_cluster01 + edge_cluster02)/2\n",
    "print('Updated Threshold : ', threshold)"
   ]
  },
  {
   "cell_type": "markdown",
   "metadata": {},
   "source": [
    "### <font color=orange>Terminologies Alert :\n",
    "    "
   ]
  },
  {
   "cell_type": "markdown",
   "metadata": {},
   "source": [
    "#### <font color=orange> Soft Margin : When we allow misclassification, then the distance between edges and identified threshold is called \"Soft Margin\"."
   ]
  },
  {
   "cell_type": "markdown",
   "metadata": {},
   "source": [
    "#### <font color=orange>  Soft Margin Classifier aka Support Vector Classifier : \n",
    "    \n",
    "The issue to understand is how many misclassification shall the algorithm accepts before finalizing a threshold. This is done by \"Cross Validation\" which calculates the number of misclassfication vs number of correct predictions. For above case, if we allow 01 misclassification, we get one correct prediction of 61 gms as Obese even though threshold before outlier is 61.5.\n",
    "\n",
    "When soft margins are used to make prediction, then we are using Soft Margin Classfier aka Support Vector Classifier in which case the edges are called as Support Vectors.\n"
   ]
  },
  {
   "cell_type": "markdown",
   "metadata": {},
   "source": [
    "#### <font color=orange>  Support Vector Classifier for multi-dimensional data:\n",
    "    \n",
    "When the data is 1 dimensional, then the Support Vector Classifier is a point.\n",
    "\n",
    "When the data is 2 dimensional (say mass & age as features and obese being the label) then the SVC is a line.\n",
    "\n",
    "When the data is 3 dimensional (say mass, age & height as feature and obese as label) then the SVC is a plane.\n",
    "\n",
    "When the data is 4 dimensional (say mass, age,height & BP feature and obese as label) then the SVC is a hyperplane.\n",
    "\n"
   ]
  },
  {
   "cell_type": "markdown",
   "metadata": {},
   "source": [
    "#### <font color=orange>  Mathematical Jargons\n",
    "    \n",
    "Point : a flat affine with 0-dimensional subspace (for 1-dimensional data say mass as feature and obese as label)\n",
    "\n",
    "Line  : a flat affine with 1-dimensional subspace (for 2-dimensional data say mass & age as feature and obese as label)\n",
    "\n",
    "Plane : a flat affine with 2-dimensional subspace (for 3-dimensional data say mass, age, height as feature and obese as label)\n",
    "\n",
    "HyperPlane : a flat affine with (n-1) dimensional subspace (for n-dimensional data say mass,age,height,BP.. and obese as label)\n"
   ]
  },
  {
   "cell_type": "markdown",
   "metadata": {},
   "source": [
    "<hr style=\"border: solid rgb(255,255,255) 1.0px;height: 2.0px;\"/>"
   ]
  },
  {
   "cell_type": "markdown",
   "metadata": {},
   "source": [
    "# <font color=green>Support Vector Machines"
   ]
  },
  {
   "cell_type": "markdown",
   "metadata": {},
   "source": [
    "SVC are good for data which are directly/inversly proportional like mass and obese. Less the mass are not obese and more mass are obese (ignoring outliers).\n",
    "\n",
    "For data which is not directly proportional like medicine dosage and cure where a less dose or more dose will not result in cure and only the perfect dose range will result in cure. In such case, SVC will not be able to define any threhold as the data is completely overlapping. Such situation requires SVM to take over."
   ]
  },
  {
   "cell_type": "code",
   "execution_count": 24,
   "metadata": {},
   "outputs": [
    {
     "name": "stdout",
     "output_type": "stream",
     "text": [
      "Column names are dosage, cured\n",
      "\t Column0 value is : 17.\tColumn01 value is : N.\n",
      "\t Column0 value is : 36.\tColumn01 value is : N.\n",
      "\t Column0 value is : 4.\tColumn01 value is : N.\n",
      "\t Column0 value is : 48.\tColumn01 value is : N.\n",
      "\t Column0 value is : 26.\tColumn01 value is : Y.\n",
      "\t Column0 value is : 44.\tColumn01 value is : N.\n",
      "\t Column0 value is : 30.\tColumn01 value is : Y.\n",
      "\t Column0 value is : 11.\tColumn01 value is : N.\n",
      "\t Column0 value is : 7.\tColumn01 value is : N.\n",
      "\t Column0 value is : 24.\tColumn01 value is : Y.\n",
      "\t Column0 value is : 13.\tColumn01 value is : N.\n",
      "\t Column0 value is : 27.\tColumn01 value is : Y.\n",
      "\t Column0 value is : 3.\tColumn01 value is : N.\n",
      "\t Column0 value is : 29.\tColumn01 value is : Y.\n",
      "\t Column0 value is : 9.\tColumn01 value is : N.\n",
      "\t Column0 value is : 23.\tColumn01 value is : Y.\n",
      "\t Column0 value is : 40.\tColumn01 value is : N.\n",
      "\t Column0 value is : 20.\tColumn01 value is : Y.\n",
      "\t Column0 value is : 2.\tColumn01 value is : N.\n",
      "\t Column0 value is : 21.\tColumn01 value is : Y.\n",
      "Processed 21 lines.\n"
     ]
    }
   ],
   "source": [
    "# import the dataset\n",
    "\n",
    "import csv\n",
    "\n",
    "# sample file should be available in same folder as where\n",
    "# code file is present else use full path\n",
    "with open('Support Vector Machines Dataset.csv') as csv_file:\n",
    "    csv_reader = csv.reader(csv_file, delimiter=',')\n",
    "    line_count = 0\n",
    "    for row in csv_reader:\n",
    "        if line_count == 0:\n",
    "            print(f'Column names are {\", \".join(row)}')\n",
    "            line_count += 1\n",
    "        else:\n",
    "            print(f'\\t Column0 value is : {row[0]}.\\tColumn01 value is : {row[1]}.')\n",
    "            line_count += 1\n",
    "    print(f'Processed {line_count} lines.')"
   ]
  },
  {
   "cell_type": "code",
   "execution_count": null,
   "metadata": {},
   "outputs": [],
   "source": [
    "# for above dataset, we can convert this 1d data to 2d data by creating a y-axis with sqaured of dosage.\n",
    "# so X axis will have dosage and Y axis will have dosage**2 and label will be cured/not cured. \n",
    "# Based on this 2d data, we can create SVC as usual and perform predictions.\n",
    "\n",
    "# More terminologies better explained in video then implementation\n",
    "\n",
    "# polynomial kernel\n",
    "# radial kernel\n",
    "# kernel trick"
   ]
  }
 ],
 "metadata": {
  "kernelspec": {
   "display_name": "Python 3",
   "language": "python",
   "name": "python3"
  },
  "language_info": {
   "codemirror_mode": {
    "name": "ipython",
    "version": 3
   },
   "file_extension": ".py",
   "mimetype": "text/x-python",
   "name": "python",
   "nbconvert_exporter": "python",
   "pygments_lexer": "ipython3",
   "version": "3.7.4"
  }
 },
 "nbformat": 4,
 "nbformat_minor": 2
}
